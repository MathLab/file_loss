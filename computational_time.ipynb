{
 "metadata": {
  "name": "",
  "signature": "sha256:b6614ff4940ad23b3d12567f095603e8a7afb27d61cb60a931cd1384cff490e2"
 },
 "nbformat": 3,
 "nbformat_minor": 0,
 "worksheets": [
  {
   "cells": [
    {
     "cell_type": "markdown",
     "metadata": {},
     "source": [
      "# Computational time of the file loss probability"
     ]
    },
    {
     "cell_type": "code",
     "collapsed": false,
     "input": [
      "import file_loss as fl\n",
      "import timeit as timeit"
     ],
     "language": "python",
     "metadata": {},
     "outputs": [],
     "prompt_number": 2
    },
    {
     "cell_type": "markdown",
     "metadata": {},
     "source": [
      "## Time as a function of $m$"
     ]
    },
    {
     "cell_type": "code",
     "collapsed": false,
     "input": [
      "m = 1000 # The number of disks in the system\n",
      "disks = range(m)\n",
      "\n",
      "eps = 0.00001\n",
      "reliability = dict(zip(disks, [uniform(0.99,1-eps) for i in disks]))\n",
      "\n",
      "n = 12 # number of chunks\n",
      "d = 3 # number of chunks until the file is lost\n",
      "spread_factor = 11 # spread factor\n",
      "\n",
      "print(\"1000 disks\")\n",
      "tic = timeit.default_timer()\n",
      "p2 = fl.probability_file_loss_matrix(range(m), n, spread_factor, d, reliability)\n",
      "toc = timeit.default_timer()\n",
      "print p2, \"in \", toc-tic,\" seconds.\"\n",
      "print(\"\")\n",
      "#------------------------------------------------------------------------------------------\n",
      "\n",
      "m = 2000 # The number of disks in the system\n",
      "disks = range(m)\n",
      "reliability = dict(zip(disks, [uniform(0.99,1-eps) for i in disks]))\n",
      "\n",
      "print(\"2000 disks\")\n",
      "tic = timeit.default_timer()\n",
      "p2 = fl.probability_file_loss_matrix(range(m), n, spread_factor, d, reliability)\n",
      "toc = timeit.default_timer()\n",
      "print p2, \"in \", toc-tic,\" seconds.\"\n",
      "print(\"\")\n",
      "#------------------------------------------------------------------------------------------\n",
      "\n",
      "m = 3000 # The number of disks in the system\n",
      "disks = range(m)\n",
      "reliability = dict(zip(disks, [uniform(0.99,1-eps) for i in disks]))\n",
      "\n",
      "print(\"3000 disks\")\n",
      "tic = timeit.default_timer()\n",
      "p2 = fl.probability_file_loss_matrix(range(m), n, spread_factor, d, reliability)\n",
      "toc = timeit.default_timer()\n",
      "print p2, \"in \", toc-tic,\" seconds.\""
     ],
     "language": "python",
     "metadata": {},
     "outputs": [
      {
       "output_type": "stream",
       "stream": "stdout",
       "text": [
        "1000 disks\n",
        "2.58035983978e-05"
       ]
      },
      {
       "output_type": "stream",
       "stream": "stdout",
       "text": [
        " in  0.558475971222  seconds.\n",
        "\n",
        "2000 disks\n",
        "2.68158010795e-05"
       ]
      },
      {
       "output_type": "stream",
       "stream": "stdout",
       "text": [
        " in  0.958872079849  seconds.\n",
        "\n",
        "3000 disks\n",
        "2.76433733321e-05"
       ]
      },
      {
       "output_type": "stream",
       "stream": "stdout",
       "text": [
        " in  1.17783498764  seconds.\n"
       ]
      }
     ],
     "prompt_number": 8
    },
    {
     "cell_type": "markdown",
     "metadata": {},
     "source": [
      "## Time as a function of the spread factor"
     ]
    },
    {
     "cell_type": "markdown",
     "metadata": {},
     "source": [
      "### $n = 12$"
     ]
    },
    {
     "cell_type": "code",
     "collapsed": false,
     "input": [
      "m = 1000 # The number of disks in the system\n",
      "disks = range(m)\n",
      "\n",
      "eps = 0.00001\n",
      "reliability = dict(zip(disks, [uniform(0.99,1-eps) for i in disks]))\n",
      "\n",
      "n = 12 # number of chunks\n",
      "d = 3 # number of chunks until the file is lost\n",
      "spread_factor = 11 # spread factor\n",
      "\n",
      "print(\"s = n  - 1\")\n",
      "tic = timeit.default_timer()\n",
      "p2 = fl.probability_file_loss_matrix(range(m), n, spread_factor, d, reliability)\n",
      "toc = timeit.default_timer()\n",
      "print p2, \"in \", toc-tic,\" seconds.\"\n",
      "print(\"\")\n",
      "#------------------------------------------------------------------------------------------\n",
      "\n",
      "spread_factor = 12 # spread factor multiply by two\n",
      "print(\"s = n\")\n",
      "tic = timeit.default_timer()\n",
      "p2 = fl.probability_file_loss_matrix(range(m), n, spread_factor, d, reliability)\n",
      "toc = timeit.default_timer()\n",
      "print p2, \"in \", toc-tic,\" seconds.\"\n",
      "print(\"\")\n",
      "#------------------------------------------------------------------------------------------\n",
      "\n",
      "spread_factor = 13 # spread factor multiply by two\n",
      "print(\"s = n + 1\")\n",
      "tic = timeit.default_timer()\n",
      "p2 = fl.probability_file_loss_matrix(range(m), n, spread_factor, d, reliability)\n",
      "toc = timeit.default_timer()\n",
      "print p2, \"in \", toc-tic,\" seconds.\"\n",
      "print(\"\")\n",
      "#------------------------------------------------------------------------------------------\n",
      "\n",
      "spread_factor = 14 # spread factor multiply by two\n",
      "print(\"s = n + 2\")\n",
      "tic = timeit.default_timer()\n",
      "p2 = fl.probability_file_loss_matrix(range(m), n, spread_factor, d, reliability)\n",
      "toc = timeit.default_timer()\n",
      "print p2, \"in \", toc-tic,\" seconds.\"\n",
      "print(\"\")\n",
      "#------------------------------------------------------------------------------------------\n",
      "\n",
      "spread_factor = 15 # spread factor multiply by two\n",
      "print(\"s = n + 3\")\n",
      "tic = timeit.default_timer()\n",
      "p2 = fl.probability_file_loss_matrix(range(m), n, spread_factor, d, reliability)\n",
      "toc = timeit.default_timer()\n",
      "print p2, \"in \", toc-tic,\" seconds.\"\n",
      "print(\"\")\n",
      "#------------------------------------------------------------------------------------------\n",
      "\n",
      "spread_factor = 16 # spread factor multiply by two\n",
      "print(\"s = n + 4\")\n",
      "tic = timeit.default_timer()\n",
      "p2 = fl.probability_file_loss_matrix(range(m), n, spread_factor, d, reliability)\n",
      "toc = timeit.default_timer()\n",
      "print p2, \"in \", toc-tic,\" seconds.\"\n",
      "print(\"\")\n",
      "#------------------------------------------------------------------------------------------\n",
      "\n",
      "spread_factor = 17 # spread factor multiply by two\n",
      "print(\"s = n + 5\")\n",
      "tic = timeit.default_timer()\n",
      "p2 = fl.probability_file_loss_matrix(range(m), n, spread_factor, d, reliability)\n",
      "toc = timeit.default_timer()\n",
      "print p2, \"in \", toc-tic,\" seconds.\"\n",
      "print(\"\")\n",
      "#------------------------------------------------------------------------------------------"
     ],
     "language": "python",
     "metadata": {},
     "outputs": [
      {
       "output_type": "stream",
       "stream": "stdout",
       "text": [
        "s = n  - 1\n",
        "2.73798240488e-05"
       ]
      },
      {
       "output_type": "stream",
       "stream": "stdout",
       "text": [
        " in  0.302498817444  seconds.\n",
        "\n",
        "s = n\n",
        "2.73376605774e-05"
       ]
      },
      {
       "output_type": "stream",
       "stream": "stdout",
       "text": [
        " in  3.83029699326  seconds.\n",
        "\n",
        "s = n + 1\n",
        "2.7305646514e-05"
       ]
      },
      {
       "output_type": "stream",
       "stream": "stdout",
       "text": [
        " in  18.665583849  seconds.\n",
        "\n",
        "s = n + 2\n",
        "2.72874551261e-05"
       ]
      },
      {
       "output_type": "stream",
       "stream": "stdout",
       "text": [
        " in  77.7437400818  seconds.\n",
        "\n",
        "s = n + 3\n",
        "2.72791273641e-05"
       ]
      },
      {
       "output_type": "stream",
       "stream": "stdout",
       "text": [
        " in  331.210453987  seconds.\n",
        "\n",
        "s = n + 4\n",
        "2.72748817406e-05"
       ]
      },
      {
       "output_type": "stream",
       "stream": "stdout",
       "text": [
        " in  1079.29454613  seconds.\n",
        "\n",
        "s = n + 5\n",
        "2.72721819829e-05"
       ]
      },
      {
       "output_type": "stream",
       "stream": "stdout",
       "text": [
        " in  3051.59104109  seconds.\n",
        "\n"
       ]
      }
     ],
     "prompt_number": 12
    },
    {
     "cell_type": "markdown",
     "metadata": {},
     "source": [
      "NB : The reliabiliy for a fixed number of chunks (n = 12), a fixed number of disks (m = 1000), and a fixed threshold (d = 3), the reliability (or file loss probability) decreases as the spread factor grows"
     ]
    },
    {
     "cell_type": "code",
     "collapsed": false,
     "input": [
      "m = 2000 # The number of disks in the system\n",
      "disks = range(m)\n",
      "\n",
      "eps = 0.00001\n",
      "reliability = dict(zip(disks, [uniform(0.99,1-eps) for i in disks]))\n",
      "\n",
      "n = 12 # number of chunks\n",
      "d = 3 # number of chunks until the file is lost\n",
      "spread_factor = 11 # spread factor\n",
      "\n",
      "print(\"s = n  - 1\")\n",
      "tic = timeit.default_timer()\n",
      "p2 = fl.probability_file_loss_matrix(range(m), n, spread_factor, d, reliability)\n",
      "toc = timeit.default_timer()\n",
      "print p2, \"in \", toc-tic,\" seconds.\"\n",
      "print(\"\")\n",
      "#------------------------------------------------------------------------------------------\n",
      "\n",
      "spread_factor = 12 # spread factor multiply by two\n",
      "print(\"s = n\")\n",
      "tic = timeit.default_timer()\n",
      "p2 = fl.probability_file_loss_matrix(range(m), n, spread_factor, d, reliability)\n",
      "toc = timeit.default_timer()\n",
      "print p2, \"in \", toc-tic,\" seconds.\"\n",
      "print(\"\")\n",
      "#------------------------------------------------------------------------------------------\n",
      "\n",
      "spread_factor = 13 # spread factor multiply by two\n",
      "print(\"s = n + 1\")\n",
      "tic = timeit.default_timer()\n",
      "p2 = fl.probability_file_loss_matrix(range(m), n, spread_factor, d, reliability)\n",
      "toc = timeit.default_timer()\n",
      "print p2, \"in \", toc-tic,\" seconds.\"\n",
      "print(\"\")\n",
      "#------------------------------------------------------------------------------------------\n",
      "\n",
      "spread_factor = 14 # spread factor multiply by two\n",
      "print(\"s = n + 2\")\n",
      "tic = timeit.default_timer()\n",
      "p2 = fl.probability_file_loss_matrix(range(m), n, spread_factor, d, reliability)\n",
      "toc = timeit.default_timer()\n",
      "print p2, \"in \", toc-tic,\" seconds.\"\n",
      "print(\"\")\n",
      "#------------------------------------------------------------------------------------------\n",
      "\n",
      "spread_factor = 15 # spread factor multiply by two\n",
      "print(\"s = n + 3\")\n",
      "tic = timeit.default_timer()\n",
      "p2 = fl.probability_file_loss_matrix(range(m), n, spread_factor, d, reliability)\n",
      "toc = timeit.default_timer()\n",
      "print p2, \"in \", toc-tic,\" seconds.\"\n",
      "print(\"\")\n",
      "#------------------------------------------------------------------------------------------\n",
      "\n",
      "spread_factor = 16 # spread factor multiply by two\n",
      "print(\"s = n + 4\")\n",
      "tic = timeit.default_timer()\n",
      "p2 = fl.probability_file_loss_matrix(range(m), n, spread_factor, d, reliability)\n",
      "toc = timeit.default_timer()\n",
      "print p2, \"in \", toc-tic,\" seconds.\"\n",
      "print(\"\")\n",
      "#------------------------------------------------------------------------------------------\n",
      "\n",
      "spread_factor = 17 # spread factor multiply by two\n",
      "print(\"s = n + 5\")\n",
      "tic = timeit.default_timer()\n",
      "p2 = fl.probability_file_loss_matrix(range(m), n, spread_factor, d, reliability)\n",
      "toc = timeit.default_timer()\n",
      "print p2, \"in \", toc-tic,\" seconds.\"\n",
      "print(\"\")\n",
      "#------------------------------------------------------------------------------------------"
     ],
     "language": "python",
     "metadata": {},
     "outputs": [
      {
       "output_type": "stream",
       "stream": "stdout",
       "text": [
        "s = n  - 1\n",
        "2.6453040265e-05"
       ]
      },
      {
       "output_type": "stream",
       "stream": "stdout",
       "text": [
        " in  0.702434062958  seconds.\n",
        "\n",
        "s = n\n",
        "2.64786864055e-05"
       ]
      },
      {
       "output_type": "stream",
       "stream": "stdout",
       "text": [
        " in  7.29009103775  seconds.\n",
        "\n",
        "s = n + 1\n",
        "2.64851903413e-05"
       ]
      },
      {
       "output_type": "stream",
       "stream": "stdout",
       "text": [
        " in  43.32842803  seconds.\n",
        "\n",
        "s = n + 2\n",
        "2.64861414051e-05"
       ]
      },
      {
       "output_type": "stream",
       "stream": "stdout",
       "text": [
        " in  210.45062995  seconds.\n",
        "\n",
        "s = n + 3\n",
        "2.64814774279e-05"
       ]
      },
      {
       "output_type": "stream",
       "stream": "stdout",
       "text": [
        " in  735.585927963  seconds.\n",
        "\n",
        "s = n + 4\n",
        "2.64945677768e-05"
       ]
      },
      {
       "output_type": "stream",
       "stream": "stdout",
       "text": [
        " in  2735.91561985  seconds.\n",
        "\n",
        "s = n + 5\n",
        "2.65030210005e-05"
       ]
      },
      {
       "output_type": "stream",
       "stream": "stdout",
       "text": [
        " in  6675.65911913  seconds.\n",
        "\n"
       ]
      }
     ],
     "prompt_number": 13
    },
    {
     "cell_type": "markdown",
     "metadata": {},
     "source": [
      "NB : From m = 1000 to m = 2000, the reliability (or file loss probability) decreases. But, as the spread factor grows, the reliability grows. (n = 12 and d = 3)"
     ]
    },
    {
     "cell_type": "code",
     "collapsed": false,
     "input": [
      "m = 3000 # The number of disks in the system\n",
      "disks = range(m)\n",
      "\n",
      "eps = 0.00001\n",
      "reliability = dict(zip(disks, [uniform(0.99,1-eps) for i in disks]))\n",
      "\n",
      "n = 12 # number of chunks\n",
      "d = 3 # number of chunks until the file is lost\n",
      "spread_factor = 11 # spread factor\n",
      "\n",
      "print(\"s = n  - 1\")\n",
      "tic = timeit.default_timer()\n",
      "p2 = fl.probability_file_loss_matrix(range(m), n, spread_factor, d, reliability)\n",
      "toc = timeit.default_timer()\n",
      "print p2, \"in \", toc-tic,\" seconds.\"\n",
      "print(\"\")\n",
      "#------------------------------------------------------------------------------------------\n",
      "\n",
      "spread_factor = 12 # spread factor multiply by two\n",
      "print(\"s = n\")\n",
      "tic = timeit.default_timer()\n",
      "p2 = fl.probability_file_loss_matrix(range(m), n, spread_factor, d, reliability)\n",
      "toc = timeit.default_timer()\n",
      "print p2, \"in \", toc-tic,\" seconds.\"\n",
      "print(\"\")\n",
      "#------------------------------------------------------------------------------------------\n",
      "\n",
      "spread_factor = 13 # spread factor multiply by two\n",
      "print(\"s = n + 1\")\n",
      "tic = timeit.default_timer()\n",
      "p2 = fl.probability_file_loss_matrix(range(m), n, spread_factor, d, reliability)\n",
      "toc = timeit.default_timer()\n",
      "print p2, \"in \", toc-tic,\" seconds.\"\n",
      "print(\"\")\n",
      "#------------------------------------------------------------------------------------------\n",
      "\n",
      "spread_factor = 14 # spread factor multiply by two\n",
      "print(\"s = n + 2\")\n",
      "tic = timeit.default_timer()\n",
      "p2 = fl.probability_file_loss_matrix(range(m), n, spread_factor, d, reliability)\n",
      "toc = timeit.default_timer()\n",
      "print p2, \"in \", toc-tic,\" seconds.\"\n",
      "print(\"\")\n",
      "#------------------------------------------------------------------------------------------\n",
      "\n",
      "spread_factor = 15 # spread factor multiply by two\n",
      "print(\"s = n + 3\")\n",
      "tic = timeit.default_timer()\n",
      "p2 = fl.probability_file_loss_matrix(range(m), n, spread_factor, d, reliability)\n",
      "toc = timeit.default_timer()\n",
      "print p2, \"in \", toc-tic,\" seconds.\"\n",
      "print(\"\")\n",
      "#------------------------------------------------------------------------------------------\n",
      "\n",
      "spread_factor = 16 # spread factor multiply by two\n",
      "print(\"s = n + 4\")\n",
      "tic = timeit.default_timer()\n",
      "p2 = fl.probability_file_loss_matrix(range(m), n, spread_factor, d, reliability)\n",
      "toc = timeit.default_timer()\n",
      "print p2, \"in \", toc-tic,\" seconds.\"\n",
      "print(\"\")\n",
      "#------------------------------------------------------------------------------------------\n",
      "\n",
      "spread_factor = 17 # spread factor multiply by two\n",
      "print(\"s = n + 5\")\n",
      "tic = timeit.default_timer()\n",
      "p2 = fl.probability_file_loss_matrix(range(m), n, spread_factor, d, reliability)\n",
      "toc = timeit.default_timer()\n",
      "print p2, \"in \", toc-tic,\" seconds.\"\n",
      "print(\"\")\n",
      "#------------------------------------------------------------------------------------------"
     ],
     "language": "python",
     "metadata": {},
     "outputs": [
      {
       "output_type": "stream",
       "stream": "stdout",
       "text": [
        "s = n  - 1\n",
        "2.72043137049e-05"
       ]
      },
      {
       "output_type": "stream",
       "stream": "stdout",
       "text": [
        " in  0.808199882507  seconds.\n",
        "\n",
        "s = n\n",
        "2.72232885972e-05"
       ]
      },
      {
       "output_type": "stream",
       "stream": "stdout",
       "text": [
        " in  9.17109298706  seconds.\n",
        "\n",
        "s = n + 1\n",
        "2.72289368009e-05"
       ]
      },
      {
       "output_type": "stream",
       "stream": "stdout",
       "text": [
        " in  66.6648499966  seconds.\n",
        "\n",
        "s = n + 2\n",
        "2.72267226058e-05"
       ]
      },
      {
       "output_type": "stream",
       "stream": "stdout",
       "text": [
        " in  332.348549128  seconds.\n",
        "\n",
        "s = n + 3\n",
        "2.72183085809e-05"
       ]
      },
      {
       "output_type": "stream",
       "stream": "stdout",
       "text": [
        " in  1133.57801795  seconds.\n",
        "\n",
        "s = n + 4\n",
        "2.72090252375e-05"
       ]
      },
      {
       "output_type": "stream",
       "stream": "stdout",
       "text": [
        " in  3194.55942321  seconds.\n",
        "\n",
        "s = n + 5\n",
        "2.72057927788e-05"
       ]
      },
      {
       "output_type": "stream",
       "stream": "stdout",
       "text": [
        " in  10256.3326392  seconds.\n",
        "\n"
       ]
      }
     ],
     "prompt_number": 14
    },
    {
     "cell_type": "markdown",
     "metadata": {},
     "source": [
      "### $n = 13 $"
     ]
    },
    {
     "cell_type": "code",
     "collapsed": false,
     "input": [
      "m = 1000 # The number of disks in the system\n",
      "disks = range(m)\n",
      "\n",
      "eps = 0.00001\n",
      "reliability = dict(zip(disks, [uniform(0.99,1-eps) for i in disks]))\n",
      "\n",
      "n = 13 # number of chunks\n",
      "d = 3 # number of chunks until the file is lost\n",
      "spread_factor = 12 # spread factor\n",
      "\n",
      "print(\"s = n  - 1\")\n",
      "tic = timeit.default_timer()\n",
      "p2 = fl.probability_file_loss_matrix(range(m), n, spread_factor, d, reliability)\n",
      "toc = timeit.default_timer()\n",
      "print p2, \"in \", toc-tic,\" seconds.\"\n",
      "print(\"\")\n",
      "#------------------------------------------------------------------------------------------\n",
      "\n",
      "spread_factor = 13 # spread factor multiply by two\n",
      "print(\"s = n\")\n",
      "tic = timeit.default_timer()\n",
      "p2 = fl.probability_file_loss_matrix(range(m), n, spread_factor, d, reliability)\n",
      "toc = timeit.default_timer()\n",
      "print p2, \"in \", toc-tic,\" seconds.\"\n",
      "print(\"\")\n",
      "#------------------------------------------------------------------------------------------\n",
      "\n",
      "spread_factor = 14 # spread factor multiply by two\n",
      "print(\"s = n + 1\")\n",
      "tic = timeit.default_timer()\n",
      "p2 = fl.probability_file_loss_matrix(range(m), n, spread_factor, d, reliability)\n",
      "toc = timeit.default_timer()\n",
      "print p2, \"in \", toc-tic,\" seconds.\"\n",
      "print(\"\")\n",
      "#------------------------------------------------------------------------------------------\n",
      "\n",
      "spread_factor = 15 # spread factor multiply by two\n",
      "print(\"s = n + 2\")\n",
      "tic = timeit.default_timer()\n",
      "p2 = fl.probability_file_loss_matrix(range(m), n, spread_factor, d, reliability)\n",
      "toc = timeit.default_timer()\n",
      "print p2, \"in \", toc-tic,\" seconds.\"\n",
      "print(\"\")\n",
      "#------------------------------------------------------------------------------------------\n",
      "\n",
      "spread_factor = 16 # spread factor multiply by two\n",
      "print(\"s = n + 3\")\n",
      "tic = timeit.default_timer()\n",
      "p2 = fl.probability_file_loss_matrix(range(m), n, spread_factor, d, reliability)\n",
      "toc = timeit.default_timer()\n",
      "print p2, \"in \", toc-tic,\" seconds.\"\n",
      "print(\"\")\n",
      "#------------------------------------------------------------------------------------------\n",
      "\n",
      "spread_factor = 17 # spread factor multiply by two\n",
      "print(\"s = n + 4\")\n",
      "tic = timeit.default_timer()\n",
      "p2 = fl.probability_file_loss_matrix(range(m), n, spread_factor, d, reliability)\n",
      "toc = timeit.default_timer()\n",
      "print p2, \"in \", toc-tic,\" seconds.\"\n",
      "print(\"\")\n",
      "#------------------------------------------------------------------------------------------\n",
      "\n",
      "spread_factor = 18 # spread factor multiply by two\n",
      "print(\"s = n + 5\")\n",
      "tic = timeit.default_timer()\n",
      "p2 = fl.probability_file_loss_matrix(range(m), n, spread_factor, d, reliability)\n",
      "toc = timeit.default_timer()\n",
      "print p2, \"in \", toc-tic,\" seconds.\"\n",
      "print(\"\")\n",
      "#------------------------------------------------------------------------------------------"
     ],
     "language": "python",
     "metadata": {},
     "outputs": [
      {
       "output_type": "stream",
       "stream": "stdout",
       "text": [
        "s = n  - 1\n",
        "3.24381584103e-05"
       ]
      },
      {
       "output_type": "stream",
       "stream": "stdout",
       "text": [
        " in  0.344460964203  seconds.\n",
        "\n",
        "s = n\n",
        "3.24627372954e-05"
       ]
      },
      {
       "output_type": "stream",
       "stream": "stdout",
       "text": [
        " in  3.82796096802  seconds.\n",
        "\n",
        "s = n + 1\n",
        "3.24696534965e-05"
       ]
      },
      {
       "output_type": "stream",
       "stream": "stdout",
       "text": [
        " in  25.7067270279  seconds.\n",
        "\n",
        "s = n + 2\n",
        "3.24745078816e-05"
       ]
      },
      {
       "output_type": "stream",
       "stream": "stdout",
       "text": [
        " in  118.424958944  seconds.\n",
        "\n",
        "s = n + 3\n",
        "3.24834175067e-05"
       ]
      },
      {
       "output_type": "stream",
       "stream": "stdout",
       "text": [
        " in  476.244328976  seconds.\n",
        "\n",
        "s = n + 4\n",
        "3.24972058182e-05"
       ]
      },
      {
       "output_type": "stream",
       "stream": "stdout",
       "text": [
        " in  1596.37013006  seconds.\n",
        "\n",
        "s = n + 5\n",
        "3.25031155324e-05"
       ]
      },
      {
       "output_type": "stream",
       "stream": "stdout",
       "text": [
        " in  4810.76470399  seconds.\n",
        "\n"
       ]
      }
     ],
     "prompt_number": 15
    },
    {
     "cell_type": "code",
     "collapsed": false,
     "input": [
      "m = 2000 # The number of disks in the system\n",
      "disks = range(m)\n",
      "\n",
      "eps = 0.00001\n",
      "reliability = dict(zip(disks, [uniform(0.99,1-eps) for i in disks]))\n",
      "\n",
      "n = 13 # number of chunks\n",
      "d = 3 # number of chunks until the file is lost\n",
      "spread_factor = 12 # spread factor\n",
      "\n",
      "print(\"s = n  - 1\")\n",
      "tic = timeit.default_timer()\n",
      "p2 = fl.probability_file_loss_matrix(range(m), n, spread_factor, d, reliability)\n",
      "toc = timeit.default_timer()\n",
      "print p2, \"in \", toc-tic,\" seconds.\"\n",
      "print(\"\")\n",
      "#------------------------------------------------------------------------------------------\n",
      "\n",
      "spread_factor = 13 # spread factor multiply by two\n",
      "print(\"s = n\")\n",
      "tic = timeit.default_timer()\n",
      "p2 = fl.probability_file_loss_matrix(range(m), n, spread_factor, d, reliability)\n",
      "toc = timeit.default_timer()\n",
      "print p2, \"in \", toc-tic,\" seconds.\"\n",
      "print(\"\")\n",
      "#------------------------------------------------------------------------------------------\n",
      "\n",
      "spread_factor = 14 # spread factor multiply by two\n",
      "print(\"s = n + 1\")\n",
      "tic = timeit.default_timer()\n",
      "p2 = fl.probability_file_loss_matrix(range(m), n, spread_factor, d, reliability)\n",
      "toc = timeit.default_timer()\n",
      "print p2, \"in \", toc-tic,\" seconds.\"\n",
      "print(\"\")\n",
      "#------------------------------------------------------------------------------------------\n",
      "\n",
      "spread_factor = 15 # spread factor multiply by two\n",
      "print(\"s = n + 2\")\n",
      "tic = timeit.default_timer()\n",
      "p2 = fl.probability_file_loss_matrix(range(m), n, spread_factor, d, reliability)\n",
      "toc = timeit.default_timer()\n",
      "print p2, \"in \", toc-tic,\" seconds.\"\n",
      "print(\"\")\n",
      "#------------------------------------------------------------------------------------------\n",
      "\n",
      "spread_factor = 16 # spread factor multiply by two\n",
      "print(\"s = n + 3\")\n",
      "tic = timeit.default_timer()\n",
      "p2 = fl.probability_file_loss_matrix(range(m), n, spread_factor, d, reliability)\n",
      "toc = timeit.default_timer()\n",
      "print p2, \"in \", toc-tic,\" seconds.\"\n",
      "print(\"\")\n",
      "#------------------------------------------------------------------------------------------\n",
      "\n",
      "spread_factor = 17 # spread factor multiply by two\n",
      "print(\"s = n + 4\")\n",
      "tic = timeit.default_timer()\n",
      "p2 = fl.probability_file_loss_matrix(range(m), n, spread_factor, d, reliability)\n",
      "toc = timeit.default_timer()\n",
      "print p2, \"in \", toc-tic,\" seconds.\"\n",
      "print(\"\")\n",
      "#------------------------------------------------------------------------------------------\n",
      "\n",
      "spread_factor = 18 # spread factor multiply by two\n",
      "print(\"s = n + 5\")\n",
      "tic = timeit.default_timer()\n",
      "p2 = fl.probability_file_loss_matrix(range(m), n, spread_factor, d, reliability)\n",
      "toc = timeit.default_timer()\n",
      "print p2, \"in \", toc-tic,\" seconds.\"\n",
      "print(\"\")\n",
      "#------------------------------------------------------------------------------------------"
     ],
     "language": "python",
     "metadata": {},
     "outputs": [
      {
       "output_type": "stream",
       "stream": "stdout",
       "text": [
        "s = n  - 1\n",
        "3.54285688463e-05"
       ]
      },
      {
       "output_type": "stream",
       "stream": "stdout",
       "text": [
        " in  0.508182048798  seconds.\n",
        "\n",
        "s = n\n",
        "3.53966333438e-05"
       ]
      },
      {
       "output_type": "stream",
       "stream": "stdout",
       "text": [
        " in  6.27196216583  seconds.\n",
        "\n",
        "s = n + 1\n",
        "3.53654365177e-05"
       ]
      },
      {
       "output_type": "stream",
       "stream": "stdout",
       "text": [
        " in  46.8646941185  seconds.\n",
        "\n",
        "s = n + 2\n",
        "3.5340003083e-05"
       ]
      },
      {
       "output_type": "stream",
       "stream": "stdout",
       "text": [
        " in  223.97429204  seconds.\n",
        "\n",
        "s = n + 3\n",
        "3.53237426725e-05"
       ]
      },
      {
       "output_type": "stream",
       "stream": "stdout",
       "text": [
        " in  943.101552963  seconds.\n",
        "\n",
        "s = n + 4\n",
        "3.53263249065e-05"
       ]
      },
      {
       "output_type": "stream",
       "stream": "stdout",
       "text": [
        " in  3171.84316087  seconds.\n",
        "\n",
        "s = n + 5\n",
        "3.53217464891e-05"
       ]
      },
      {
       "output_type": "stream",
       "stream": "stdout",
       "text": [
        " in  9582.61722493  seconds.\n",
        "\n"
       ]
      }
     ],
     "prompt_number": 16
    },
    {
     "cell_type": "code",
     "collapsed": false,
     "input": [
      "m = 3000 # The number of disks in the system\n",
      "disks = range(m)\n",
      "\n",
      "eps = 0.00001\n",
      "reliability = dict(zip(disks, [uniform(0.99,1-eps) for i in disks]))\n",
      "\n",
      "n = 13 # number of chunks\n",
      "d = 3 # number of chunks until the file is lost\n",
      "spread_factor = 12 # spread factor\n",
      "\n",
      "print(\"s = n  - 1\")\n",
      "tic = timeit.default_timer()\n",
      "p2 = fl.probability_file_loss_matrix(range(m), n, spread_factor, d, reliability)\n",
      "toc = timeit.default_timer()\n",
      "print p2, \"in \", toc-tic,\" seconds.\"\n",
      "print(\"\")\n",
      "#------------------------------------------------------------------------------------------\n",
      "\n",
      "spread_factor = 13 # spread factor multiply by two\n",
      "print(\"s = n\")\n",
      "tic = timeit.default_timer()\n",
      "p2 = fl.probability_file_loss_matrix(range(m), n, spread_factor, d, reliability)\n",
      "toc = timeit.default_timer()\n",
      "print p2, \"in \", toc-tic,\" seconds.\"\n",
      "print(\"\")\n",
      "#------------------------------------------------------------------------------------------\n",
      "\n",
      "spread_factor = 14 # spread factor multiply by two\n",
      "print(\"s = n + 1\")\n",
      "tic = timeit.default_timer()\n",
      "p2 = fl.probability_file_loss_matrix(range(m), n, spread_factor, d, reliability)\n",
      "toc = timeit.default_timer()\n",
      "print p2, \"in \", toc-tic,\" seconds.\"\n",
      "print(\"\")\n",
      "#------------------------------------------------------------------------------------------\n",
      "\n",
      "spread_factor = 15 # spread factor multiply by two\n",
      "print(\"s = n + 2\")\n",
      "tic = timeit.default_timer()\n",
      "p2 = fl.probability_file_loss_matrix(range(m), n, spread_factor, d, reliability)\n",
      "toc = timeit.default_timer()\n",
      "print p2, \"in \", toc-tic,\" seconds.\"\n",
      "print(\"\")\n",
      "#------------------------------------------------------------------------------------------\n",
      "\n",
      "spread_factor = 16 # spread factor multiply by two\n",
      "print(\"s = n + 3\")\n",
      "tic = timeit.default_timer()\n",
      "p2 = fl.probability_file_loss_matrix(range(m), n, spread_factor, d, reliability)\n",
      "toc = timeit.default_timer()\n",
      "print p2, \"in \", toc-tic,\" seconds.\"\n",
      "print(\"\")\n",
      "#------------------------------------------------------------------------------------------\n",
      "\n",
      "spread_factor = 17 # spread factor multiply by two\n",
      "print(\"s = n + 4\")\n",
      "tic = timeit.default_timer()\n",
      "p2 = fl.probability_file_loss_matrix(range(m), n, spread_factor, d, reliability)\n",
      "toc = timeit.default_timer()\n",
      "print p2, \"in \", toc-tic,\" seconds.\"\n",
      "print(\"\")\n",
      "#------------------------------------------------------------------------------------------\n",
      "\n",
      "spread_factor = 18 # spread factor multiply by two\n",
      "print(\"s = n + 5\")\n",
      "tic = timeit.default_timer()\n",
      "p2 = fl.probability_file_loss_matrix(range(m), n, spread_factor, d, reliability)\n",
      "toc = timeit.default_timer()\n",
      "print p2, \"in \", toc-tic,\" seconds.\"\n",
      "print(\"\")\n",
      "#------------------------------------------------------------------------------------------"
     ],
     "language": "python",
     "metadata": {},
     "outputs": [
      {
       "output_type": "stream",
       "stream": "stdout",
       "text": [
        "s = n  - 1\n",
        "3.27752573211e-05"
       ]
      },
      {
       "output_type": "stream",
       "stream": "stdout",
       "text": [
        " in  1.12040996552  seconds.\n",
        "\n",
        "s = n\n",
        "3.27775448615e-05"
       ]
      },
      {
       "output_type": "stream",
       "stream": "stdout",
       "text": [
        " in  10.1542389393  seconds.\n",
        "\n",
        "s = n + 1\n",
        "3.2778159041e-05"
       ]
      },
      {
       "output_type": "stream",
       "stream": "stdout",
       "text": [
        " in  72.8673970699  seconds.\n",
        "\n",
        "s = n + 2\n",
        "3.27795718942e-05"
       ]
      },
      {
       "output_type": "stream",
       "stream": "stdout",
       "text": [
        " in  349.596843004  seconds.\n",
        "\n",
        "s = n + 3\n",
        "3.28014213554e-05"
       ]
      },
      {
       "output_type": "stream",
       "stream": "stdout",
       "text": [
        " in  1372.84663701  seconds.\n",
        "\n",
        "s = n + 4\n",
        "3.28115819987e-05"
       ]
      },
      {
       "output_type": "stream",
       "stream": "stdout",
       "text": [
        " in  4795.07510114  seconds.\n",
        "\n",
        "s = n + 5\n",
        "3.28202741724e-05"
       ]
      },
      {
       "output_type": "stream",
       "stream": "stdout",
       "text": [
        " in  16060.9172699  seconds.\n"
       ]
      },
      {
       "output_type": "stream",
       "stream": "stdout",
       "text": [
        "\n"
       ]
      }
     ],
     "prompt_number": 17
    },
    {
     "cell_type": "markdown",
     "metadata": {},
     "source": [
      "### $n = 14$"
     ]
    },
    {
     "cell_type": "code",
     "collapsed": false,
     "input": [
      "m = 1000 # The number of disks in the system\n",
      "disks = range(m)\n",
      "\n",
      "eps = 0.00001\n",
      "reliability = dict(zip(disks, [uniform(0.99,1-eps) for i in disks]))\n",
      "\n",
      "n = 14 # number of chunks\n",
      "d = 3 # number of chunks until the file is lost\n",
      "spread_factor = 13 # spread factor\n",
      "\n",
      "print(\"s = n  - 1\")\n",
      "tic = timeit.default_timer()\n",
      "p2 = fl.probability_file_loss_matrix(range(m), n, spread_factor, d, reliability)\n",
      "toc = timeit.default_timer()\n",
      "print p2, \"in \", toc-tic,\" seconds.\"\n",
      "print(\"\")\n",
      "#------------------------------------------------------------------------------------------\n",
      "\n",
      "spread_factor = 14 # spread factor multiply by two\n",
      "print(\"s = n\")\n",
      "tic = timeit.default_timer()\n",
      "p2 = fl.probability_file_loss_matrix(range(m), n, spread_factor, d, reliability)\n",
      "toc = timeit.default_timer()\n",
      "print p2, \"in \", toc-tic,\" seconds.\"\n",
      "print(\"\")\n",
      "#------------------------------------------------------------------------------------------\n",
      "\n",
      "spread_factor = 15 # spread factor multiply by two\n",
      "print(\"s = n + 1\")\n",
      "tic = timeit.default_timer()\n",
      "p2 = fl.probability_file_loss_matrix(range(m), n, spread_factor, d, reliability)\n",
      "toc = timeit.default_timer()\n",
      "print p2, \"in \", toc-tic,\" seconds.\"\n",
      "print(\"\")\n",
      "#------------------------------------------------------------------------------------------\n",
      "\n",
      "spread_factor = 16 # spread factor multiply by two\n",
      "print(\"s = n + 2\")\n",
      "tic = timeit.default_timer()\n",
      "p2 = fl.probability_file_loss_matrix(range(m), n, spread_factor, d, reliability)\n",
      "toc = timeit.default_timer()\n",
      "print p2, \"in \", toc-tic,\" seconds.\"\n",
      "print(\"\")\n",
      "#------------------------------------------------------------------------------------------\n",
      "\n",
      "spread_factor = 17 # spread factor multiply by two\n",
      "print(\"s = n + 3\")\n",
      "tic = timeit.default_timer()\n",
      "p2 = fl.probability_file_loss_matrix(range(m), n, spread_factor, d, reliability)\n",
      "toc = timeit.default_timer()\n",
      "print p2, \"in \", toc-tic,\" seconds.\"\n",
      "print(\"\")\n",
      "#------------------------------------------------------------------------------------------\n",
      "\n",
      "spread_factor = 18 # spread factor multiply by two\n",
      "print(\"s = n + 4\")\n",
      "tic = timeit.default_timer()\n",
      "p2 = fl.probability_file_loss_matrix(range(m), n, spread_factor, d, reliability)\n",
      "toc = timeit.default_timer()\n",
      "print p2, \"in \", toc-tic,\" seconds.\"\n",
      "print(\"\")\n",
      "#------------------------------------------------------------------------------------------\n",
      "\n",
      "spread_factor = 19 # spread factor multiply by two\n",
      "print(\"s = n + 5\")\n",
      "tic = timeit.default_timer()\n",
      "p2 = fl.probability_file_loss_matrix(range(m), n, spread_factor, d, reliability)\n",
      "toc = timeit.default_timer()\n",
      "print p2, \"in \", toc-tic,\" seconds.\"\n",
      "print(\"\")\n",
      "#------------------------------------------------------------------------------------------"
     ],
     "language": "python",
     "metadata": {},
     "outputs": [
      {
       "output_type": "stream",
       "stream": "stdout",
       "text": [
        "s = n  - 1\n",
        "4.81364351806e-05"
       ]
      },
      {
       "output_type": "stream",
       "stream": "stdout",
       "text": [
        " in  0.860674142838  seconds.\n",
        "\n",
        "s = n\n",
        "4.81142618351e-05"
       ]
      },
      {
       "output_type": "stream",
       "stream": "stdout",
       "text": [
        " in  5.06802797318  seconds.\n",
        "\n",
        "s = n + 1\n",
        "4.81065790664e-05"
       ]
      },
      {
       "output_type": "stream",
       "stream": "stdout",
       "text": [
        " in  32.6685800552  seconds.\n",
        "\n",
        "s = n + 2\n",
        "4.80928837511e-05"
       ]
      },
      {
       "output_type": "stream",
       "stream": "stdout",
       "text": [
        " in  175.167725086  seconds.\n",
        "\n",
        "s = n + 3\n",
        "4.8079919483e-05"
       ]
      },
      {
       "output_type": "stream",
       "stream": "stdout",
       "text": [
        " in  742.992751837  seconds.\n",
        "\n",
        "s = n + 4\n",
        "4.8063962324e-05"
       ]
      },
      {
       "output_type": "stream",
       "stream": "stdout",
       "text": [
        " in  2638.95569301  seconds.\n",
        "\n",
        "s = n + 5\n",
        "4.80597016698e-05"
       ]
      },
      {
       "output_type": "stream",
       "stream": "stdout",
       "text": [
        " in  8283.08039999  seconds.\n",
        "\n"
       ]
      }
     ],
     "prompt_number": 18
    },
    {
     "cell_type": "code",
     "collapsed": false,
     "input": [
      "m = 2000 # The number of disks in the system\n",
      "disks = range(m)\n",
      "\n",
      "eps = 0.00001\n",
      "reliability = dict(zip(disks, [uniform(0.99,1-eps) for i in disks]))\n",
      "\n",
      "n = 14 # number of chunks\n",
      "d = 3 # number of chunks until the file is lost\n",
      "spread_factor = 13 # spread factor\n",
      "\n",
      "print(\"s = n  - 1\")\n",
      "tic = timeit.default_timer()\n",
      "p2 = fl.probability_file_loss_matrix(range(m), n, spread_factor, d, reliability)\n",
      "toc = timeit.default_timer()\n",
      "print p2, \"in \", toc-tic,\" seconds.\"\n",
      "print(\"\")\n",
      "#------------------------------------------------------------------------------------------\n",
      "\n",
      "spread_factor = 14 # spread factor multiply by two\n",
      "print(\"s = n\")\n",
      "tic = timeit.default_timer()\n",
      "p2 = fl.probability_file_loss_matrix(range(m), n, spread_factor, d, reliability)\n",
      "toc = timeit.default_timer()\n",
      "print p2, \"in \", toc-tic,\" seconds.\"\n",
      "print(\"\")\n",
      "#------------------------------------------------------------------------------------------\n",
      "\n",
      "spread_factor = 15 # spread factor multiply by two\n",
      "print(\"s = n + 1\")\n",
      "tic = timeit.default_timer()\n",
      "p2 = fl.probability_file_loss_matrix(range(m), n, spread_factor, d, reliability)\n",
      "toc = timeit.default_timer()\n",
      "print p2, \"in \", toc-tic,\" seconds.\"\n",
      "print(\"\")\n",
      "#------------------------------------------------------------------------------------------\n",
      "\n",
      "spread_factor = 16 # spread factor multiply by two\n",
      "print(\"s = n + 2\")\n",
      "tic = timeit.default_timer()\n",
      "p2 = fl.probability_file_loss_matrix(range(m), n, spread_factor, d, reliability)\n",
      "toc = timeit.default_timer()\n",
      "print p2, \"in \", toc-tic,\" seconds.\"\n",
      "print(\"\")\n",
      "#------------------------------------------------------------------------------------------\n",
      "\n",
      "spread_factor = 17 # spread factor multiply by two\n",
      "print(\"s = n + 3\")\n",
      "tic = timeit.default_timer()\n",
      "p2 = fl.probability_file_loss_matrix(range(m), n, spread_factor, d, reliability)\n",
      "toc = timeit.default_timer()\n",
      "print p2, \"in \", toc-tic,\" seconds.\"\n",
      "print(\"\")\n",
      "#------------------------------------------------------------------------------------------\n",
      "\n",
      "spread_factor = 18 # spread factor multiply by two\n",
      "print(\"s = n + 4\")\n",
      "tic = timeit.default_timer()\n",
      "p2 = fl.probability_file_loss_matrix(range(m), n, spread_factor, d, reliability)\n",
      "toc = timeit.default_timer()\n",
      "print p2, \"in \", toc-tic,\" seconds.\"\n",
      "print(\"\")\n",
      "#------------------------------------------------------------------------------------------\n",
      "\n",
      "spread_factor = 19 # spread factor multiply by two\n",
      "print(\"s = n + 5\")\n",
      "tic = timeit.default_timer()\n",
      "p2 = fl.probability_file_loss_matrix(range(m), n, spread_factor, d, reliability)\n",
      "toc = timeit.default_timer()\n",
      "print p2, \"in \", toc-tic,\" seconds.\"\n",
      "print(\"\")\n",
      "#------------------------------------------------------------------------------------------"
     ],
     "language": "python",
     "metadata": {},
     "outputs": [
      {
       "output_type": "stream",
       "stream": "stdout",
       "text": [
        "s = n  - 1\n",
        "4.2962079795e-05"
       ]
      },
      {
       "output_type": "stream",
       "stream": "stdout",
       "text": [
        " in  0.682171106339  seconds.\n",
        "\n",
        "s = n\n",
        "4.29800555941e-05"
       ]
      },
      {
       "output_type": "stream",
       "stream": "stdout",
       "text": [
        " in  8.70116305351  seconds.\n",
        "\n",
        "s = n + 1\n",
        "4.29905012341e-05"
       ]
      },
      {
       "output_type": "stream",
       "stream": "stdout",
       "text": [
        " in  66.8707869053  seconds.\n",
        "\n",
        "s = n + 2\n",
        "4.29898585328e-05"
       ]
      },
      {
       "output_type": "stream",
       "stream": "stdout",
       "text": [
        " in  363.37432909  seconds.\n",
        "\n",
        "s = n + 3\n",
        "4.29905140315e-05"
       ]
      },
      {
       "output_type": "stream",
       "stream": "stdout",
       "text": [
        " in  1457.82497096  seconds.\n",
        "\n",
        "s = n + 4\n",
        "4.29755584303e-05"
       ]
      },
      {
       "output_type": "stream",
       "stream": "stdout",
       "text": [
        " in  5248.81144881  seconds.\n",
        "\n",
        "s = n + 5\n",
        "4.29655135938e-05"
       ]
      },
      {
       "output_type": "stream",
       "stream": "stdout",
       "text": [
        " in  17005.4523149  seconds.\n",
        "\n"
       ]
      }
     ]
    },
    {
     "cell_type": "code",
     "collapsed": false,
     "input": [
      "m = 3000 # The number of disks in the system\n",
      "disks = range(m)\n",
      "\n",
      "eps = 0.00001\n",
      "reliability = dict(zip(disks, [uniform(0.99,1-eps) for i in disks]))\n",
      "\n",
      "n = 14 # number of chunks\n",
      "d = 3 # number of chunks until the file is lost\n",
      "spread_factor = 13 # spread factor\n",
      "\n",
      "print(\"s = n  - 1\")\n",
      "tic = timeit.default_timer()\n",
      "p2 = fl.probability_file_loss_matrix(range(m), n, spread_factor, d, reliability)\n",
      "toc = timeit.default_timer()\n",
      "print p2, \"in \", toc-tic,\" seconds.\"\n",
      "print(\"\")\n",
      "#------------------------------------------------------------------------------------------\n",
      "\n",
      "spread_factor = 14 # spread factor multiply by two\n",
      "print(\"s = n\")\n",
      "tic = timeit.default_timer()\n",
      "p2 = fl.probability_file_loss_matrix(range(m), n, spread_factor, d, reliability)\n",
      "toc = timeit.default_timer()\n",
      "print p2, \"in \", toc-tic,\" seconds.\"\n",
      "print(\"\")\n",
      "#------------------------------------------------------------------------------------------\n",
      "\n",
      "spread_factor = 15 # spread factor multiply by two\n",
      "print(\"s = n + 1\")\n",
      "tic = timeit.default_timer()\n",
      "p2 = fl.probability_file_loss_matrix(range(m), n, spread_factor, d, reliability)\n",
      "toc = timeit.default_timer()\n",
      "print p2, \"in \", toc-tic,\" seconds.\"\n",
      "print(\"\")\n",
      "#------------------------------------------------------------------------------------------\n",
      "\n",
      "spread_factor = 16 # spread factor multiply by two\n",
      "print(\"s = n + 2\")\n",
      "tic = timeit.default_timer()\n",
      "p2 = fl.probability_file_loss_matrix(range(m), n, spread_factor, d, reliability)\n",
      "toc = timeit.default_timer()\n",
      "print p2, \"in \", toc-tic,\" seconds.\"\n",
      "print(\"\")\n",
      "#------------------------------------------------------------------------------------------\n",
      "\n",
      "spread_factor = 17 # spread factor multiply by two\n",
      "print(\"s = n + 3\")\n",
      "tic = timeit.default_timer()\n",
      "p2 = fl.probability_file_loss_matrix(range(m), n, spread_factor, d, reliability)\n",
      "toc = timeit.default_timer()\n",
      "print p2, \"in \", toc-tic,\" seconds.\"\n",
      "print(\"\")\n",
      "#------------------------------------------------------------------------------------------\n",
      "\n",
      "spread_factor = 18 # spread factor multiply by two\n",
      "print(\"s = n + 4\")\n",
      "tic = timeit.default_timer()\n",
      "p2 = fl.probability_file_loss_matrix(range(m), n, spread_factor, d, reliability)\n",
      "toc = timeit.default_timer()\n",
      "print p2, \"in \", toc-tic,\" seconds.\"\n",
      "print(\"\")\n",
      "#------------------------------------------------------------------------------------------\n",
      "\n",
      "spread_factor = 19 # spread factor multiply by two\n",
      "print(\"s = n + 5\")\n",
      "tic = timeit.default_timer()\n",
      "p2 = fl.probability_file_loss_matrix(range(m), n, spread_factor, d, reliability)\n",
      "toc = timeit.default_timer()\n",
      "print p2, \"in \", toc-tic,\" seconds.\"\n",
      "print(\"\")\n",
      "#------------------------------------------------------------------------------------------"
     ],
     "language": "python",
     "metadata": {},
     "outputs": [
      {
       "output_type": "stream",
       "stream": "stdout",
       "text": [
        "s = n  - 1\n",
        "4.28961559566e-05"
       ]
      },
      {
       "output_type": "stream",
       "stream": "stdout",
       "text": [
        " in  1.12004303932  seconds.\n",
        "\n",
        "s = n\n",
        "4.29250751766e-05"
       ]
      }
     ]
    },
    {
     "cell_type": "markdown",
     "metadata": {},
     "source": [
      "### $n = 15 $"
     ]
    },
    {
     "cell_type": "code",
     "collapsed": false,
     "input": [
      "m = 1000 # The number of disks in the system\n",
      "disks = range(m)\n",
      "\n",
      "eps = 0.00001\n",
      "reliability = dict(zip(disks, [uniform(0.99,1-eps) for i in disks]))\n",
      "\n",
      "n = 15 # number of chunks\n",
      "d = 3 # number of chunks until the file is lost\n",
      "spread_factor = 14 # spread factor\n",
      "\n",
      "print(\"s = n  - 1\")\n",
      "tic = timeit.default_timer()\n",
      "p2 = fl.probability_file_loss_matrix(range(m), n, spread_factor, d, reliability)\n",
      "toc = timeit.default_timer()\n",
      "print p2, \"in \", toc-tic,\" seconds.\"\n",
      "print(\"\")\n",
      "#------------------------------------------------------------------------------------------\n",
      "\n",
      "spread_factor = 15 # spread factor multiply by two\n",
      "print(\"s = n\")\n",
      "tic = timeit.default_timer()\n",
      "p2 = fl.probability_file_loss_matrix(range(m), n, spread_factor, d, reliability)\n",
      "toc = timeit.default_timer()\n",
      "print p2, \"in \", toc-tic,\" seconds.\"\n",
      "print(\"\")\n",
      "#------------------------------------------------------------------------------------------\n",
      "\n",
      "spread_factor = 16 # spread factor multiply by two\n",
      "print(\"s = n + 1\")\n",
      "tic = timeit.default_timer()\n",
      "p2 = fl.probability_file_loss_matrix(range(m), n, spread_factor, d, reliability)\n",
      "toc = timeit.default_timer()\n",
      "print p2, \"in \", toc-tic,\" seconds.\"\n",
      "print(\"\")\n",
      "#------------------------------------------------------------------------------------------\n",
      "\n",
      "spread_factor = 17 # spread factor multiply by two\n",
      "print(\"s = n + 2\")\n",
      "tic = timeit.default_timer()\n",
      "p2 = fl.probability_file_loss_matrix(range(m), n, spread_factor, d, reliability)\n",
      "toc = timeit.default_timer()\n",
      "print p2, \"in \", toc-tic,\" seconds.\"\n",
      "print(\"\")\n",
      "#------------------------------------------------------------------------------------------\n",
      "\n",
      "spread_factor = 18 # spread factor multiply by two\n",
      "print(\"s = n + 3\")\n",
      "tic = timeit.default_timer()\n",
      "p2 = fl.probability_file_loss_matrix(range(m), n, spread_factor, d, reliability)\n",
      "toc = timeit.default_timer()\n",
      "print p2, \"in \", toc-tic,\" seconds.\"\n",
      "print(\"\")\n",
      "#------------------------------------------------------------------------------------------\n",
      "\n",
      "spread_factor = 19 # spread factor multiply by two\n",
      "print(\"s = n + 4\")\n",
      "tic = timeit.default_timer()\n",
      "p2 = fl.probability_file_loss_matrix(range(m), n, spread_factor, d, reliability)\n",
      "toc = timeit.default_timer()\n",
      "print p2, \"in \", toc-tic,\" seconds.\"\n",
      "print(\"\")\n",
      "#------------------------------------------------------------------------------------------\n",
      "\n",
      "spread_factor = 20 # spread factor multiply by two\n",
      "print(\"s = n + 5\")\n",
      "tic = timeit.default_timer()\n",
      "p2 = fl.probability_file_loss_matrix(range(m), n, spread_factor, d, reliability)\n",
      "toc = timeit.default_timer()\n",
      "print p2, \"in \", toc-tic,\" seconds.\"\n",
      "print(\"\")\n",
      "#------------------------------------------------------------------------------------------"
     ],
     "language": "python",
     "metadata": {},
     "outputs": []
    },
    {
     "cell_type": "code",
     "collapsed": false,
     "input": [
      "m = 2000 # The number of disks in the system\n",
      "disks = range(m)\n",
      "\n",
      "eps = 0.00001\n",
      "reliability = dict(zip(disks, [uniform(0.99,1-eps) for i in disks]))\n",
      "\n",
      "n = 15 # number of chunks\n",
      "d = 3 # number of chunks until the file is lost\n",
      "spread_factor = 14 # spread factor\n",
      "\n",
      "print(\"s = n  - 1\")\n",
      "tic = timeit.default_timer()\n",
      "p2 = fl.probability_file_loss_matrix(range(m), n, spread_factor, d, reliability)\n",
      "toc = timeit.default_timer()\n",
      "print p2, \"in \", toc-tic,\" seconds.\"\n",
      "print(\"\")\n",
      "#------------------------------------------------------------------------------------------\n",
      "\n",
      "spread_factor = 15 # spread factor multiply by two\n",
      "print(\"s = n\")\n",
      "tic = timeit.default_timer()\n",
      "p2 = fl.probability_file_loss_matrix(range(m), n, spread_factor, d, reliability)\n",
      "toc = timeit.default_timer()\n",
      "print p2, \"in \", toc-tic,\" seconds.\"\n",
      "print(\"\")\n",
      "#------------------------------------------------------------------------------------------\n",
      "\n",
      "spread_factor = 16 # spread factor multiply by two\n",
      "print(\"s = n + 1\")\n",
      "tic = timeit.default_timer()\n",
      "p2 = fl.probability_file_loss_matrix(range(m), n, spread_factor, d, reliability)\n",
      "toc = timeit.default_timer()\n",
      "print p2, \"in \", toc-tic,\" seconds.\"\n",
      "print(\"\")\n",
      "#------------------------------------------------------------------------------------------\n",
      "\n",
      "spread_factor = 17 # spread factor multiply by two\n",
      "print(\"s = n + 2\")\n",
      "tic = timeit.default_timer()\n",
      "p2 = fl.probability_file_loss_matrix(range(m), n, spread_factor, d, reliability)\n",
      "toc = timeit.default_timer()\n",
      "print p2, \"in \", toc-tic,\" seconds.\"\n",
      "print(\"\")\n",
      "#------------------------------------------------------------------------------------------\n",
      "\n",
      "spread_factor = 18 # spread factor multiply by two\n",
      "print(\"s = n + 3\")\n",
      "tic = timeit.default_timer()\n",
      "p2 = fl.probability_file_loss_matrix(range(m), n, spread_factor, d, reliability)\n",
      "toc = timeit.default_timer()\n",
      "print p2, \"in \", toc-tic,\" seconds.\"\n",
      "print(\"\")\n",
      "#------------------------------------------------------------------------------------------\n",
      "\n",
      "spread_factor = 19 # spread factor multiply by two\n",
      "print(\"s = n + 4\")\n",
      "tic = timeit.default_timer()\n",
      "p2 = fl.probability_file_loss_matrix(range(m), n, spread_factor, d, reliability)\n",
      "toc = timeit.default_timer()\n",
      "print p2, \"in \", toc-tic,\" seconds.\"\n",
      "print(\"\")\n",
      "#------------------------------------------------------------------------------------------\n",
      "\n",
      "spread_factor = 20 # spread factor multiply by two\n",
      "print(\"s = n + 5\")\n",
      "tic = timeit.default_timer()\n",
      "p2 = fl.probability_file_loss_matrix(range(m), n, spread_factor, d, reliability)\n",
      "toc = timeit.default_timer()\n",
      "print p2, \"in \", toc-tic,\" seconds.\"\n",
      "print(\"\")\n",
      "#------------------------------------------------------------------------------------------"
     ],
     "language": "python",
     "metadata": {},
     "outputs": []
    },
    {
     "cell_type": "code",
     "collapsed": false,
     "input": [
      "m = 3000 # The number of disks in the system\n",
      "disks = range(m)\n",
      "\n",
      "eps = 0.00001\n",
      "reliability = dict(zip(disks, [uniform(0.99,1-eps) for i in disks]))\n",
      "\n",
      "n = 15 # number of chunks\n",
      "d = 3 # number of chunks until the file is lost\n",
      "spread_factor = 14 # spread factor\n",
      "\n",
      "print(\"s = n  - 1\")\n",
      "tic = timeit.default_timer()\n",
      "p2 = fl.probability_file_loss_matrix(range(m), n, spread_factor, d, reliability)\n",
      "toc = timeit.default_timer()\n",
      "print p2, \"in \", toc-tic,\" seconds.\"\n",
      "print(\"\")\n",
      "#------------------------------------------------------------------------------------------\n",
      "\n",
      "spread_factor = 15 # spread factor multiply by two\n",
      "print(\"s = n\")\n",
      "tic = timeit.default_timer()\n",
      "p2 = fl.probability_file_loss_matrix(range(m), n, spread_factor, d, reliability)\n",
      "toc = timeit.default_timer()\n",
      "print p2, \"in \", toc-tic,\" seconds.\"\n",
      "print(\"\")\n",
      "#------------------------------------------------------------------------------------------\n",
      "\n",
      "spread_factor = 16 # spread factor multiply by two\n",
      "print(\"s = n + 1\")\n",
      "tic = timeit.default_timer()\n",
      "p2 = fl.probability_file_loss_matrix(range(m), n, spread_factor, d, reliability)\n",
      "toc = timeit.default_timer()\n",
      "print p2, \"in \", toc-tic,\" seconds.\"\n",
      "print(\"\")\n",
      "#------------------------------------------------------------------------------------------\n",
      "\n",
      "spread_factor = 17 # spread factor multiply by two\n",
      "print(\"s = n + 2\")\n",
      "tic = timeit.default_timer()\n",
      "p2 = fl.probability_file_loss_matrix(range(m), n, spread_factor, d, reliability)\n",
      "toc = timeit.default_timer()\n",
      "print p2, \"in \", toc-tic,\" seconds.\"\n",
      "print(\"\")\n",
      "#------------------------------------------------------------------------------------------\n",
      "\n",
      "spread_factor = 18 # spread factor multiply by two\n",
      "print(\"s = n + 3\")\n",
      "tic = timeit.default_timer()\n",
      "p2 = fl.probability_file_loss_matrix(range(m), n, spread_factor, d, reliability)\n",
      "toc = timeit.default_timer()\n",
      "print p2, \"in \", toc-tic,\" seconds.\"\n",
      "print(\"\")\n",
      "#------------------------------------------------------------------------------------------\n",
      "\n",
      "spread_factor = 19 # spread factor multiply by two\n",
      "print(\"s = n + 4\")\n",
      "tic = timeit.default_timer()\n",
      "p2 = fl.probability_file_loss_matrix(range(m), n, spread_factor, d, reliability)\n",
      "toc = timeit.default_timer()\n",
      "print p2, \"in \", toc-tic,\" seconds.\"\n",
      "print(\"\")\n",
      "#------------------------------------------------------------------------------------------\n",
      "\n",
      "spread_factor = 20 # spread factor multiply by two\n",
      "print(\"s = n + 5\")\n",
      "tic = timeit.default_timer()\n",
      "p2 = fl.probability_file_loss_matrix(range(m), n, spread_factor, d, reliability)\n",
      "toc = timeit.default_timer()\n",
      "print p2, \"in \", toc-tic,\" seconds.\"\n",
      "print(\"\")\n",
      "#------------------------------------------------------------------------------------------"
     ],
     "language": "python",
     "metadata": {},
     "outputs": []
    },
    {
     "cell_type": "markdown",
     "metadata": {},
     "source": [
      "### $n = 16 $"
     ]
    },
    {
     "cell_type": "code",
     "collapsed": false,
     "input": [
      "m = 1000 # The number of disks in the system\n",
      "disks = range(m)\n",
      "\n",
      "eps = 0.00001\n",
      "reliability = dict(zip(disks, [uniform(0.99,1-eps) for i in disks]))\n",
      "\n",
      "n = 16 # number of chunks\n",
      "d = 3 # number of chunks until the file is lost\n",
      "spread_factor = 15 # spread factor\n",
      "\n",
      "print(\"s = n  - 1\")\n",
      "tic = timeit.default_timer()\n",
      "p2 = fl.probability_file_loss_matrix(range(m), n, spread_factor, d, reliability)\n",
      "toc = timeit.default_timer()\n",
      "print p2, \"in \", toc-tic,\" seconds.\"\n",
      "print(\"\")\n",
      "#------------------------------------------------------------------------------------------\n",
      "\n",
      "spread_factor = 16 # spread factor multiply by two\n",
      "print(\"s = n\")\n",
      "tic = timeit.default_timer()\n",
      "p2 = fl.probability_file_loss_matrix(range(m), n, spread_factor, d, reliability)\n",
      "toc = timeit.default_timer()\n",
      "print p2, \"in \", toc-tic,\" seconds.\"\n",
      "print(\"\")\n",
      "#------------------------------------------------------------------------------------------\n",
      "\n",
      "spread_factor = 17 # spread factor multiply by two\n",
      "print(\"s = n + 1\")\n",
      "tic = timeit.default_timer()\n",
      "p2 = fl.probability_file_loss_matrix(range(m), n, spread_factor, d, reliability)\n",
      "toc = timeit.default_timer()\n",
      "print p2, \"in \", toc-tic,\" seconds.\"\n",
      "print(\"\")\n",
      "#------------------------------------------------------------------------------------------\n",
      "\n",
      "spread_factor = 18 # spread factor multiply by two\n",
      "print(\"s = n + 2\")\n",
      "tic = timeit.default_timer()\n",
      "p2 = fl.probability_file_loss_matrix(range(m), n, spread_factor, d, reliability)\n",
      "toc = timeit.default_timer()\n",
      "print p2, \"in \", toc-tic,\" seconds.\"\n",
      "print(\"\")\n",
      "#------------------------------------------------------------------------------------------\n",
      "\n",
      "spread_factor = 19 # spread factor multiply by two\n",
      "print(\"s = n + 3\")\n",
      "tic = timeit.default_timer()\n",
      "p2 = fl.probability_file_loss_matrix(range(m), n, spread_factor, d, reliability)\n",
      "toc = timeit.default_timer()\n",
      "print p2, \"in \", toc-tic,\" seconds.\"\n",
      "print(\"\")\n",
      "#------------------------------------------------------------------------------------------\n",
      "\n",
      "spread_factor = 20 # spread factor multiply by two\n",
      "print(\"s = n + 4\")\n",
      "tic = timeit.default_timer()\n",
      "p2 = fl.probability_file_loss_matrix(range(m), n, spread_factor, d, reliability)\n",
      "toc = timeit.default_timer()\n",
      "print p2, \"in \", toc-tic,\" seconds.\"\n",
      "print(\"\")\n",
      "#------------------------------------------------------------------------------------------\n",
      "\n",
      "spread_factor = 21 # spread factor multiply by two\n",
      "print(\"s = n + 5\")\n",
      "tic = timeit.default_timer()\n",
      "p2 = fl.probability_file_loss_matrix(range(m), n, spread_factor, d, reliability)\n",
      "toc = timeit.default_timer()\n",
      "print p2, \"in \", toc-tic,\" seconds.\"\n",
      "print(\"\")\n",
      "#------------------------------------------------------------------------------------------"
     ],
     "language": "python",
     "metadata": {},
     "outputs": []
    },
    {
     "cell_type": "code",
     "collapsed": false,
     "input": [
      "m = 2000 # The number of disks in the system\n",
      "disks = range(m)\n",
      "\n",
      "eps = 0.00001\n",
      "reliability = dict(zip(disks, [uniform(0.99,1-eps) for i in disks]))\n",
      "\n",
      "n = 16 # number of chunks\n",
      "d = 3 # number of chunks until the file is lost\n",
      "spread_factor = 15 # spread factor\n",
      "\n",
      "print(\"s = n  - 1\")\n",
      "tic = timeit.default_timer()\n",
      "p2 = fl.probability_file_loss_matrix(range(m), n, spread_factor, d, reliability)\n",
      "toc = timeit.default_timer()\n",
      "print p2, \"in \", toc-tic,\" seconds.\"\n",
      "print(\"\")\n",
      "#------------------------------------------------------------------------------------------\n",
      "\n",
      "spread_factor = 16 # spread factor multiply by two\n",
      "print(\"s = n\")\n",
      "tic = timeit.default_timer()\n",
      "p2 = fl.probability_file_loss_matrix(range(m), n, spread_factor, d, reliability)\n",
      "toc = timeit.default_timer()\n",
      "print p2, \"in \", toc-tic,\" seconds.\"\n",
      "print(\"\")\n",
      "#------------------------------------------------------------------------------------------\n",
      "\n",
      "spread_factor = 17 # spread factor multiply by two\n",
      "print(\"s = n + 1\")\n",
      "tic = timeit.default_timer()\n",
      "p2 = fl.probability_file_loss_matrix(range(m), n, spread_factor, d, reliability)\n",
      "toc = timeit.default_timer()\n",
      "print p2, \"in \", toc-tic,\" seconds.\"\n",
      "print(\"\")\n",
      "#------------------------------------------------------------------------------------------\n",
      "\n",
      "spread_factor = 18 # spread factor multiply by two\n",
      "print(\"s = n + 2\")\n",
      "tic = timeit.default_timer()\n",
      "p2 = fl.probability_file_loss_matrix(range(m), n, spread_factor, d, reliability)\n",
      "toc = timeit.default_timer()\n",
      "print p2, \"in \", toc-tic,\" seconds.\"\n",
      "print(\"\")\n",
      "#------------------------------------------------------------------------------------------\n",
      "\n",
      "spread_factor = 19 # spread factor multiply by two\n",
      "print(\"s = n + 3\")\n",
      "tic = timeit.default_timer()\n",
      "p2 = fl.probability_file_loss_matrix(range(m), n, spread_factor, d, reliability)\n",
      "toc = timeit.default_timer()\n",
      "print p2, \"in \", toc-tic,\" seconds.\"\n",
      "print(\"\")\n",
      "#------------------------------------------------------------------------------------------\n",
      "\n",
      "spread_factor = 20 # spread factor multiply by two\n",
      "print(\"s = n + 4\")\n",
      "tic = timeit.default_timer()\n",
      "p2 = fl.probability_file_loss_matrix(range(m), n, spread_factor, d, reliability)\n",
      "toc = timeit.default_timer()\n",
      "print p2, \"in \", toc-tic,\" seconds.\"\n",
      "print(\"\")\n",
      "#------------------------------------------------------------------------------------------\n",
      "\n",
      "spread_factor = 21 # spread factor multiply by two\n",
      "print(\"s = n + 5\")\n",
      "tic = timeit.default_timer()\n",
      "p2 = fl.probability_file_loss_matrix(range(m), n, spread_factor, d, reliability)\n",
      "toc = timeit.default_timer()\n",
      "print p2, \"in \", toc-tic,\" seconds.\"\n",
      "print(\"\")\n",
      "#------------------------------------------------------------------------------------------"
     ],
     "language": "python",
     "metadata": {},
     "outputs": []
    },
    {
     "cell_type": "code",
     "collapsed": false,
     "input": [
      "m = 3000 # The number of disks in the system\n",
      "disks = range(m)\n",
      "\n",
      "eps = 0.00001\n",
      "reliability = dict(zip(disks, [uniform(0.99,1-eps) for i in disks]))\n",
      "\n",
      "n = 16 # number of chunks\n",
      "d = 3 # number of chunks until the file is lost\n",
      "spread_factor = 15 # spread factor\n",
      "\n",
      "print(\"s = n  - 1\")\n",
      "tic = timeit.default_timer()\n",
      "p2 = fl.probability_file_loss_matrix(range(m), n, spread_factor, d, reliability)\n",
      "toc = timeit.default_timer()\n",
      "print p2, \"in \", toc-tic,\" seconds.\"\n",
      "print(\"\")\n",
      "#------------------------------------------------------------------------------------------\n",
      "\n",
      "spread_factor = 16 # spread factor multiply by two\n",
      "print(\"s = n\")\n",
      "tic = timeit.default_timer()\n",
      "p2 = fl.probability_file_loss_matrix(range(m), n, spread_factor, d, reliability)\n",
      "toc = timeit.default_timer()\n",
      "print p2, \"in \", toc-tic,\" seconds.\"\n",
      "print(\"\")\n",
      "#------------------------------------------------------------------------------------------\n",
      "\n",
      "spread_factor = 17 # spread factor multiply by two\n",
      "print(\"s = n + 1\")\n",
      "tic = timeit.default_timer()\n",
      "p2 = fl.probability_file_loss_matrix(range(m), n, spread_factor, d, reliability)\n",
      "toc = timeit.default_timer()\n",
      "print p2, \"in \", toc-tic,\" seconds.\"\n",
      "print(\"\")\n",
      "#------------------------------------------------------------------------------------------\n",
      "\n",
      "spread_factor = 18 # spread factor multiply by two\n",
      "print(\"s = n + 2\")\n",
      "tic = timeit.default_timer()\n",
      "p2 = fl.probability_file_loss_matrix(range(m), n, spread_factor, d, reliability)\n",
      "toc = timeit.default_timer()\n",
      "print p2, \"in \", toc-tic,\" seconds.\"\n",
      "print(\"\")\n",
      "#------------------------------------------------------------------------------------------\n",
      "\n",
      "spread_factor = 19 # spread factor multiply by two\n",
      "print(\"s = n + 3\")\n",
      "tic = timeit.default_timer()\n",
      "p2 = fl.probability_file_loss_matrix(range(m), n, spread_factor, d, reliability)\n",
      "toc = timeit.default_timer()\n",
      "print p2, \"in \", toc-tic,\" seconds.\"\n",
      "print(\"\")\n",
      "#------------------------------------------------------------------------------------------\n",
      "\n",
      "spread_factor = 20 # spread factor multiply by two\n",
      "print(\"s = n + 4\")\n",
      "tic = timeit.default_timer()\n",
      "p2 = fl.probability_file_loss_matrix(range(m), n, spread_factor, d, reliability)\n",
      "toc = timeit.default_timer()\n",
      "print p2, \"in \", toc-tic,\" seconds.\"\n",
      "print(\"\")\n",
      "#------------------------------------------------------------------------------------------\n",
      "\n",
      "spread_factor = 21 # spread factor multiply by two\n",
      "print(\"s = n + 5\")\n",
      "tic = timeit.default_timer()\n",
      "p2 = fl.probability_file_loss_matrix(range(m), n, spread_factor, d, reliability)\n",
      "toc = timeit.default_timer()\n",
      "print p2, \"in \", toc-tic,\" seconds.\"\n",
      "print(\"\")\n",
      "#------------------------------------------------------------------------------------------"
     ],
     "language": "python",
     "metadata": {},
     "outputs": []
    },
    {
     "cell_type": "code",
     "collapsed": false,
     "input": [],
     "language": "python",
     "metadata": {},
     "outputs": []
    }
   ],
   "metadata": {}
  }
 ]
}