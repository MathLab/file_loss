{
 "metadata": {
  "name": "",
  "signature": "sha256:269078ef0ef53c064740f98e713b61903e9e1d07c62ead63eb659cefff17d077"
 },
 "nbformat": 3,
 "nbformat_minor": 0,
 "worksheets": [
  {
   "cells": [
    {
     "cell_type": "markdown",
     "metadata": {},
     "source": [
      "# Computational time of the file loss probability\n",
      "\n",
      "This notebook is dedicated to the evaluation of the computational time for methods involved in the calculation of the file loss probability.\n",
      "\n",
      "## Motivations\n",
      "\n",
      "## Naive method\n",
      "   ### Complexity\n",
      "   ### Computational time as a function of the number of disks"
     ]
    },
    {
     "cell_type": "code",
     "collapsed": false,
     "input": [],
     "language": "python",
     "metadata": {},
     "outputs": [],
     "prompt_number": 0
    },
    {
     "cell_type": "markdown",
     "metadata": {},
     "source": [
      "   ### Computational time as a function of the spread factor"
     ]
    },
    {
     "cell_type": "code",
     "collapsed": false,
     "input": [],
     "language": "python",
     "metadata": {},
     "outputs": [],
     "prompt_number": 0
    },
    {
     "cell_type": "markdown",
     "metadata": {},
     "source": [
      "## Parallelization of the naive method using *joblib* library"
     ]
    },
    {
     "cell_type": "code",
     "collapsed": false,
     "input": [],
     "language": "python",
     "metadata": {},
     "outputs": [],
     "prompt_number": 0
    },
    {
     "cell_type": "markdown",
     "metadata": {},
     "source": [
      "## Method using a matrix formulation"
     ]
    },
    {
     "cell_type": "code",
     "collapsed": false,
     "input": [],
     "language": "python",
     "metadata": {},
     "outputs": []
    }
   ],
   "metadata": {}
  }
 ]
}