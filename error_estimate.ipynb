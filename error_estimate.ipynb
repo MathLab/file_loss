{
 "metadata": {
  "name": "",
  "signature": "sha256:524769e151301321bb76dcee9aa1aae6ebc25b9b67231a870f4255771434f300"
 },
 "nbformat": 3,
 "nbformat_minor": 0,
 "worksheets": [
  {
   "cells": [
    {
     "cell_type": "code",
     "collapsed": false,
     "input": [
      "import numpy as np\n",
      "\n",
      "def O(matrix, power):\n",
      "    \"\"\"\n",
      "    \"\"\"\n",
      "    O_matrix = (np.eye(len(matrix), k=0, dtype=float) - \n",
      "               np.eye(len(matrix), k=1, dtype=float))\n",
      "    \n",
      "    O_matrices = [O_matrix for i in range(power)]\n",
      "    \n",
      "    operator = reduce(np.dot, O_matrices)\n",
      "    \n",
      "    return np.dot(matrix,operator)\n",
      "\n",
      "def H_matrix(size, eta):\n",
      "    \"\"\"\n",
      "    \"\"\"\n",
      "    return (eta * np.eye(size, k=0, dtype=float) +\n",
      "            np.eye(size, k=1, dtype=float))\n",
      "\n",
      "def alpha(disks, etas, position):\n",
      "    \"\"\"\n",
      "    \"\"\"\n",
      " \n",
      "    H_matrices = [H_matrix(len(disks), etas[disk])\n",
      "                  for disk in disks]\n",
      "\n",
      "    return reduce(np.dot, H_matrices)[0, position]\n",
      "    \n",
      "def transfer_matrix(p, q, size):\n",
      "    \"\"\"\n",
      "    \"\"\"\n",
      "\n",
      "    return (q * np.eye(size, k=0, dtype=float) +\n",
      "            p * np.eye(size, k=1, dtype=float))\n",
      "\n",
      "def sum_first_row(disks, threshold, p, q, power):\n",
      "    \"\"\"\n",
      "    \"\"\"\n",
      "    failure_threshold = len(disks) - threshold + 1\n",
      "    \n",
      "    if len(disks) - power != 0:\n",
      "        tf_matrix = transfer_matrix(p, q, failure_threshold)\n",
      "        matrice = reduce(np.dot, [tf_matrix for i in range(len(disks) - power)])\n",
      "    else:\n",
      "        matrice = np.eye(failure_threshold, k=0, dtype=float)\n",
      "    \n",
      "    return np.sum(O(matrice, power), axis=1)[0]\n",
      "\n",
      "def term(disks, etas, threshold, p, q):\n",
      "    \"\"\"\n",
      "    \"\"\"\n",
      "    \n",
      "    power = [i+1 for i in range(len(disks))]\n",
      "    \n",
      "    position = [k  for k in reversed(range(len(disks)))]\n",
      "    \n",
      "    return [alpha(disks, etas, position[index]) * sum_first_row(disks, threshold, p, q, power[index])\n",
      "            for index in range(len(disks))]"
     ],
     "language": "python",
     "metadata": {},
     "outputs": [],
     "prompt_number": 1
    },
    {
     "cell_type": "code",
     "collapsed": false,
     "input": [
      "from numpy.random import uniform\n",
      "from numpy import mean\n",
      "from operator import mul\n",
      "\n",
      "chunk_count = 18\n",
      "threshold = 3\n",
      "\n",
      "q_list = uniform(0, 10**-2, chunk_count)\n",
      "\n",
      "disks = range(chunk_count)\n",
      "\n",
      "q_mean = mean(q_list)\n",
      "\n",
      "p_mean = 1 - q_mean\n",
      "\n",
      "etas = dict(zip(disks, [q - q_mean for q in q_list]))\n",
      "\n",
      "my_list = term(disks, etas, threshold, p_mean, q_mean)\n",
      "\n",
      "print(\"\")\n",
      "print(my_list)\n",
      "print(\"\")\n",
      "\n",
      "print(sum(my_list))\n",
      "\n",
      "print(abs(my_list[1]/sum(my_list)))\n",
      "plot(my_list)"
     ],
     "language": "python",
     "metadata": {},
     "outputs": [
      {
       "output_type": "stream",
       "stream": "stdout",
       "text": [
        "\n",
        "[6.5842901565124196e-20, -4.9196025898732828e-06, -3.0946305610356e-08, -3.8174119503134106e-09, 9.4470199187485533e-12, 1.4194018663920864e-13, -3.5237609971336762e-16, -1.4119765034840868e-18, 3.5919216150924264e-21, 5.5120020510606816e-24, -1.4014351097349932e-26, -1.0310752868253661e-29, 2.3240964080233674e-32, 1.1623388620111485e-35, -1.678636080180288e-38, -7.6514342024244846e-42, 4.3390791592405237e-45, 2.0677905457063184e-48]\n",
        "\n",
        "-4.95435671883e-06\n",
        "0.992985137945\n"
       ]
      },
      {
       "metadata": {},
       "output_type": "pyout",
       "prompt_number": 2,
       "text": [
        "[<matplotlib.lines.Line2D at 0x7f15b5f78150>]"
       ]
      },
      {
       "metadata": {},
       "output_type": "display_data",
       "png": "[encoded data removed]",
       "text": [
        "<matplotlib.figure.Figure at 0x7f15b6839790>"
       ]
      }
     ],
     "prompt_number": 2
    },
    {
     "cell_type": "code",
     "collapsed": false,
     "input": [
      "from math import (factorial)\n",
      "import file_loss as fl\n",
      "\n",
      "def error_estimate(disks, chunk_count, spread_factor, threshold, unreliabilities):\n",
      "    \"\"\"\n",
      "    \"\"\"\n",
      "    q_mean = mean(unreliabilities)\n",
      "    p_mean = 1. - q_mean\n",
      "\n",
      "    etas = dict(zip(disks, [q - q_mean for q in unreliabilities]))\n",
      "    \n",
      "    probability_configuration = (1.0*(factorial(spread_factor - chunk_count + 1)*factorial(chunk_count - 1))\n",
      "                              / (len(disks)*factorial(spread_factor)))\n",
      "  \n",
      "    configurations = fl.feasible_configurations(len(disks), chunk_count, spread_factor)\n",
      "\n",
      "    # first we consider there is no redondancy\n",
      "    if len(disks) >= 2*(spread_factor + 1) - chunk_count:\n",
      "        return probability_configuration * sum([term(config, etas, threshold, p_mean, q_mean)\n",
      "                                                for config in configurations])\n",
      "    # This condition cover the case with redondancies\n",
      "    else:\n",
      "        return probability_configuration * sum([fl.frequency(config, len(disks), spread_factor) * \n",
      "                                                term(config, etas, threshold, p_mean, q_mean)\n",
      "                                               for config in configurations])"
     ],
     "language": "python",
     "metadata": {},
     "outputs": [],
     "prompt_number": 3
    },
    {
     "cell_type": "code",
     "collapsed": false,
     "input": [
      "def experiment_erros(disks, chunk_count, spread_factor, threshold, experiment, delta, unreliability_target):\n",
      "    \"\"\"\n",
      "    \"\"\"\n",
      "    error_proba = []\n",
      "    error_q = []\n",
      "    \n",
      "    for e in experiment:\n",
      "        \n",
      "        lower_bound = unreliability_target - 0.5*delta\n",
      "        upper_bound = unreliability_target + 0.5*delta\n",
      "        \n",
      "        unreliabilities = uniform(lower_bound, upper_bound, disk_count)\n",
      "        \n",
      "        error_q.append(abs(1. - mean(unreliabilities) / unreliability_target))\n",
      "        \n",
      "        error_proba.append(abs(error_estimate(disks, chunk_count, spread_factor, threshold, unreliabilities) /\n",
      "                           fl.probability_at_least_d_fail_equal_reliability(threshold, chunk_count, unreliability_target)))\n",
      "        \n",
      "    return (error_q, error_proba)"
     ],
     "language": "python",
     "metadata": {},
     "outputs": [],
     "prompt_number": 29
    },
    {
     "cell_type": "code",
     "collapsed": false,
     "input": [
      "from math import log\n",
      "\n",
      "# Parameters\n",
      "disk_count = 2000 # Number of disks in tha system\n",
      "disks = range(disk_count)\n",
      "\n",
      "chunk_count = 12 # Number of chunks the file is spread into\n",
      "spread_factor = 13 # Spread factor\n",
      "threshold = 3 # Threshold recovery\n",
      "\n",
      "experiment_count = 1000 # Number of experience \n",
      "experiment = range(experiment_count)\n",
      "\n",
      "unreliability_target = 10**-3\n",
      "delta_list = linspace(10**-6, 10**-3, 20)\n",
      "delta_log = [log(l) for l in delta_list]\n",
      "\n",
      "res = [experiment_erros(disks, chunk_count, spread_factor, threshold, experiment, delta, unreliability_target)\n",
      "       for delta in delta_list]"
     ],
     "language": "python",
     "metadata": {},
     "outputs": [
      {
       "ename": "KeyboardInterrupt",
       "evalue": "",
       "output_type": "pyerr",
       "traceback": [
        "\u001b[1;31m---------------------------------------------------------------------------\u001b[0m\n\u001b[1;31mKeyboardInterrupt\u001b[0m                         Traceback (most recent call last)",
        "\u001b[1;32m<ipython-input-54-30b1ec1e6299>\u001b[0m in \u001b[0;36m<module>\u001b[1;34m()\u001b[0m\n\u001b[0;32m     17\u001b[0m \u001b[1;33m\u001b[0m\u001b[0m\n\u001b[0;32m     18\u001b[0m res = [experiment_erros(disks, chunk_count, spread_factor, threshold, experiment, delta, unreliability_target)\n\u001b[1;32m---> 19\u001b[1;33m        for delta in delta_list]\n\u001b[0m",
        "\u001b[1;32m<ipython-input-29-8e4abb77255a>\u001b[0m in \u001b[0;36mexperiment_erros\u001b[1;34m(disks, chunk_count, spread_factor, threshold, experiment, delta, unreliability_target)\u001b[0m\n\u001b[0;32m     14\u001b[0m         \u001b[0merror_q\u001b[0m\u001b[1;33m.\u001b[0m\u001b[0mappend\u001b[0m\u001b[1;33m(\u001b[0m\u001b[0mabs\u001b[0m\u001b[1;33m(\u001b[0m\u001b[1;36m1.\u001b[0m \u001b[1;33m-\u001b[0m \u001b[0mmean\u001b[0m\u001b[1;33m(\u001b[0m\u001b[0munreliabilities\u001b[0m\u001b[1;33m)\u001b[0m \u001b[1;33m/\u001b[0m \u001b[0munreliability_target\u001b[0m\u001b[1;33m)\u001b[0m\u001b[1;33m)\u001b[0m\u001b[1;33m\u001b[0m\u001b[0m\n\u001b[0;32m     15\u001b[0m \u001b[1;33m\u001b[0m\u001b[0m\n\u001b[1;32m---> 16\u001b[1;33m         error_proba.append(abs(error_estimate(disks, chunk_count, spread_factor, threshold, unreliabilities) /\n\u001b[0m\u001b[0;32m     17\u001b[0m                            fl.probability_at_least_d_fail_equal_reliability(threshold, chunk_count, unreliability_target)))\n\u001b[0;32m     18\u001b[0m \u001b[1;33m\u001b[0m\u001b[0m\n",
        "\u001b[1;32m<ipython-input-3-9bd457540c75>\u001b[0m in \u001b[0;36merror_estimate\u001b[1;34m(disks, chunk_count, spread_factor, threshold, unreliabilities)\u001b[0m\n\u001b[0;32m     18\u001b[0m     \u001b[1;32mif\u001b[0m \u001b[0mlen\u001b[0m\u001b[1;33m(\u001b[0m\u001b[0mdisks\u001b[0m\u001b[1;33m)\u001b[0m \u001b[1;33m>=\u001b[0m \u001b[1;36m2\u001b[0m\u001b[1;33m*\u001b[0m\u001b[1;33m(\u001b[0m\u001b[0mspread_factor\u001b[0m \u001b[1;33m+\u001b[0m \u001b[1;36m1\u001b[0m\u001b[1;33m)\u001b[0m \u001b[1;33m-\u001b[0m \u001b[0mchunk_count\u001b[0m\u001b[1;33m:\u001b[0m\u001b[1;33m\u001b[0m\u001b[0m\n\u001b[0;32m     19\u001b[0m         return probability_configuration * sum([term(config, etas, threshold, p_mean, q_mean)\n\u001b[1;32m---> 20\u001b[1;33m                                                 for config in configurations])\n\u001b[0m\u001b[0;32m     21\u001b[0m     \u001b[1;31m# This condition cover the case with redondancies\u001b[0m\u001b[1;33m\u001b[0m\u001b[1;33m\u001b[0m\u001b[0m\n\u001b[0;32m     22\u001b[0m     \u001b[1;32melse\u001b[0m\u001b[1;33m:\u001b[0m\u001b[1;33m\u001b[0m\u001b[0m\n",
        "\u001b[1;32m<ipython-input-1-2b60121b1a0a>\u001b[0m in \u001b[0;36mterm\u001b[1;34m(disks, etas, threshold, p, q)\u001b[0m\n\u001b[0;32m     57\u001b[0m \u001b[1;33m\u001b[0m\u001b[0m\n\u001b[0;32m     58\u001b[0m     return [alpha(disks, etas, position[index]) * sum_first_row(disks, threshold, p, q, power[index])\n\u001b[1;32m---> 59\u001b[1;33m             for index in range(len(disks))]\n\u001b[0m",
        "\u001b[1;32m<ipython-input-1-2b60121b1a0a>\u001b[0m in \u001b[0;36malpha\u001b[1;34m(disks, etas, position)\u001b[0m\n\u001b[0;32m     26\u001b[0m                   for disk in disks]\n\u001b[0;32m     27\u001b[0m \u001b[1;33m\u001b[0m\u001b[0m\n\u001b[1;32m---> 28\u001b[1;33m     \u001b[1;32mreturn\u001b[0m \u001b[0mreduce\u001b[0m\u001b[1;33m(\u001b[0m\u001b[0mnp\u001b[0m\u001b[1;33m.\u001b[0m\u001b[0mdot\u001b[0m\u001b[1;33m,\u001b[0m \u001b[0mH_matrices\u001b[0m\u001b[1;33m)\u001b[0m\u001b[1;33m[\u001b[0m\u001b[1;36m0\u001b[0m\u001b[1;33m,\u001b[0m \u001b[0mposition\u001b[0m\u001b[1;33m]\u001b[0m\u001b[1;33m\u001b[0m\u001b[0m\n\u001b[0m\u001b[0;32m     29\u001b[0m \u001b[1;33m\u001b[0m\u001b[0m\n\u001b[0;32m     30\u001b[0m \u001b[1;32mdef\u001b[0m \u001b[0mtransfer_matrix\u001b[0m\u001b[1;33m(\u001b[0m\u001b[0mp\u001b[0m\u001b[1;33m,\u001b[0m \u001b[0mq\u001b[0m\u001b[1;33m,\u001b[0m \u001b[0msize\u001b[0m\u001b[1;33m)\u001b[0m\u001b[1;33m:\u001b[0m\u001b[1;33m\u001b[0m\u001b[0m\n",
        "\u001b[1;31mKeyboardInterrupt\u001b[0m: "
       ]
      }
     ],
     "prompt_number": 54
    },
    {
     "cell_type": "code",
     "collapsed": false,
     "input": [
      "from scipy import stats\n",
      "plot(delta_list, [mean(res[i][0]) for i in range(len(delta_list))], '+')"
     ],
     "language": "python",
     "metadata": {},
     "outputs": []
    },
    {
     "cell_type": "code",
     "collapsed": false,
     "input": [
      "log_mean_0 = [log(mean(res[i][0])) for i in range(len(delta_list))]\n",
      "plot(delta_log, log_mean_0, '+')\n",
      "\n",
      "slope, intercept, r_value, p_value, std_err = stats.linregress(delta_log, log_mean_0)\n",
      "print(slope) # slope of the regression line\n",
      "print(\"\")\n",
      "print(intercept) # intercept of the regression line\n",
      "print(\"\")\n",
      "print(r_value) # correlation coefficient\n",
      "print(\"\")\n",
      "print(p_value) # two-sided p-value for a hypothesis test whose null hypothesis is that the slope is zero\n",
      "print(\"\")\n",
      "print(std_err) # Standard error of the estimate"
     ],
     "language": "python",
     "metadata": {},
     "outputs": []
    },
    {
     "cell_type": "code",
     "collapsed": false,
     "input": [
      "# Mean relative error between the exact file loss probability and his estimation for each expermient.\n",
      "plot(delta_list, [mean(res[i][1]) for i in range(len(delta_list))], '+')"
     ],
     "language": "python",
     "metadata": {},
     "outputs": []
    },
    {
     "cell_type": "code",
     "collapsed": false,
     "input": [
      "log_mean_1 = [log(mean(res[i][1])) for i in range(len(delta_list))]\n",
      "plot(delta_log, log_mean_1, '+')\n",
      "\n",
      "slope, intercept, r_value, p_value, std_err = stats.linregress(delta_log, log_mean_1)\n",
      "print(slope) # slope of the regression line\n",
      "print(\"\")\n",
      "print(intercept) # intercept of the regression line\n",
      "print(\"\")\n",
      "print(r_value) # correlation coefficient\n",
      "print(\"\")\n",
      "print(p_value) # two-sided p-value for a hypothesis test whose null hypothesis is that the slope is zero\n",
      "print(\"\")\n",
      "print(std_err) # Standard error of the estimate"
     ],
     "language": "python",
     "metadata": {},
     "outputs": []
    },
    {
     "cell_type": "code",
     "collapsed": false,
     "input": [],
     "language": "python",
     "metadata": {},
     "outputs": []
    }
   ],
   "metadata": {}
  }
 ]
}