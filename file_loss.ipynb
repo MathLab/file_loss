{
 "metadata": {
  "name": "",
  "signature": "sha256:53510d66384525de8cde995837eb4e75612ffc74f24716198f1c15182bba0f0b"
 },
 "nbformat": 3,
 "nbformat_minor": 0,
 "worksheets": [
  {
   "cells": [
    {
     "cell_type": "markdown",
     "metadata": {},
     "source": [
      "# File loss in a server\n",
      "\n",
      "## Parameters\n",
      "\n",
      "* $m$ the number of disks in the server ; \n",
      "* $n$ the number of chunks ; \n",
      "* $s$ the spread factor ; \n",
      "* $d$ the number of chunks until the file is irrecoverable."
     ]
    },
    {
     "cell_type": "code",
     "collapsed": false,
     "input": [
      "# The parameters\n",
      "m = 100 # number of disks\n",
      "n = 12 # number of chunks\n",
      "d = 3 # number of chinks until the file is lost\n",
      "s = 11 # spread factor"
     ],
     "language": "python",
     "metadata": {},
     "outputs": [],
     "prompt_number": 83
    },
    {
     "cell_type": "markdown",
     "metadata": {},
     "source": [
      "## Placement policy\n",
      "### Description\n",
      "### Feasible configurations"
     ]
    },
    {
     "cell_type": "code",
     "collapsed": false,
     "input": [
      "from itertools import (cycle, islice)\n",
      "\n",
      "def window(seq, n):\n",
      "    it = iter(seq)\n",
      "    result = tuple(islice(it, n))\n",
      "    if len(result) == n:\n",
      "        yield result\n",
      "    for elem in it:\n",
      "        result = result[1:] + (elem,)\n",
      "        yield result"
     ],
     "language": "python",
     "metadata": {},
     "outputs": [],
     "prompt_number": 64
    },
    {
     "cell_type": "code",
     "collapsed": false,
     "input": [
      "from itertools import (combinations, chain)\n",
      "\n",
      "def feasible_configurations(disk_count, chunk_count, spread_factor):\n",
      "    \"\"\"Compute feasible configurations.\n",
      "    \n",
      "    Args:\n",
      "        disk_count (int): number of disks in the system.\n",
      "        chunk_count (int): number of chunks the file is spread into.\n",
      "        spread_factor (int): number of disks to be used after selected disk.\n",
      "        \n",
      "    Returns:\n",
      "        Set of feasible configurations represented as a tuple of integers. \n",
      "    \"\"\"\n",
      "    remaining_chunks = chunk_count - 1\n",
      "    selected_disks = spread_factor + 1\n",
      "    \n",
      "    disk_ring = cycle(range(disk_count))\n",
      "    \n",
      "    for i, w in enumerate(window(disk_ring, selected_disks)):\n",
      "        main_disk, consecutive_disks = w[0], islice(w, 1, None)\n",
      "        for c in combinations(consecutive_disks, remaining_chunks):\n",
      "            yield (main_disk,) + c\n",
      "        if i >= disk_count - 1:\n",
      "            break"
     ],
     "language": "python",
     "metadata": {},
     "outputs": [],
     "prompt_number": 65
    },
    {
     "cell_type": "code",
     "collapsed": false,
     "input": [],
     "language": "python",
     "metadata": {},
     "outputs": [],
     "prompt_number": 49
    },
    {
     "cell_type": "markdown",
     "metadata": {},
     "source": [
      "## How to calculate the probability of loosing at least $d$ chunks?"
     ]
    },
    {
     "cell_type": "markdown",
     "metadata": {},
     "source": [
      "### Total probability formula "
     ]
    },
    {
     "cell_type": "markdown",
     "metadata": {},
     "source": [
      "### Probability of loosing at least $d$ chunks (or that at least $d$ disks fail) for a special configuration"
     ]
    },
    {
     "cell_type": "code",
     "collapsed": false,
     "input": [
      "def disk_reliability_index(index):\n",
      "    return index-1\n",
      "\n",
      "def probability_at_least_d_fail(configuration, d, chunk_count, disk_reliability):\n",
      "    \"\"\"Compute the probability of observing at least d disks failure for a special configuration.\n",
      "    \n",
      "    Args:\n",
      "        configuration (int) : disk indexes in {1,...,m} where chunks are stored.\n",
      "        d (int) : number of loss from which a file is lost.\n",
      "        chunk_count (int): number of chunks the file is spread into.\n",
      "        disk_reliability (double): list of chunk_count real in ]0;1[.\n",
      "        \n",
      "    Returns:\n",
      "        The probability of observing at least d disks failure for a special configuration as a real. \n",
      "    \"\"\"\n",
      "    \n",
      "    probability = 0.0\n",
      "    \n",
      "    for k in [d+i for i in range(chunk_count-d+1)]:\n",
      "        # Computation of combinations of size k from elements in configuration.\n",
      "        k_combinations = combinations(configuration,k)\n",
      "        for combination in k_combinations:\n",
      "            product = 1.0\n",
      "            # Disks with indexes in combination failed\n",
      "            for l in combination:\n",
      "                product = product*(1.0-disk_reliability[disk_reliability_index(l)])  \n",
      "            # Disks with indexes in combination work\n",
      "            for l in set(configuration).difference(set(combination)):\n",
      "                product = product*disk_reliability[disk_reliability_index(l)]\n",
      "                \n",
      "            probability = probability + product\n",
      "            \n",
      "    return probability"
     ],
     "language": "python",
     "metadata": {},
     "outputs": [],
     "prompt_number": 66
    },
    {
     "cell_type": "code",
     "collapsed": true,
     "input": [
      "from numpy import *\n",
      "from scipy.sparse import *\n",
      "\n",
      "def create_matrix(probability, d):\n",
      "    \"\"\"Construct matrix used to calculate the probability of losing ate least d blocks.\n",
      "    \n",
      "    Args:\n",
      "        probability (double) : a probability in ]0,1[.\n",
      "        d (int) : number of loss from which a file is lost.\n",
      "        \n",
      "    Returns:\n",
      "        A (d+1)x(d+1) matrix with non-zero elements only on the diagonal and on the upper diagonal, as a sparse array.\n",
      "    \"\"\"\n",
      "    yield csc_matrix((1.0 - probability)*eye(d+1,d+1,0,dtype=float) + probability*eye(d+1,d+1,1,dtype=float))\n",
      "    \n",
      "    \n",
      "def construct_matrix(configuration, reliability_list, d):\n",
      "    \"\"\"Construct matrix used to calculate the probability of losing ate least d blocks.\n",
      "    \n",
      "    Args:\n",
      "        configuration (int) : disk indexes in {1,...,m} where chunks are stored.\n",
      "        d (int) : number of loss from which a file is lost.\n",
      "        reliability_list (double): list of chunk_count real in ]0;1[.\n",
      "        \n",
      "    Returns:\n",
      "        List of matrix of the size of configuration. Each matrix is a (d+1)x(d+1) matrix.\n",
      "    \"\"\"\n",
      "    \n",
      "    for index in configuration:\n",
      "        yield create_matrix(reliability_list[disk_reliability_index(index)], d)\n",
      "        \n",
      "def matrix_multiplication(matrix_list, d):\n",
      "    \"\"\"Compute the matrix product of a list of matrix.\n",
      "    \n",
      "    Args:\n",
      "        matrix_list (list) : list of chunk_count matrix.\n",
      "        d (int) : number of loss from which a file is lost.\n",
      "        \n",
      "    Returns:\n",
      "        A matrix of size chunk_count x chunk_count as a sparse array.  \n",
      "    \"\"\"\n",
      "    \n",
      "    product_matrix = eye(d+1,d+1,0,dtype=float)\n",
      "    \n",
      "    for matrix in reversed(matrix_list):\n",
      "        product_matrix = product_matrix.dot(product_matrix)\n",
      "        \n",
      "    return product_matrix"
     ],
     "language": "python",
     "metadata": {},
     "outputs": [],
     "prompt_number": 85
    },
    {
     "cell_type": "code",
     "collapsed": false,
     "input": [
      "def probability_at_least_d_fail_matrix(configuration, d, chunk_count, disk_reliability):\n",
      "    \"\"\"Compute the probability of observing at least d disks failure for a special configuration using matrix formulation.\n",
      "    \n",
      "    Args:\n",
      "        configuration (int) : disk indexes in {1,...,m} where chunks are stored.\n",
      "        d (int) : number of loss from which a file is lost.\n",
      "        chunk_count (int): number of chunks the file is spread into.\n",
      "        disk_reliability (double): list of chunk_count real in ]0;1[.\n",
      "        \n",
      "    Returns:\n",
      "        The probability of observing at least d disks failure for a special configuration as a real. \n",
      "    \"\"\"\n",
      "    matrix_list = list(construct_matrix(configuration, disk_reliability, d))\n",
      "\n",
      "    #probability = ones(d+1).dot(matrix_multiplication(matrix_list, d).dot(eye(d+1,1,-d,dtype=float)))\n",
      "    tmp = matrix_multiplication(matrix_list, d).dot(eye(d+1,1,-d,dtype=float))\n",
      "    probability = ones(d+1,dtype=float).dot(tmp)\n",
      "    print(probability)\n",
      "    \n",
      "    return probability"
     ],
     "language": "python",
     "metadata": {},
     "outputs": [],
     "prompt_number": 105
    },
    {
     "cell_type": "markdown",
     "metadata": {},
     "source": [
      "#### Case where all $p_i$ are equal, $p_i \\equiv p$"
     ]
    },
    {
     "cell_type": "code",
     "collapsed": false,
     "input": [
      "from math import factorial\n",
      "\n",
      "def probability_at_least_d_fail_equal_reliability(d,chunk_count ,reliability):\n",
      "    \"\"\"Compute the probability of observing at least d disks failure for a special configuration if all reliabilities are equal.\n",
      "    \n",
      "    Args:\n",
      "        d (int) : number of loss from which a file is lost.\n",
      "        chunk_count (int): number of chunks the file is spread into.\n",
      "        reliability (double): disks reliability.\n",
      "        \n",
      "    Returns:\n",
      "        The probability of observing at least d disks failure for a special configuration as a real. \n",
      "    \"\"\"\n",
      "    probability = 0.0\n",
      "    \n",
      "    unreliability = 1.0-reliability\n",
      "    \n",
      "    for k in [d+i for i in range(chunk_count-d+1)]:\n",
      "        qk = pow(unreliability,k)\n",
      "        pnk = pow(reliability,chunk_count-k)\n",
      "        prefactor = factorial(chunk_count)/(factorial(chunk_count-k)*factorial(k))\n",
      "        probability = probability + prefactor*qk*pnk\n",
      "        \n",
      "    return probability"
     ],
     "language": "python",
     "metadata": {},
     "outputs": [],
     "prompt_number": 54
    },
    {
     "cell_type": "code",
     "collapsed": false,
     "input": [],
     "language": "python",
     "metadata": {},
     "outputs": [],
     "prompt_number": 8
    },
    {
     "cell_type": "markdown",
     "metadata": {},
     "source": [
      "### Probability of choosing a special configuration"
     ]
    },
    {
     "cell_type": "code",
     "collapsed": false,
     "input": [
      "from math import factorial\n",
      "\n",
      "probability_configuration = 1.0*(factorial(s-n+1)*factorial(n-1))/(m*factorial(s))"
     ],
     "language": "python",
     "metadata": {},
     "outputs": [],
     "prompt_number": 55
    },
    {
     "cell_type": "markdown",
     "metadata": {},
     "source": [
      "### Sum up"
     ]
    },
    {
     "cell_type": "code",
     "collapsed": false,
     "input": [
      "from math import factorial\n",
      "\n",
      "def probability_file_loss(disk_count, chunk_count, spread_factor, d, disk_reliability):\n",
      "    \"\"\"Compute the probability of file loss.\n",
      "    \n",
      "    Args:\n",
      "        disk_count (int): number of disks in the system.\n",
      "        chunk_count (int): number of chunks the file is spread into.\n",
      "        spread_factor (int): number of disks to be used after selected disk.\n",
      "        disk_reliability (double): list of chunk_count real in ]0;1[.\n",
      "        \n",
      "    Returns:\n",
      "        The probability that a file is lost as a real. \n",
      "    \"\"\"\n",
      "    probability_file_loss = 0.0\n",
      "    \n",
      "    # First we calculate the probability that a configuration is selected.\n",
      "    probability_configuration = 1.0*(factorial(spread_factor-chunk_count+1)*factorial(chunk_count-1))/(disk_count*factorial(spread_factor))\n",
      "    \n",
      "    # Then, we generate the list of all feasible configurations as a function of \n",
      "    # the number of disks, disk_count, the number of chunks, chunk_count and the spread factor.\n",
      "    configurations = list(map(lambda t: map(lambda e: e + 1, t),\n",
      "         feasible_configurations(disk_count, chunk_count, spread_factor)))\n",
      "  \n",
      "    # Finally, for each feasible configuration where chunks are stored, we calculate the probabi-\n",
      "    # lity the file is lost.\n",
      "    for config in configurations:\n",
      "        probability_file_loss = probability_file_loss + probability_configuration*probability_at_least_d_fail(config, d, chunk_count, disk_reliability)\n",
      "        \n",
      "    return probability_file_loss\n",
      "\n",
      "def probability_file_loss2(disk_count, chunk_count, spread_factor, d, disk_reliability):\n",
      "    \"\"\"Compute the probability of file loss.\n",
      "    \n",
      "    Args:\n",
      "        disk_count (int): number of disks in the system.\n",
      "        chunk_count (int): number of chunks the file is spread into.\n",
      "        spread_factor (int): number of disks to be used after selected disk.\n",
      "        disk_reliability (double): list of chunk_count real in ]0;1[.\n",
      "        \n",
      "    Returns:\n",
      "        The probability that a file is lost as a real. \n",
      "    \"\"\"\n",
      "    probability_file_loss = 0.0\n",
      "    \n",
      "    # First we calculate the probability that a configuration is selected.\n",
      "    probability_configuration = 1.0*(factorial(spread_factor-chunk_count+1)*factorial(chunk_count-1))/(disk_count*factorial(spread_factor))\n",
      "    \n",
      "    # Then, we generate the list of all feasible configurations as a function of \n",
      "    # the number of disks, disk_count, the number of chunks, chunk_count and the spread factor.\n",
      "    configurations = list(map(lambda t: map(lambda e: e + 1, t),\n",
      "         feasible_configurations(disk_count, chunk_count, spread_factor)))\n",
      "  \n",
      "    # Finally, for each feasible configuration where chunks are stored, we calculate the probabi-\n",
      "    # lity the file is lost.\n",
      "    for config in configurations:\n",
      "        probability_file_loss = probability_file_loss + probability_configuration*probability_at_least_d_fail_matrix(config, d, chunk_count, disk_reliability)\n",
      "        \n",
      "    return probability_file_loss"
     ],
     "language": "python",
     "metadata": {},
     "outputs": [],
     "prompt_number": 86
    },
    {
     "cell_type": "code",
     "collapsed": false,
     "input": [
      "from random import *\n",
      "eps = 0.00001\n",
      "pList = [uniform(0.9,1-eps) for i in range(m)]\n",
      "print(probability_file_loss(m,n,s,d,pList))\n",
      "print(\"\")\n",
      "print(probability_file_loss2(m,n,s,d,pList))"
     ],
     "language": "python",
     "metadata": {},
     "outputs": [
      {
       "ename": "ValueError",
       "evalue": "Cannot find a common data type.",
       "output_type": "pyerr",
       "traceback": [
        "\u001b[0;31m---------------------------------------------------------------------------\u001b[0m\n\u001b[0;31mValueError\u001b[0m                                Traceback (most recent call last)",
        "\u001b[0;32m<ipython-input-106-a26a908676fb>\u001b[0m in \u001b[0;36m<module>\u001b[0;34m()\u001b[0m\n\u001b[1;32m      4\u001b[0m \u001b[0;32mprint\u001b[0m\u001b[0;34m(\u001b[0m\u001b[0mprobability_file_loss\u001b[0m\u001b[0;34m(\u001b[0m\u001b[0mm\u001b[0m\u001b[0;34m,\u001b[0m\u001b[0mn\u001b[0m\u001b[0;34m,\u001b[0m\u001b[0ms\u001b[0m\u001b[0;34m,\u001b[0m\u001b[0md\u001b[0m\u001b[0;34m,\u001b[0m\u001b[0mpList\u001b[0m\u001b[0;34m)\u001b[0m\u001b[0;34m)\u001b[0m\u001b[0;34m\u001b[0m\u001b[0m\n\u001b[1;32m      5\u001b[0m \u001b[0;32mprint\u001b[0m\u001b[0;34m(\u001b[0m\u001b[0;34m\"\"\u001b[0m\u001b[0;34m)\u001b[0m\u001b[0;34m\u001b[0m\u001b[0m\n\u001b[0;32m----> 6\u001b[0;31m \u001b[0;32mprint\u001b[0m\u001b[0;34m(\u001b[0m\u001b[0mprobability_file_loss2\u001b[0m\u001b[0;34m(\u001b[0m\u001b[0mm\u001b[0m\u001b[0;34m,\u001b[0m\u001b[0mn\u001b[0m\u001b[0;34m,\u001b[0m\u001b[0ms\u001b[0m\u001b[0;34m,\u001b[0m\u001b[0md\u001b[0m\u001b[0;34m,\u001b[0m\u001b[0mpList\u001b[0m\u001b[0;34m)\u001b[0m\u001b[0;34m)\u001b[0m\u001b[0;34m\u001b[0m\u001b[0m\n\u001b[0m",
        "\u001b[0;32m<ipython-input-86-9dc7e22ea95a>\u001b[0m in \u001b[0;36mprobability_file_loss2\u001b[0;34m(disk_count, chunk_count, spread_factor, d, disk_reliability)\u001b[0m\n\u001b[1;32m     55\u001b[0m     \u001b[0;31m# lity the file is lost.\u001b[0m\u001b[0;34m\u001b[0m\u001b[0;34m\u001b[0m\u001b[0m\n\u001b[1;32m     56\u001b[0m     \u001b[0;32mfor\u001b[0m \u001b[0mconfig\u001b[0m \u001b[0;32min\u001b[0m \u001b[0mconfigurations\u001b[0m\u001b[0;34m:\u001b[0m\u001b[0;34m\u001b[0m\u001b[0m\n\u001b[0;32m---> 57\u001b[0;31m         \u001b[0mprobability_file_loss\u001b[0m \u001b[0;34m=\u001b[0m \u001b[0mprobability_file_loss\u001b[0m \u001b[0;34m+\u001b[0m \u001b[0mprobability_configuration\u001b[0m\u001b[0;34m*\u001b[0m\u001b[0mprobability_at_least_d_fail_matrix\u001b[0m\u001b[0;34m(\u001b[0m\u001b[0mconfig\u001b[0m\u001b[0;34m,\u001b[0m \u001b[0md\u001b[0m\u001b[0;34m,\u001b[0m \u001b[0mchunk_count\u001b[0m\u001b[0;34m,\u001b[0m \u001b[0mdisk_reliability\u001b[0m\u001b[0;34m)\u001b[0m\u001b[0;34m\u001b[0m\u001b[0m\n\u001b[0m\u001b[1;32m     58\u001b[0m \u001b[0;34m\u001b[0m\u001b[0m\n\u001b[1;32m     59\u001b[0m     \u001b[0;32mreturn\u001b[0m \u001b[0mprobability_file_loss\u001b[0m\u001b[0;34m\u001b[0m\u001b[0m\n",
        "\u001b[0;32m<ipython-input-105-6a3a3db262e4>\u001b[0m in \u001b[0;36mprobability_at_least_d_fail_matrix\u001b[0;34m(configuration, d, chunk_count, disk_reliability)\u001b[0m\n\u001b[1;32m     15\u001b[0m     \u001b[0;31m#probability = ones(d+1).dot(matrix_multiplication(matrix_list, d).dot(eye(d+1,1,-d,dtype=float)))\u001b[0m\u001b[0;34m\u001b[0m\u001b[0;34m\u001b[0m\u001b[0m\n\u001b[1;32m     16\u001b[0m     \u001b[0mtmp\u001b[0m \u001b[0;34m=\u001b[0m \u001b[0mmatrix_multiplication\u001b[0m\u001b[0;34m(\u001b[0m\u001b[0mmatrix_list\u001b[0m\u001b[0;34m,\u001b[0m \u001b[0md\u001b[0m\u001b[0;34m)\u001b[0m\u001b[0;34m.\u001b[0m\u001b[0mdot\u001b[0m\u001b[0;34m(\u001b[0m\u001b[0meye\u001b[0m\u001b[0;34m(\u001b[0m\u001b[0md\u001b[0m\u001b[0;34m+\u001b[0m\u001b[0;36m1\u001b[0m\u001b[0;34m,\u001b[0m\u001b[0;36m1\u001b[0m\u001b[0;34m,\u001b[0m\u001b[0;34m-\u001b[0m\u001b[0md\u001b[0m\u001b[0;34m,\u001b[0m\u001b[0mdtype\u001b[0m\u001b[0;34m=\u001b[0m\u001b[0mfloat\u001b[0m\u001b[0;34m)\u001b[0m\u001b[0;34m)\u001b[0m\u001b[0;34m\u001b[0m\u001b[0m\n\u001b[0;32m---> 17\u001b[0;31m     \u001b[0mprobability\u001b[0m \u001b[0;34m=\u001b[0m \u001b[0mones\u001b[0m\u001b[0;34m(\u001b[0m\u001b[0md\u001b[0m\u001b[0;34m+\u001b[0m\u001b[0;36m1\u001b[0m\u001b[0;34m,\u001b[0m\u001b[0mdtype\u001b[0m\u001b[0;34m=\u001b[0m\u001b[0mfloat\u001b[0m\u001b[0;34m)\u001b[0m\u001b[0;34m.\u001b[0m\u001b[0mdot\u001b[0m\u001b[0;34m(\u001b[0m\u001b[0mtmp\u001b[0m\u001b[0;34m)\u001b[0m\u001b[0;34m\u001b[0m\u001b[0m\n\u001b[0m\u001b[1;32m     18\u001b[0m     \u001b[0;32mprint\u001b[0m\u001b[0;34m(\u001b[0m\u001b[0mprobability\u001b[0m\u001b[0;34m)\u001b[0m\u001b[0;34m\u001b[0m\u001b[0m\n\u001b[1;32m     19\u001b[0m \u001b[0;34m\u001b[0m\u001b[0m\n",
        "\u001b[0;31mValueError\u001b[0m: Cannot find a common data type."
       ]
      },
      {
       "output_type": "stream",
       "stream": "stdout",
       "text": [
        "0.0205579889983\n",
        "\n"
       ]
      }
     ],
     "prompt_number": 106
    },
    {
     "cell_type": "code",
     "collapsed": false,
     "input": [],
     "language": "python",
     "metadata": {},
     "outputs": [],
     "prompt_number": 87
    },
    {
     "cell_type": "code",
     "collapsed": false,
     "input": [
      "def file_loss_delta(delta, mean_reliability, experience_count, disk_count, chunk_count, spread_factor, d):\n",
      "    \"\"\"To do.\n",
      "    \n",
      "    Args:\n",
      "        delta (double): \n",
      "        mean_reliability:\n",
      "        experience_count (int):\n",
      "        disk_count (int): number of disks in the system.\n",
      "        chunk_count (int): number of chunks the file is spread into.\n",
      "        spread_factor (int): number of disks to be used after selected disk.\n",
      "        d (int): \n",
      "        \n",
      "    Returns:\n",
      "        To do. \n",
      "    \"\"\"\n",
      "    \n",
      "    for experience in range(experience_count):\n",
      "        # First we generate the list of disk reliability between mean_reliability-0.5*delta and mean_reliability-0.5*delta.\n",
      "        reliability_list = [uniform(mean_reliability-0.5*delta,mean_reliability+0.5*delta) for i in range(disk_count)]\n",
      "    \n",
      "        # Then we calculate the probability of file loss for the reliability list \n",
      "        yield probability_file_loss(disk_count, chunk_count, spread_factor, d, reliability_list)"
     ],
     "language": "python",
     "metadata": {},
     "outputs": [],
     "prompt_number": 71
    },
    {
     "cell_type": "code",
     "collapsed": false,
     "input": [
      "# Parameters\n",
      "experience_count = 100\n",
      "delta = 0.0001\n",
      "mean_reliability = 0.999\n",
      "\n",
      "# Probability of losing the file for the mean reliability\n",
      "probability_at_least_d_fail_equal_reliability(d, n, mean_reliability)\n",
      "\n",
      "# Probability of losing a file for reliabilities in [mean_reliability-0.5*delta ; mean_reliability+0.5*delta]\n",
      "probability_list = file_loss_delta(delta, mean_reliability, experience_count, m, n, s, d)\n",
      "\n",
      "for i in probability_list:\n",
      "    print(i)"
     ],
     "language": "python",
     "metadata": {},
     "outputs": [
      {
       "output_type": "stream",
       "stream": "stdout",
       "text": [
        "2.18421678348e-07\n",
        "2.18014140881e-07"
       ]
      },
      {
       "output_type": "stream",
       "stream": "stdout",
       "text": [
        "\n",
        "2.18525649252e-07"
       ]
      },
      {
       "output_type": "stream",
       "stream": "stdout",
       "text": [
        "\n",
        "2.19002595212e-07"
       ]
      },
      {
       "output_type": "stream",
       "stream": "stdout",
       "text": [
        "\n",
        "2.18046573517e-07"
       ]
      },
      {
       "output_type": "stream",
       "stream": "stdout",
       "text": [
        "\n",
        "2.18421402997e-07"
       ]
      },
      {
       "output_type": "stream",
       "stream": "stdout",
       "text": [
        "\n",
        "2.17955605863e-07"
       ]
      },
      {
       "output_type": "stream",
       "stream": "stdout",
       "text": [
        "\n",
        "2.19445375391e-07"
       ]
      },
      {
       "output_type": "stream",
       "stream": "stdout",
       "text": [
        "\n",
        "2.17584682992e-07"
       ]
      },
      {
       "output_type": "stream",
       "stream": "stdout",
       "text": [
        "\n",
        "2.18436743393e-07"
       ]
      },
      {
       "output_type": "stream",
       "stream": "stdout",
       "text": [
        "\n",
        "2.1860620437e-07"
       ]
      },
      {
       "output_type": "stream",
       "stream": "stdout",
       "text": [
        "\n",
        "2.179159889e-07"
       ]
      },
      {
       "output_type": "stream",
       "stream": "stdout",
       "text": [
        "\n",
        "2.18556588969e-07"
       ]
      },
      {
       "output_type": "stream",
       "stream": "stdout",
       "text": [
        "\n",
        "2.19198188951e-07"
       ]
      },
      {
       "output_type": "stream",
       "stream": "stdout",
       "text": [
        "\n",
        "2.18733644811e-07"
       ]
      },
      {
       "output_type": "stream",
       "stream": "stdout",
       "text": [
        "\n",
        "2.19684102638e-07"
       ]
      },
      {
       "output_type": "stream",
       "stream": "stdout",
       "text": [
        "\n",
        "2.18576905914e-07"
       ]
      },
      {
       "output_type": "stream",
       "stream": "stdout",
       "text": [
        "\n",
        "2.18711950382e-07"
       ]
      },
      {
       "output_type": "stream",
       "stream": "stdout",
       "text": [
        "\n",
        "2.1949863e-07"
       ]
      },
      {
       "output_type": "stream",
       "stream": "stdout",
       "text": [
        "\n",
        "2.17643087652e-07"
       ]
      },
      {
       "output_type": "stream",
       "stream": "stdout",
       "text": [
        "\n",
        "2.19603557265e-07"
       ]
      },
      {
       "output_type": "stream",
       "stream": "stdout",
       "text": [
        "\n",
        "2.18352474138e-07"
       ]
      },
      {
       "output_type": "stream",
       "stream": "stdout",
       "text": [
        "\n",
        "2.18974804638e-07"
       ]
      },
      {
       "output_type": "stream",
       "stream": "stdout",
       "text": [
        "\n",
        "2.17846878084e-07"
       ]
      },
      {
       "output_type": "stream",
       "stream": "stdout",
       "text": [
        "\n",
        "2.18624615793e-07"
       ]
      },
      {
       "output_type": "stream",
       "stream": "stdout",
       "text": [
        "\n",
        "2.18586908574e-07"
       ]
      },
      {
       "output_type": "stream",
       "stream": "stdout",
       "text": [
        "\n",
        "2.18869476016e-07"
       ]
      },
      {
       "output_type": "stream",
       "stream": "stdout",
       "text": [
        "\n",
        "2.17894653111e-07"
       ]
      },
      {
       "output_type": "stream",
       "stream": "stdout",
       "text": [
        "\n",
        "2.18982774371e-07"
       ]
      },
      {
       "output_type": "stream",
       "stream": "stdout",
       "text": [
        "\n",
        "2.18137642385e-07"
       ]
      },
      {
       "output_type": "stream",
       "stream": "stdout",
       "text": [
        "\n",
        "2.18248360849e-07"
       ]
      },
      {
       "output_type": "stream",
       "stream": "stdout",
       "text": [
        "\n",
        "2.18496459446e-07"
       ]
      },
      {
       "output_type": "stream",
       "stream": "stdout",
       "text": [
        "\n",
        "2.19513307811e-07"
       ]
      },
      {
       "output_type": "stream",
       "stream": "stdout",
       "text": [
        "\n",
        "2.19146034434e-07"
       ]
      },
      {
       "output_type": "stream",
       "stream": "stdout",
       "text": [
        "\n",
        "2.17804585769e-07"
       ]
      },
      {
       "output_type": "stream",
       "stream": "stdout",
       "text": [
        "\n",
        "2.17667662655e-07"
       ]
      },
      {
       "output_type": "stream",
       "stream": "stdout",
       "text": [
        "\n",
        "2.18830347891e-07"
       ]
      },
      {
       "output_type": "stream",
       "stream": "stdout",
       "text": [
        "\n",
        "2.17962956773e-07"
       ]
      },
      {
       "output_type": "stream",
       "stream": "stdout",
       "text": [
        "\n",
        "2.19347220459e-07"
       ]
      },
      {
       "output_type": "stream",
       "stream": "stdout",
       "text": [
        "\n",
        "2.1738411266e-07"
       ]
      },
      {
       "output_type": "stream",
       "stream": "stdout",
       "text": [
        "\n",
        "2.18299458287e-07"
       ]
      },
      {
       "output_type": "stream",
       "stream": "stdout",
       "text": [
        "\n",
        "2.18221177662e-07"
       ]
      },
      {
       "output_type": "stream",
       "stream": "stdout",
       "text": [
        "\n",
        "2.1768914231e-07"
       ]
      },
      {
       "output_type": "stream",
       "stream": "stdout",
       "text": [
        "\n",
        "2.19412032462e-07"
       ]
      },
      {
       "output_type": "stream",
       "stream": "stdout",
       "text": [
        "\n",
        "2.17897638927e-07"
       ]
      },
      {
       "output_type": "stream",
       "stream": "stdout",
       "text": [
        "\n",
        "2.17200583498e-07"
       ]
      },
      {
       "output_type": "stream",
       "stream": "stdout",
       "text": [
        "\n",
        "2.18857037673e-07"
       ]
      },
      {
       "output_type": "stream",
       "stream": "stdout",
       "text": [
        "\n",
        "2.18333204188e-07"
       ]
      },
      {
       "output_type": "stream",
       "stream": "stdout",
       "text": [
        "\n",
        "2.18770476038e-07"
       ]
      },
      {
       "output_type": "stream",
       "stream": "stdout",
       "text": [
        "\n",
        "2.18570729153e-07"
       ]
      },
      {
       "output_type": "stream",
       "stream": "stdout",
       "text": [
        "\n",
        "2.18867507098e-07"
       ]
      },
      {
       "output_type": "stream",
       "stream": "stdout",
       "text": [
        "\n",
        "2.18525601925e-07"
       ]
      },
      {
       "output_type": "stream",
       "stream": "stdout",
       "text": [
        "\n",
        "2.17256776601e-07"
       ]
      },
      {
       "output_type": "stream",
       "stream": "stdout",
       "text": [
        "\n",
        "2.18027741222e-07"
       ]
      },
      {
       "output_type": "stream",
       "stream": "stdout",
       "text": [
        "\n",
        "2.1763511457e-07"
       ]
      },
      {
       "output_type": "stream",
       "stream": "stdout",
       "text": [
        "\n",
        "2.18656709772e-07"
       ]
      },
      {
       "output_type": "stream",
       "stream": "stdout",
       "text": [
        "\n",
        "2.17514603504e-07"
       ]
      },
      {
       "output_type": "stream",
       "stream": "stdout",
       "text": [
        "\n",
        "2.19869968296e-07"
       ]
      },
      {
       "output_type": "stream",
       "stream": "stdout",
       "text": [
        "\n",
        "2.17656137816e-07"
       ]
      },
      {
       "output_type": "stream",
       "stream": "stdout",
       "text": [
        "\n",
        "2.1780862805e-07"
       ]
      },
      {
       "output_type": "stream",
       "stream": "stdout",
       "text": [
        "\n",
        "2.18340684959e-07"
       ]
      },
      {
       "output_type": "stream",
       "stream": "stdout",
       "text": [
        "\n",
        "2.17323763903e-07"
       ]
      },
      {
       "output_type": "stream",
       "stream": "stdout",
       "text": [
        "\n",
        "2.18089440986e-07"
       ]
      },
      {
       "output_type": "stream",
       "stream": "stdout",
       "text": [
        "\n",
        "2.17755834626e-07"
       ]
      },
      {
       "output_type": "stream",
       "stream": "stdout",
       "text": [
        "\n",
        "2.18543937481e-07"
       ]
      },
      {
       "output_type": "stream",
       "stream": "stdout",
       "text": [
        "\n",
        "2.19238711677e-07"
       ]
      },
      {
       "output_type": "stream",
       "stream": "stdout",
       "text": [
        "\n",
        "2.18664817514e-07"
       ]
      },
      {
       "output_type": "stream",
       "stream": "stdout",
       "text": [
        "\n",
        "2.19488518202e-07"
       ]
      },
      {
       "output_type": "stream",
       "stream": "stdout",
       "text": [
        "\n",
        "2.17866235047e-07"
       ]
      },
      {
       "output_type": "stream",
       "stream": "stdout",
       "text": [
        "\n",
        "2.17828274195e-07"
       ]
      },
      {
       "output_type": "stream",
       "stream": "stdout",
       "text": [
        "\n",
        "2.19445684407e-07"
       ]
      },
      {
       "output_type": "stream",
       "stream": "stdout",
       "text": [
        "\n",
        "2.1790204757e-07"
       ]
      },
      {
       "output_type": "stream",
       "stream": "stdout",
       "text": [
        "\n",
        "2.19752662648e-07"
       ]
      },
      {
       "output_type": "stream",
       "stream": "stdout",
       "text": [
        "\n",
        "2.18788766524e-07"
       ]
      },
      {
       "output_type": "stream",
       "stream": "stdout",
       "text": [
        "\n",
        "2.18562514642e-07"
       ]
      },
      {
       "output_type": "stream",
       "stream": "stdout",
       "text": [
        "\n",
        "2.18222180638e-07"
       ]
      },
      {
       "output_type": "stream",
       "stream": "stdout",
       "text": [
        "\n",
        "2.18634806701e-07"
       ]
      },
      {
       "output_type": "stream",
       "stream": "stdout",
       "text": [
        "\n",
        "2.17991523109e-07"
       ]
      },
      {
       "output_type": "stream",
       "stream": "stdout",
       "text": [
        "\n",
        "2.18214090092e-07"
       ]
      },
      {
       "output_type": "stream",
       "stream": "stdout",
       "text": [
        "\n",
        "2.17672515662e-07"
       ]
      },
      {
       "output_type": "stream",
       "stream": "stdout",
       "text": [
        "\n",
        "2.18112350207e-07"
       ]
      },
      {
       "output_type": "stream",
       "stream": "stdout",
       "text": [
        "\n",
        "2.18231116132e-07"
       ]
      },
      {
       "output_type": "stream",
       "stream": "stdout",
       "text": [
        "\n",
        "2.18409750711e-07"
       ]
      },
      {
       "output_type": "stream",
       "stream": "stdout",
       "text": [
        "\n",
        "2.18912847149e-07"
       ]
      },
      {
       "output_type": "stream",
       "stream": "stdout",
       "text": [
        "\n",
        "2.19148470881e-07"
       ]
      },
      {
       "output_type": "stream",
       "stream": "stdout",
       "text": [
        "\n",
        "2.19725219045e-07"
       ]
      },
      {
       "output_type": "stream",
       "stream": "stdout",
       "text": [
        "\n",
        "2.18349995145e-07"
       ]
      },
      {
       "output_type": "stream",
       "stream": "stdout",
       "text": [
        "\n",
        "2.18281339956e-07"
       ]
      },
      {
       "output_type": "stream",
       "stream": "stdout",
       "text": [
        "\n",
        "2.17525203303e-07"
       ]
      },
      {
       "output_type": "stream",
       "stream": "stdout",
       "text": [
        "\n",
        "2.19249880009e-07"
       ]
      },
      {
       "output_type": "stream",
       "stream": "stdout",
       "text": [
        "\n",
        "2.18401070812e-07"
       ]
      },
      {
       "output_type": "stream",
       "stream": "stdout",
       "text": [
        "\n",
        "2.1792998953e-07"
       ]
      },
      {
       "output_type": "stream",
       "stream": "stdout",
       "text": [
        "\n",
        "2.17231869215e-07"
       ]
      },
      {
       "output_type": "stream",
       "stream": "stdout",
       "text": [
        "\n",
        "2.18477626862e-07"
       ]
      },
      {
       "output_type": "stream",
       "stream": "stdout",
       "text": [
        "\n",
        "2.18823389055e-07"
       ]
      },
      {
       "output_type": "stream",
       "stream": "stdout",
       "text": [
        "\n",
        "2.18738584084e-07"
       ]
      },
      {
       "output_type": "stream",
       "stream": "stdout",
       "text": [
        "\n",
        "2.18912016185e-07"
       ]
      },
      {
       "output_type": "stream",
       "stream": "stdout",
       "text": [
        "\n",
        "2.18391746503e-07"
       ]
      },
      {
       "output_type": "stream",
       "stream": "stdout",
       "text": [
        "\n",
        "2.18386940837e-07"
       ]
      },
      {
       "output_type": "stream",
       "stream": "stdout",
       "text": [
        "\n",
        "2.18999962196e-07"
       ]
      },
      {
       "output_type": "stream",
       "stream": "stdout",
       "text": [
        "\n"
       ]
      }
     ],
     "prompt_number": 76
    },
    {
     "cell_type": "code",
     "collapsed": false,
     "input": [],
     "language": "python",
     "metadata": {},
     "outputs": []
    }
   ],
   "metadata": {}
  }
 ]
}