{
 "metadata": {
  "name": "",
  "signature": "sha256:150f6fe62ec422cb6fff8b9322e5fd489120111c165671fe553f3eab3682730d"
 },
 "nbformat": 3,
 "nbformat_minor": 0,
 "worksheets": [
  {
   "cells": [
    {
     "cell_type": "markdown",
     "metadata": {},
     "source": [
      "# File loss in a server\n",
      "\n",
      "## Parameters\n",
      "\n",
      "* $m$ the number of disks in the server ; \n",
      "* $n$ the number of chunks ; \n",
      "* $s$ the spread factor ; \n",
      "* $d$ the number of chunks until the file is irrecoverable."
     ]
    },
    {
     "cell_type": "code",
     "collapsed": false,
     "input": [
      "# The parameters\n",
      "m = 100 # number of disks\n",
      "n = 12 # number of chunks\n",
      "d = 4 # number of chinks until the file is lost\n",
      "spread_factor = 11 # spread factor"
     ],
     "language": "python",
     "metadata": {},
     "outputs": [],
     "prompt_number": 39
    },
    {
     "cell_type": "markdown",
     "metadata": {},
     "source": [
      "## Placement policy\n",
      "### Description\n",
      "### Feasible configurations"
     ]
    },
    {
     "cell_type": "code",
     "collapsed": false,
     "input": [
      "from itertools import (cycle, islice)\n",
      "\n",
      "def window(seq, n):\n",
      "    it = iter(seq)\n",
      "    result = tuple(islice(it, n))\n",
      "    if len(result) == n:\n",
      "        yield result\n",
      "    for elem in it:\n",
      "        result = result[1:] + (elem,)\n",
      "        yield result"
     ],
     "language": "python",
     "metadata": {},
     "outputs": [],
     "prompt_number": 2
    },
    {
     "cell_type": "code",
     "collapsed": false,
     "input": [
      "from itertools import (combinations, chain)\n",
      "\n",
      "def feasible_configurations(disk_count, chunk_count, spread_factor):\n",
      "    \"\"\"Compute feasible configurations.\n",
      "    \n",
      "    Args:\n",
      "        disk_count (int): number of disks in the system.\n",
      "        chunk_count (int): number of chunks the file is spread into.\n",
      "        spread_factor (int): number of disks to be used after selected disk.\n",
      "        \n",
      "    Returns:\n",
      "        Set of feasible configurations represented as a tuple of integers. \n",
      "    \"\"\"\n",
      "    remaining_chunks = chunk_count - 1\n",
      "    selected_disks = spread_factor + 1\n",
      "    \n",
      "    disk_ring = cycle(range(disk_count))\n",
      "    \n",
      "    for i, w in enumerate(window(disk_ring, selected_disks)):\n",
      "        main_disk, consecutive_disks = w[0], islice(w, 1, None)\n",
      "        for c in combinations(consecutive_disks, remaining_chunks):\n",
      "            yield (main_disk,) + c\n",
      "        if i >= disk_count - 1:\n",
      "            break"
     ],
     "language": "python",
     "metadata": {},
     "outputs": [],
     "prompt_number": 3
    },
    {
     "cell_type": "code",
     "collapsed": false,
     "input": [],
     "language": "python",
     "metadata": {},
     "outputs": [],
     "prompt_number": 49
    },
    {
     "cell_type": "markdown",
     "metadata": {},
     "source": [
      "## How to calculate the probability of loosing at least $d$ chunks?"
     ]
    },
    {
     "cell_type": "markdown",
     "metadata": {},
     "source": [
      "### Total probability formula "
     ]
    },
    {
     "cell_type": "markdown",
     "metadata": {},
     "source": [
      "### Probability of loosing at least $d$ chunks (or that at least $d$ disks fail) for a special configuration"
     ]
    },
    {
     "cell_type": "code",
     "collapsed": false,
     "input": [
      "def disk_reliability_index(index):\n",
      "    return index-1\n",
      "\n",
      "def probability_at_least_d_fail(configuration, d, chunk_count, disk_reliability):\n",
      "    \"\"\"Compute the probability of observing at least d disks failure for a special configuration.\n",
      "    \n",
      "    Args:\n",
      "        configuration (int) : disk indexes in {1,...,m} where chunks are stored.\n",
      "        d (int) : number of loss from which a file is lost.\n",
      "        chunk_count (int): number of chunks the file is spread into.\n",
      "        disk_reliability (double): list of chunk_count real in ]0;1[.\n",
      "        \n",
      "    Returns:\n",
      "        The probability of observing at least d disks failure for a special configuration as a real. \n",
      "    \"\"\"\n",
      "    \n",
      "    probability = 0.0\n",
      "    \n",
      "    for k in [d+i for i in range(chunk_count-d+1)]:\n",
      "        # Computation of combinations of size k from elements in configuration.\n",
      "        k_combinations = combinations(configuration,k)\n",
      "        for combination in k_combinations:\n",
      "            product = 1.0\n",
      "            # Disks with indexes in combination failed\n",
      "            for l in combination:\n",
      "                product = product*(1.0-disk_reliability[disk_reliability_index(l)])  \n",
      "            # Disks with indexes in combination work\n",
      "            for l in set(configuration).difference(set(combination)):\n",
      "                product = product*disk_reliability[disk_reliability_index(l)]\n",
      "                \n",
      "            probability = probability + product\n",
      "            \n",
      "    return probability"
     ],
     "language": "python",
     "metadata": {},
     "outputs": [],
     "prompt_number": 4
    },
    {
     "cell_type": "code",
     "collapsed": true,
     "input": [
      "from numpy import *\n",
      "from scipy.sparse import *\n",
      "\n",
      "def create_matrix(probability, d):\n",
      "    \"\"\"Construct matrix used to calculate the probability of losing ate least d blocks.\n",
      "    \n",
      "    Args:\n",
      "        probability (double) : a probability in ]0,1[.\n",
      "        d (int) : number of loss from which a file is lost.\n",
      "        \n",
      "    Returns:\n",
      "        A (d+1)x(d+1) matrix with non-zero elements only on the diagonal and on the upper diagonal, as a sparse array.\n",
      "    \"\"\"\n",
      "    yield csc_matrix((1.0 - probability)*eye(d+1,d+1,0,dtype=float) + probability*eye(d+1,d+1,1,dtype=float))\n",
      "    \n",
      "    \n",
      "def construct_matrix(configuration, reliability_list, d):\n",
      "    \"\"\"Construct matrix used to calculate the probability of losing ate least d blocks.\n",
      "    \n",
      "    Args:\n",
      "        configuration (int) : disk indexes in {1,...,m} where chunks are stored.\n",
      "        d (int) : number of loss from which a file is lost.\n",
      "        reliability_list (double): list of chunk_count real in ]0;1[.\n",
      "        \n",
      "    Returns:\n",
      "        List of matrix of the size of configuration. Each matrix is a (d+1)x(d+1) matrix.\n",
      "    \"\"\"\n",
      "    \n",
      "    for index in configuration:\n",
      "        yield create_matrix(reliability_list[disk_reliability_index(index)], d)\n",
      "        \n",
      "def matrix_multiplication(matrix_list, d):\n",
      "    \"\"\"Compute the matrix product of a list of matrix.\n",
      "    \n",
      "    Args:\n",
      "        matrix_list (list) : list of chunk_count matrix.\n",
      "        d (int) : number of loss from which a file is lost.\n",
      "        \n",
      "    Returns:\n",
      "        A matrix of size chunk_count x chunk_count as a sparse array.  \n",
      "    \"\"\"\n",
      "    \n",
      "    product_matrix = eye(d+1,d+1,0,dtype=float)\n",
      "    \n",
      "    for matrix in reversed(matrix_list):\n",
      "        product_matrix = product_matrix.dot(product_matrix)\n",
      "        \n",
      "    return product_matrix"
     ],
     "language": "python",
     "metadata": {},
     "outputs": [],
     "prompt_number": 5
    },
    {
     "cell_type": "code",
     "collapsed": false,
     "input": [
      "def probability_at_least_d_fail_matrix(configuration, d, chunk_count, disk_reliability):\n",
      "    \"\"\"Compute the probability of observing at least d disks failure for a special configuration using matrix formulation.\n",
      "    \n",
      "    Args:\n",
      "        configuration (int) : disk indexes in {1,...,m} where chunks are stored.\n",
      "        d (int) : number of loss from which a file is lost.\n",
      "        chunk_count (int): number of chunks the file is spread into.\n",
      "        disk_reliability (double): list of chunk_count real in ]0;1[.\n",
      "        \n",
      "    Returns:\n",
      "        The probability of observing at least d disks failure for a special configuration as a real. \n",
      "    \"\"\"\n",
      "    matrix_list = list(construct_matrix(configuration, disk_reliability, d))\n",
      "\n",
      "    #probability = ones(d+1).dot(matrix_multiplication(matrix_list, d).dot(eye(d+1,1,-d,dtype=float)))\n",
      "    tmp = matrix_multiplication(matrix_list, d).dot(eye(d+1,1,-d,dtype=float))\n",
      "    probability = ones(d+1,dtype=float).dot(tmp)\n",
      "    print(probability)\n",
      "    \n",
      "    return probability"
     ],
     "language": "python",
     "metadata": {},
     "outputs": [],
     "prompt_number": 7
    },
    {
     "cell_type": "markdown",
     "metadata": {},
     "source": [
      "#### Case where all $p_i$ are equal, $p_i \\equiv p$"
     ]
    },
    {
     "cell_type": "code",
     "collapsed": false,
     "input": [
      "from math import factorial\n",
      "\n",
      "def probability_at_least_d_fail_equal_reliability(d,chunk_count ,reliability):\n",
      "    \"\"\"Compute the probability of observing at least d disks failure for a special configuration if all reliabilities are equal.\n",
      "    \n",
      "    Args:\n",
      "        d (int) : number of loss from which a file is lost.\n",
      "        chunk_count (int): number of chunks the file is spread into.\n",
      "        reliability (double): disks reliability.\n",
      "        \n",
      "    Returns:\n",
      "        The probability of observing at least d disks failure for a special configuration as a real. \n",
      "    \"\"\"\n",
      "    probability = 0.0\n",
      "    \n",
      "    unreliability = 1.0-reliability\n",
      "    \n",
      "    for k in [d+i for i in range(chunk_count-d+1)]:\n",
      "        qk = pow(unreliability,k)\n",
      "        pnk = pow(reliability,chunk_count-k)\n",
      "        prefactor = factorial(chunk_count)/(factorial(chunk_count-k)*factorial(k))\n",
      "        probability = probability + prefactor*qk*pnk\n",
      "        \n",
      "    return probability"
     ],
     "language": "python",
     "metadata": {},
     "outputs": [],
     "prompt_number": 8
    },
    {
     "cell_type": "code",
     "collapsed": false,
     "input": [],
     "language": "python",
     "metadata": {},
     "outputs": [],
     "prompt_number": 8
    },
    {
     "cell_type": "markdown",
     "metadata": {},
     "source": [
      "### Probability of choosing a special configuration"
     ]
    },
    {
     "cell_type": "code",
     "collapsed": false,
     "input": [
      "from math import factorial\n",
      "\n",
      "probability_configuration = 1.0*(factorial(s-n+1)*factorial(n-1))/(m*factorial(s))"
     ],
     "language": "python",
     "metadata": {},
     "outputs": [],
     "prompt_number": 9
    },
    {
     "cell_type": "markdown",
     "metadata": {},
     "source": [
      "### Sum up"
     ]
    },
    {
     "cell_type": "code",
     "collapsed": false,
     "input": [
      "from math import factorial\n",
      "\n",
      "def probability_file_loss(disk_count, chunk_count, spread_factor, d, disk_reliability):\n",
      "    \"\"\"Compute the probability of file loss.\n",
      "    \n",
      "    Args:\n",
      "        disk_count (int): number of disks in the system.\n",
      "        chunk_count (int): number of chunks the file is spread into.\n",
      "        spread_factor (int): number of disks to be used after selected disk.\n",
      "        disk_reliability (double): list of chunk_count real in ]0;1[.\n",
      "        \n",
      "    Returns:\n",
      "        The probability that a file is lost as a real. \n",
      "    \"\"\"\n",
      "    probability_file_loss = 0.0\n",
      "    \n",
      "    # First we calculate the probability that a configuration is selected.\n",
      "    probability_configuration = 1.0*(factorial(spread_factor-chunk_count+1)*factorial(chunk_count-1))/(disk_count*factorial(spread_factor))\n",
      "    \n",
      "    # Then, we generate the list of all feasible configurations as a function of \n",
      "    # the number of disks, disk_count, the number of chunks, chunk_count and the spread factor.\n",
      "    configurations = list(map(lambda t: map(lambda e: e + 1, t),\n",
      "         feasible_configurations(disk_count, chunk_count, spread_factor)))\n",
      "  \n",
      "    # Finally, for each feasible configuration where chunks are stored, we calculate the probabi-\n",
      "    # lity the file is lost.\n",
      "    for config in configurations:\n",
      "        probability_file_loss = probability_file_loss + probability_configuration*probability_at_least_d_fail(config, d, chunk_count, disk_reliability)\n",
      "        \n",
      "    return probability_file_loss\n",
      "\n",
      "def probability_file_loss2(disk_count, chunk_count, spread_factor, d, disk_reliability):\n",
      "    \"\"\"Compute the probability of file loss.\n",
      "    \n",
      "    Args:\n",
      "        disk_count (int): number of disks in the system.\n",
      "        chunk_count (int): number of chunks the file is spread into.\n",
      "        spread_factor (int): number of disks to be used after selected disk.\n",
      "        disk_reliability (double): list of chunk_count real in ]0;1[.\n",
      "        \n",
      "    Returns:\n",
      "        The probability that a file is lost as a real. \n",
      "    \"\"\"\n",
      "    probability_file_loss = 0.0\n",
      "    \n",
      "    # First we calculate the probability that a configuration is selected.\n",
      "    probability_configuration = 1.0*(factorial(spread_factor-chunk_count+1)*factorial(chunk_count-1))/(disk_count*factorial(spread_factor))\n",
      "    \n",
      "    # Then, we generate the list of all feasible configurations as a function of \n",
      "    # the number of disks, disk_count, the number of chunks, chunk_count and the spread factor.\n",
      "    configurations = list(map(lambda t: map(lambda e: e + 1, t),\n",
      "         feasible_configurations(disk_count, chunk_count, spread_factor)))\n",
      "  \n",
      "    # Finally, for each feasible configuration where chunks are stored, we calculate the probabi-\n",
      "    # lity the file is lost.\n",
      "    for config in configurations:\n",
      "        probability_file_loss = probability_file_loss + probability_configuration*probability_at_least_d_fail_matrix(config, d, chunk_count, disk_reliability)\n",
      "        \n",
      "    return probability_file_loss"
     ],
     "language": "python",
     "metadata": {},
     "outputs": [],
     "prompt_number": 24
    },
    {
     "cell_type": "code",
     "collapsed": false,
     "input": [
      "from random import *\n",
      "eps = 0.00001\n",
      "pList = [uniform(0.9,1-eps) for i in range(m)]\n",
      "print(probability_file_loss(m, n, spread_factor, d, pList))\n",
      "print(\"\")\n",
      "#print(probability_file_loss2(m,n,spread_factor,d,pList))"
     ],
     "language": "python",
     "metadata": {},
     "outputs": [
      {
       "output_type": "stream",
       "stream": "stdout",
       "text": [
        "0.00228556180283\n",
        "\n"
       ]
      }
     ],
     "prompt_number": 26
    },
    {
     "cell_type": "code",
     "collapsed": false,
     "input": [],
     "language": "python",
     "metadata": {},
     "outputs": [],
     "prompt_number": 87
    },
    {
     "cell_type": "code",
     "collapsed": false,
     "input": [
      "def file_loss_delta(delta, mean_reliability, experience_count, disk_count, chunk_count, spread_factor, d):\n",
      "    \"\"\"To do.\n",
      "    \n",
      "    Args:\n",
      "        delta (double): \n",
      "        mean_reliability:\n",
      "        experience_count (int):\n",
      "        disk_count (int): number of disks in the system.\n",
      "        chunk_count (int): number of chunks the file is spread into.\n",
      "        spread_factor (int): number of disks to be used after selected disk.\n",
      "        d (int): \n",
      "        \n",
      "    Returns:\n",
      "        To do. \n",
      "    \"\"\"\n",
      "    \n",
      "    for experience in range(experience_count):\n",
      "        # First we generate the list of disk reliability between mean_reliability-0.5*delta and mean_reliability-0.5*delta.\n",
      "        reliability_list = [uniform(mean_reliability-0.5*delta,mean_reliability+0.5*delta) for i in range(disk_count)]\n",
      "    \n",
      "        # Then we calculate the probability of file loss for the reliability list \n",
      "        yield probability_file_loss(disk_count, chunk_count, spread_factor, d, reliability_list)"
     ],
     "language": "python",
     "metadata": {},
     "outputs": [],
     "prompt_number": 12
    },
    {
     "cell_type": "code",
     "collapsed": false,
     "input": [
      "from pandas import *\n",
      "from matplotlib import *\n",
      "from pylab import *\n",
      "\n",
      "# Parameters\n",
      "experience_count = 1000\n",
      "delta = 0.0001\n",
      "mean_reliability = 0.999\n",
      "\n",
      "# Probability of losing the file for the mean reliability\n",
      "probability_at_least_d_fail_equal_reliability(d, n, mean_reliability)\n",
      "\n",
      "# Probability of losing a file for reliabilities in [mean_reliability-0.5*delta ; mean_reliability+0.5*delta]\n",
      "probability_list = file_loss_delta(delta, mean_reliability, experience_count, m, n, spread_factor, d)\n",
      " \n",
      "# Convert the generator probability_list into a list\n",
      "my_list = [item for item in probability_list]\n",
      "\n",
      "probability_list_DataFrame = DataFrame(my_list)\n",
      "\n",
      "%pylab inline\n",
      "probability_list_DataFrame.hist()"
     ],
     "language": "python",
     "metadata": {},
     "outputs": [
      {
       "output_type": "stream",
       "stream": "stdout",
       "text": [
        "Populating the interactive namespace from numpy and matplotlib\n"
       ]
      },
      {
       "output_type": "stream",
       "stream": "stderr",
       "text": [
        "WARNING: pylab import has clobbered these variables: ['power', 'linalg', 'draw_if_interactive', 'random', 'fft', 'info']\n",
        "`%matplotlib` prevents importing * from pylab and numpy\n"
       ]
      },
      {
       "metadata": {},
       "output_type": "pyout",
       "prompt_number": 40,
       "text": [
        "array([[<matplotlib.axes._subplots.AxesSubplot object at 0x7fa2cf9b9b10>]], dtype=object)"
       ]
      },
      {
       "metadata": {},
       "output_type": "display_data",
       "png": "[encoded data removed]",
       "text": [
        "<matplotlib.figure.Figure at 0x7fa2cfeded50>"
       ]
      }
     ],
     "prompt_number": 40
    },
    {
     "cell_type": "code",
     "collapsed": false,
     "input": [
      "print(probability_at_least_d_fail_equal_reliability(d, n, mean_reliability))"
     ],
     "language": "python",
     "metadata": {},
     "outputs": [
      {
       "output_type": "stream",
       "stream": "stdout",
       "text": [
        "4.91841224177e-10\n"
       ]
      }
     ],
     "prompt_number": 41
    },
    {
     "cell_type": "code",
     "collapsed": false,
     "input": [],
     "language": "python",
     "metadata": {},
     "outputs": []
    }
   ],
   "metadata": {}
  }
 ]
}