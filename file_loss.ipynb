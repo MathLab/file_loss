{
 "metadata": {
  "name": "",
  "signature": "sha256:d12ab3182ceca11d2a67d006c2d5bf455dfb07246f85e85013ad3737668e6775"
 },
 "nbformat": 3,
 "nbformat_minor": 0,
 "worksheets": [
  {
   "cells": [
    {
     "cell_type": "markdown",
     "metadata": {},
     "source": [
      "# File loss in a server\n",
      "\n",
      "   This notebook is dedecated to the evaluation of the probability of losing a file stored in a server. The server is composed of $m$ disks denoted as $\\{d_1, \\dots, d_m\\}$. Each disk has a reliability $p_i$ for all $i$ in $\\{1, \\dots, m\\}$. The file is divided into $n$ chunks. Each chunk is stored in a different disk. Then, when all chunks are stored we obtain what we will call a * configuration * of disks : \n",
      "\n",
      "$$ C := \\{ d_{i_k} ; i_k \\in \\{1, \\dots, m\\} \\forall k \\in \\{1, \\dots, n\\}\\}$$\n",
      "\n",
      "   The placement policy will be describe below and involved a spread factor. \n",
      "   \n",
      "   A file is irrecoverable (or lost) if at least $d$ chunks are irrecoverable (or $d$ disks wherein chunks are stored fail).\n",
      "   \n",
      "   Parameters of interest in this study will be : \n",
      "\n",
      "* $m$ the number of disks in the server ; \n",
      "* $n$ the number of chunks ; \n",
      "* $s$ the spread factor ; \n",
      "* $d$ the number of chunks until the file is irrecoverable."
     ]
    },
    {
     "cell_type": "code",
     "collapsed": false,
     "input": [
      "# The parameters\n",
      "m = 9 # number of disks\n",
      "n = 4 # number of chunks\n",
      "d = 3 # number of chinks until the file is lost\n",
      "spread_factor = 7 # spread factor"
     ],
     "language": "python",
     "metadata": {},
     "outputs": [],
     "prompt_number": 177
    },
    {
     "cell_type": "markdown",
     "metadata": {},
     "source": [
      "## Placement policy\n",
      "\n",
      "In this section we are going to describe an analyse the placement policy.\n",
      "\n",
      "### Description\n",
      "\n",
      "To store the $n$ chunks, we first choose a disk out of the m disks in the server and we put a chunk into it. Then to store the $n - 1$ remaining chunks, we choose $ n - 1 $ disks out of the s (the spread factor) following neighboors of the first disk choosen.\n",
      "\n",
      "### Feasible configurations\n",
      "\n",
      "Thanks to the placement policy, only $$ m \\frac{s\\mathbb{!}}{(s - n + 1 )\\mathbb{!} (n - 1)\\mathbb{!}}$$ configurations can be choose to store the $n$ chunks instead of $ \\frac{m\\mathbb{!}}{(m - n)\\mathbb{!} n\\mathbb{!}}$ without the spread factor. This remark is important since we will need to take into account the different configurations for to calculation of the probability of losing a file ( due to different reliabilities). that is why it is interesting to focus only on feasible configurations.\n",
      "\n",
      "The function *feasible_configurations* allows us to calculate all feasible configurations given our parameters (m, n and s). The function *feasible_configurations* calls the other function, *window* which implements a sliding window on a sequence. This is an algorithmic issue to avoid different cases"
     ]
    },
    {
     "cell_type": "code",
     "collapsed": false,
     "input": [
      "from itertools import (cycle, islice)\n",
      "\n",
      "def window(seq, n):\n",
      "    it = iter(seq)\n",
      "    result = tuple(islice(it, n))\n",
      "    if len(result) == n:\n",
      "        yield result\n",
      "    for elem in it:\n",
      "        result = result[1:] + (elem,)\n",
      "        yield result"
     ],
     "language": "python",
     "metadata": {},
     "outputs": [],
     "prompt_number": 14
    },
    {
     "cell_type": "code",
     "collapsed": false,
     "input": [
      "from itertools import (combinations, chain)\n",
      "\n",
      "def feasible_configurations(disk_count, chunk_count, spread_factor):\n",
      "    \"\"\"Compute feasible configurations.\n",
      "    \n",
      "    Args:\n",
      "        disk_count (int): number of disks in the system.\n",
      "        chunk_count (int): number of chunks the file is spread into.\n",
      "        spread_factor (int): number of disks to be used after selected disk.\n",
      "        \n",
      "    Returns:\n",
      "        Set of feasible configurations represented as a tuple of integers. \n",
      "    \"\"\"\n",
      "    remaining_chunks = chunk_count - 1\n",
      "    selected_disks = spread_factor + 1\n",
      "    \n",
      "    disk_ring = cycle(range(disk_count))\n",
      "    \n",
      "    for i, w in enumerate(window(disk_ring, selected_disks)):\n",
      "        main_disk, consecutive_disks = w[0], islice(w, 1, None)\n",
      "        for c in combinations(consecutive_disks, remaining_chunks):\n",
      "            yield (main_disk,) + c\n",
      "        if i >= disk_count - 1:\n",
      "            break"
     ],
     "language": "python",
     "metadata": {},
     "outputs": [],
     "prompt_number": 15
    },
    {
     "cell_type": "markdown",
     "metadata": {},
     "source": [
      "### Example with the function *feasible_configurations*"
     ]
    },
    {
     "cell_type": "code",
     "collapsed": false,
     "input": [
      "for configuration in feasible_configurations(5, 2, 2):\n",
      "    print(configuration)"
     ],
     "language": "python",
     "metadata": {},
     "outputs": [
      {
       "output_type": "stream",
       "stream": "stdout",
       "text": [
        "(0, 1)\n",
        "(0, 2)\n",
        "(1, 2)\n",
        "(1, 3)\n",
        "(2, 3)\n",
        "(2, 4)\n",
        "(3, 4)\n",
        "(3, 0)\n",
        "(4, 0)\n",
        "(4, 1)\n"
       ]
      }
     ],
     "prompt_number": 16
    },
    {
     "cell_type": "markdown",
     "metadata": {},
     "source": [
      "A remark is that the indexes of disks are shifted since in python index start at zero. It is possible to fix that using this :"
     ]
    },
    {
     "cell_type": "code",
     "collapsed": false,
     "input": [
      "for c in list(map(lambda t: map(lambda e: e + 1, t),feasible_configurations(5, 2, 2))):\n",
      "    print(c)"
     ],
     "language": "python",
     "metadata": {},
     "outputs": [
      {
       "output_type": "stream",
       "stream": "stdout",
       "text": [
        "[1, 2]\n",
        "[1, 3]\n",
        "[2, 3]\n",
        "[2, 4]\n",
        "[3, 4]\n",
        "[3, 5]\n",
        "[4, 5]\n",
        "[4, 1]\n",
        "[5, 1]\n",
        "[5, 2]\n"
       ]
      }
     ],
     "prompt_number": 17
    },
    {
     "cell_type": "markdown",
     "metadata": {},
     "source": [
      "## How to calculate the probability of loosing at least $d$ chunks?\n",
      "\n",
      "In this section we get back on what we are interested in, the probability of losing a file, i.e. the probability of losing at least $d$ chunks.\n",
      "\n",
      "The calculation of this probability can be made using the total probability formula. Once this formula is used, two other probabilities appears which are easier to calculate."
     ]
    },
    {
     "cell_type": "markdown",
     "metadata": {},
     "source": [
      "### Total probability formula \n",
      "\n",
      "When a file is stored (i.e. all chunks are in different disk), we obtaine a special configuration of disks. Each disk has is one reliability. Therefore, it is easy, given a special configuration to calculate the probability of losing at least $d$ chunks, which is the sum of the probability of losing $k$ chunks, with $k$ from $d$ to $n$.\n",
      "\n",
      "A prirori, we don't know what configuration will be chose, each configuration has is own probability to be selected.\n",
      "\n",
      "That is why, the probability of the event $A$ := \" At least $d$ chunks are lost\" reads : \n",
      "\n",
      "$$\\mathbb{P}(A) = \\sum_i \\mathbb{P}(A\\backslash B_i)\\mathbb{P}(B_i)$$\n",
      "\n",
      "where $B_i$ := \"We are in the configuartion $C_i$\", with $C_i$ belonging to the set of all possible configurations.\n",
      "\n",
      "Now, what we need to do is to calculate $\\mathbb{P}(A\\backslash B_i)$ and $\\mathbb{P}(B_i)$."
     ]
    },
    {
     "cell_type": "markdown",
     "metadata": {},
     "source": [
      "### Probability of loosing at least $d$ chunks (or that at least $d$ disks fail) for a special configuration (i.e. $\\mathbb{P}(A\\backslash B_i)$)"
     ]
    },
    {
     "cell_type": "code",
     "collapsed": false,
     "input": [
      "def disk_reliability_index(index):\n",
      "    \"\"\"Return the index shifted from 1 of the disk reliability in the list of reliabilities.\n",
      "    \n",
      "    Args:\n",
      "        index (int): the index in the current list.\n",
      "        \n",
      "    Returns:\n",
      "        The index shifted from 1 as an integer.\n",
      "    \"\"\"\n",
      "    \n",
      "    return index-1\n",
      "\n",
      "def probability_at_least_d_fail(configuration, d, chunk_count, disk_reliability):\n",
      "    \"\"\"Compute the probability of observing at least d disks failure for a special configuration.\n",
      "    \n",
      "    Args:\n",
      "        configuration (int) : disk indexes in {1,...,m} where chunks are stored.\n",
      "        d (int) : number of loss from which a file is lost.\n",
      "        chunk_count (int): number of chunks the file is spread into.\n",
      "        disk_reliability (double): list of chunk_count real in ]0;1[.\n",
      "        \n",
      "    Returns:\n",
      "        The probability of observing at least d disks failure for a special configuration as a real. \n",
      "    \"\"\"\n",
      "    \n",
      "    probability = 0.0\n",
      "    \n",
      "    for k in [d+i for i in range(chunk_count-d+1)]:\n",
      "        # Computation of combinations of size k from elements in configuration.\n",
      "        k_combinations = combinations(configuration,k)\n",
      "        for combination in k_combinations:\n",
      "            product = 1.0\n",
      "            # Disks with indexes in combination failed\n",
      "            for l in combination:\n",
      "                product = product*(1.0-disk_reliability[disk_reliability_index(l)])  \n",
      "            # Disks with indexes in combination work\n",
      "            for l in set(configuration).difference(set(combination)):\n",
      "                product = product*disk_reliability[disk_reliability_index(l)]\n",
      "                \n",
      "            probability = probability + product\n",
      "            \n",
      "    return probability"
     ],
     "language": "python",
     "metadata": {},
     "outputs": [],
     "prompt_number": 18
    },
    {
     "cell_type": "markdown",
     "metadata": {},
     "source": [
      "#### Example using the function *probability_at_least_d_fail*\n",
      "\n",
      "In this example for testing the function *probability_at_least_d_fail*, we are going to calculate the probability of losing at least $d = 3$ chunks out of a total number of $4$ chunks. We also are going to suppose that chunks are stored in the configuration $\\{1, 3, 4, 6\\}$ (we suppose we have $m = 10$ servers). Then, if we note $p_i$ the reliability of the disk number $i$, the probability of losing at least $d$ chunks reads\n",
      "\n",
      "$$\\mathbb{P}(\\textrm{at least $d$ chunks lost}) = (1-p_1)(1-p_3)(1-p_4)p_6 + (1-p_1)(1-p_3)p_4(1-p_6) + (1-p_1)p_3(1-p_4)(1-p_6) + p_1(1-p_3)(1-p_4)(1-p_6) + (1-p_1)(1-p_3)(1-p_4)(1-p_6)$$\n",
      "\n",
      "For the reliabilities, we take uniform values between $0.9$ and $1-\\epsilon$ with $\\epsilon = 10^{-5}$."
     ]
    },
    {
     "cell_type": "code",
     "collapsed": false,
     "input": [
      "from random import *\n",
      "\n",
      "chunk_count = 4\n",
      "d_test = 3\n",
      "eps = 0.00001\n",
      "disk_reliability = [uniform(0.9,1-eps) for i in range(10)]\n",
      "configuration = [1, 3, 4, 6]\n",
      "\n",
      "# exact formula (by hand)\n",
      "    # remark : in python indexes are shifted by 1, so the reliability of the disk i is disk_reliability[i - 1]\n",
      "    # d out of chunk_count\n",
      "exact_reliability =  (1-disk_reliability[0])*(1-disk_reliability[2])*(1-disk_reliability[3])*disk_reliability[5]\n",
      "exact_reliability += (1-disk_reliability[0])*(1-disk_reliability[2])*disk_reliability[3]*(1-disk_reliability[5])\n",
      "exact_reliability += (1-disk_reliability[0])*disk_reliability[2]*(1-disk_reliability[3])*(1-disk_reliability[5])\n",
      "exact_reliability += disk_reliability[0]*(1-disk_reliability[2])*(1-disk_reliability[3])*(1-disk_reliability[5])\n",
      "    # d+1 out of chunk_count\n",
      "exact_reliability += (1-disk_reliability[0])*(1-disk_reliability[2])*(1-disk_reliability[3])*(1-disk_reliability[5])\n",
      "\n",
      "print(exact_reliability)\n",
      "\n",
      "# with the function \n",
      "print(probability_at_least_d_fail(configuration, d_test, chunk_count, disk_reliability))"
     ],
     "language": "python",
     "metadata": {},
     "outputs": [
      {
       "output_type": "stream",
       "stream": "stdout",
       "text": [
        "0.000557288083015\n",
        "0.000557288083015\n"
       ]
      }
     ],
     "prompt_number": 45
    },
    {
     "cell_type": "markdown",
     "metadata": {},
     "source": [
      "#### Calculation of the probability of losing at least using matrix formulation"
     ]
    },
    {
     "cell_type": "code",
     "collapsed": true,
     "input": [
      "from numpy import *\n",
      "from scipy.sparse import *\n",
      "\n",
      "def create_matrix(probability, d):\n",
      "    \"\"\"Construct matrix used to calculate the probability of losing ate least d blocks.\n",
      "    \n",
      "    Args:\n",
      "        probability (double) : a probability in ]0,1[.\n",
      "        d (int) : number of loss from which a file is lost.\n",
      "        \n",
      "    Returns:\n",
      "        A (d+1)x(d+1) matrix with non-zero elements only on the diagonal and on the upper diagonal, as a sparse array.\n",
      "    \"\"\"\n",
      "    return csc_matrix((1.0 - probability)*eye(d+1,d+1,0,dtype=float) + probability*eye(d+1,d+1,1,dtype=float))\n",
      "    \n",
      "    \n",
      "def construct_matrix(configuration, reliability_list, d):\n",
      "    \"\"\"Construct matrix used to calculate the probability of losing ate least d blocks.\n",
      "    \n",
      "    Args:\n",
      "        configuration (int) : disk indexes in {1,...,m} where chunks are stored.\n",
      "        d (int) : number of loss from which a file is lost.\n",
      "        reliability_list (double): list of chunk_count real in ]0;1[.\n",
      "        \n",
      "    Returns:\n",
      "        List of matrix of the size of configuration. Each matrix is a (d+1)x(d+1) matrix.\n",
      "    \"\"\"\n",
      "    matrix_list = []\n",
      "    \n",
      "    for index in configuration:\n",
      "        matrix_list.append(create_matrix(reliability_list[disk_reliability_index(index)], d))\n",
      "\n",
      "    return matrix_list\n",
      "        \n",
      "def matrix_multiplication(matrix_list, d):\n",
      "    \"\"\"Compute the matrix product of a list of matrix.\n",
      "    \n",
      "    Args:\n",
      "        matrix_list (list) : list of chunk_count matrix.\n",
      "        d (int) : number of loss from which a file is lost.\n",
      "        \n",
      "    Returns:\n",
      "        A matrix of size chunk_count x chunk_count as a sparse array.  \n",
      "    \"\"\"\n",
      "    \n",
      "    product_matrix = eye(d+1,d+1,0,dtype=float)\n",
      "\n",
      "    for matrix in reversed(matrix_list):\n",
      "        product_matrix = product_matrix.dot(matrix)\n",
      "\n",
      "    return product_matrix"
     ],
     "language": "python",
     "metadata": {},
     "outputs": [],
     "prompt_number": 92
    },
    {
     "cell_type": "code",
     "collapsed": false,
     "input": [
      "def probability_at_least_d_fail_matrix(configuration, d, chunk_count, disk_reliability):\n",
      "    \"\"\"Compute the probability of observing at least d disks failure for a special configuration using matrix formulation.\n",
      "    \n",
      "    Args:\n",
      "        configuration (int) : disk indexes in {1,...,m} where chunks are stored.\n",
      "        d (int) : number of loss from which a file is lost.\n",
      "        chunk_count (int): number of chunks the file is spread into.\n",
      "        disk_reliability (double): list of chunk_count real in ]0;1[.\n",
      "        \n",
      "    Returns:\n",
      "        The probability of observing at least d disks failure for a special configuration as a real. \n",
      "    \"\"\"\n",
      "    matrix_list = construct_matrix(configuration, disk_reliability, d)\n",
      "\n",
      "    #probability = ones(d+1).dot(matrix_multiplication(matrix_list, d).dot(eye(d+1,1,-d,dtype=float)))\n",
      "    #tmp = matrix_multiplication(matrix_list, d).dot(eye(d+1,1,-d,dtype=float))\n",
      "    #probability = ones(d+1,dtype=float).dot(tmp)\n",
      "    \n",
      "    print(\"\")\n",
      "    print(\"--------------------------------------------------------------\")\n",
      "    print(\"Matrix multiplication\")\n",
      "    print(matrix_multiplication(matrix_list, d).todense())\n",
      "    print(\"--------------------------------------------------------------\")\n",
      "    print(\"\")\n",
      "    probability = sum(matrix_multiplication(matrix_list, d)[:,d-1].todense())\n",
      "    \n",
      "    return probability"
     ],
     "language": "python",
     "metadata": {},
     "outputs": [],
     "prompt_number": 101
    },
    {
     "cell_type": "markdown",
     "metadata": {},
     "source": [
      "#### Example using the function *probability_at_least_d_fail_matrix*\n",
      "\n",
      "In this example for testing the function *probability_at_least_d_fail_matrix*, we are going to calculate the probability of losing at least $d = 3$ chunks out of a total number of $4$ chunks like the previous example. We also are going to suppose that chunks are stored in the configuration $\\{1, 3, 4, 6\\}$ (we suppose we have $m = 10$ servers). Then, if we note $p_i$ the reliability of the disk number $i$, the probability of losing at least $d$ chunks reads\n",
      "\n",
      "$$\\mathbb{P}(\\textrm{at least $d$ chunks lost}) = (1-p_1)(1-p_3)(1-p_4)p_6 + (1-p_1)(1-p_3)p_4(1-p_6) + (1-p_1)p_3(1-p_4)(1-p_6) + p_1(1-p_3)(1-p_4)(1-p_6) + (1-p_1)(1-p_3)(1-p_4)(1-p_6)$$\n",
      "\n",
      "For the reliabilities, we take uniform values between $0.9$ and $1-\\epsilon$ with $\\epsilon = 10^{-5}$."
     ]
    },
    {
     "cell_type": "code",
     "collapsed": false,
     "input": [
      "from random import *\n",
      "\n",
      "chunk_count = 4\n",
      "d_test = 3\n",
      "eps = 0.00001\n",
      "disk_reliability = [uniform(0.9,1-eps) for i in range(10)]\n",
      "configuration = [1, 3, 4, 6]\n",
      "\n",
      "# exact formula (by hand)\n",
      "    # remark : in python indexes are shifted by 1, so the reliability of the disk i is disk_reliability[i - 1]\n",
      "    # d out of chunk_count\n",
      "exact_reliability =  (1-disk_reliability[0])*(1-disk_reliability[2])*(1-disk_reliability[3])*disk_reliability[5]\n",
      "exact_reliability += (1-disk_reliability[0])*(1-disk_reliability[2])*disk_reliability[3]*(1-disk_reliability[5])\n",
      "exact_reliability += (1-disk_reliability[0])*disk_reliability[2]*(1-disk_reliability[3])*(1-disk_reliability[5])\n",
      "exact_reliability += disk_reliability[0]*(1-disk_reliability[2])*(1-disk_reliability[3])*(1-disk_reliability[5])\n",
      "print(exact_reliability)\n",
      "    # d+1 out of chunk_count\n",
      "exact_reliability += (1-disk_reliability[0])*(1-disk_reliability[2])*(1-disk_reliability[3])*(1-disk_reliability[5])\n",
      "\n",
      "print((1-disk_reliability[0])*(1-disk_reliability[2])*(1-disk_reliability[3])*(1-disk_reliability[5]))\n",
      "\n",
      "print(\"\")\n",
      "print(exact_reliability)\n",
      "\n",
      "# with the function \n",
      "print(probability_at_least_d_fail_matrix(configuration, d_test, chunk_count, disk_reliability))"
     ],
     "language": "python",
     "metadata": {},
     "outputs": [
      {
       "output_type": "stream",
       "stream": "stdout",
       "text": [
        "0.000315533894624\n",
        "7.42130173124e-07\n",
        "\n",
        "0.000316276024797\n",
        "\n",
        "--------------------------------------------------------------\n",
        "Matrix multiplication\n",
        "[[  7.42130173e-07   3.15533895e-04   1.36458977e-02   1.86025993e-01]\n",
        " [  0.00000000e+00   7.42130173e-07   3.15533895e-04   1.36458977e-02]\n",
        " [  0.00000000e+00   0.00000000e+00   7.42130173e-07   3.15533895e-04]\n",
        " [  0.00000000e+00   0.00000000e+00   0.00000000e+00   7.42130173e-07]]\n",
        "--------------------------------------------------------------\n",
        "\n",
        "0.0139621737669\n"
       ]
      }
     ],
     "prompt_number": 102
    },
    {
     "cell_type": "markdown",
     "metadata": {},
     "source": [
      "#### Case where all $p_i$ are equal, $p_i \\equiv p$\n",
      "\n",
      "If all reliabilities are identical, the configuration is no more involved in the calculation of the probability of losing at least $d$ blocks and we recover the *d-out-of-n* probability which reads,\n",
      "\n",
      "$$\\mathbb{P}\\textrm() = \\sum_{k=d}^n \\frac{n\\mathrm{!}}{(n - d)\\mathrm{!}d\\mathrm{!}} (1-p)^k p^{n-k}$$\n",
      "\n",
      "The following function * probability_at_least_d_fail_equal_reliability * implements this formula."
     ]
    },
    {
     "cell_type": "code",
     "collapsed": false,
     "input": [
      "from math import factorial\n",
      "\n",
      "def probability_at_least_d_fail_equal_reliability(d, chunk_count, reliability):\n",
      "    \"\"\"Compute the probability of observing at least d disks failure for a special configuration if all reliabilities are equal.\n",
      "    \n",
      "    Args:\n",
      "        d (int) : number of loss from which a file is lost.\n",
      "        chunk_count (int): number of chunks the file is spread into.\n",
      "        reliability (double): disks reliability.\n",
      "        \n",
      "    Returns:\n",
      "        The probability of observing at least d disks failure for a special configuration as a real. \n",
      "    \"\"\"\n",
      "    probability = 0.0\n",
      "    \n",
      "    unreliability = 1.0-reliability\n",
      "    \n",
      "    for k in [d+i for i in range(chunk_count-d+1)]:\n",
      "        qk = pow(unreliability,k)\n",
      "        pnk = pow(reliability,chunk_count-k)\n",
      "        prefactor = factorial(chunk_count)/(factorial(chunk_count-k)*factorial(k))\n",
      "        probability = probability + prefactor*qk*pnk\n",
      "        \n",
      "    return probability"
     ],
     "language": "python",
     "metadata": {},
     "outputs": [],
     "prompt_number": 23
    },
    {
     "cell_type": "markdown",
     "metadata": {},
     "source": [
      "#### Example using the function *probability_at_least_d_fail_equal_reliability*\n",
      "\n",
      "In this example we are going to test the function *probability_at_least_d_fail_equal_reliability* with special values (such taht it is easy to calculate the probability of losing at least $d$ chunks) in order to certify the function returns the right result.\n",
      "\n",
      "Let's take the following values : "
     ]
    },
    {
     "cell_type": "code",
     "collapsed": false,
     "input": [
      "chunk_count_test = 4 \n",
      "d_test = 2 \n",
      "reliability_test = 0.8"
     ],
     "language": "python",
     "metadata": {},
     "outputs": [],
     "prompt_number": 28
    },
    {
     "cell_type": "markdown",
     "metadata": {},
     "source": [
      "With this parameters, the probability of losing at least $d_ {test}$ chunks reads : "
     ]
    },
    {
     "cell_type": "code",
     "collapsed": false,
     "input": [
      "6*pow(1-reliability_test,2)*pow(reliability_test,2)  + 4*pow(1-reliability_test,3)*reliability_test + pow(1-reliability_test,4)"
     ],
     "language": "python",
     "metadata": {},
     "outputs": [
      {
       "metadata": {},
       "output_type": "pyout",
       "prompt_number": 31,
       "text": [
        "0.18079999999999993"
       ]
      }
     ],
     "prompt_number": 31
    },
    {
     "cell_type": "markdown",
     "metadata": {},
     "source": [
      "With the function *probability_at_least_d_fail_equal_reliability* we obtain : "
     ]
    },
    {
     "cell_type": "code",
     "collapsed": false,
     "input": [
      "probability_at_least_d_fail_equal_reliability(d_test, chunk_count_test, reliability_test)"
     ],
     "language": "python",
     "metadata": {},
     "outputs": [
      {
       "metadata": {},
       "output_type": "pyout",
       "prompt_number": 32,
       "text": [
        "0.18079999999999993"
       ]
      }
     ],
     "prompt_number": 32
    },
    {
     "cell_type": "markdown",
     "metadata": {},
     "source": [
      "### Probability of choosing a special configuration\n",
      "\n",
      "To calculate the probability of choosing a special configuration, we need to remember the classical rules of probability calculation. To calculate the probability of an event $E$ we can do : \n",
      "\n",
      "$$ \\mathbb{P}(E) = \\frac{\\textrm{number of favorable ouctomes}}{\\textrm{total number of outcomes}}.$$\n",
      "\n",
      "So, in our case, the total number of outcomes is nothing but the number of the feasible configurations which reads,\n",
      "\n",
      "$$ m \\times \\frac{s\\mathbb{!}}{(s - n + 1)\\mathbb{!}(n - 1)\\mathbb{!}}.$$\n",
      "\n",
      "With our parameters the number of feasible configurations is : "
     ]
    },
    {
     "cell_type": "code",
     "collapsed": false,
     "input": [
      "number_feasible_configurations = m*factorial(spread_factor)/(factorial(spread_factor-n+1)*factorial(n-1))\n",
      "print(number_feasible_configurations)"
     ],
     "language": "python",
     "metadata": {},
     "outputs": [
      {
       "output_type": "stream",
       "stream": "stdout",
       "text": [
        "10\n"
       ]
      }
     ],
     "prompt_number": 38
    },
    {
     "cell_type": "markdown",
     "metadata": {},
     "source": [
      "To calculate the number of favorable outcomes (i.e. how many way we have to select a special configuration), we need to be carefull. Indeed, if the spread factor is big enough, or the number of disks is too small (or both), there is more than one way to select a configuration. For example we can take $m = 4$, $n = 2$ and $s = 3$. Imagine that we store the two chunks in disks $1$ and $2$. This configurations can be selceted by \n",
      "\n",
      "* select the disk $1$ and then select the disk number $2$ in the $3$ following neighboors of $1$, (2, 3, 4) ; \n",
      "* select the disk $2$ and select the disk $1$ in the $3$ following neighboors of $2$, (3, 4, 1) ; \n",
      "\n",
      "so three way to select the configuration (1, 2). Therefore, the probability of selecting (1, 2) is \n",
      "\n",
      "$$ \\frac{2}{\\textrm{number_feasible_configurations}}$$\n",
      "\n",
      "To insure there is only one way to select a configuration, we need the following condition on our parameters : \n",
      "\n",
      "$$ m \\geq 2(s + 1) - n $$\n",
      "\n",
      "In this case, the probability of selecting a configuration is : "
     ]
    },
    {
     "cell_type": "code",
     "collapsed": false,
     "input": [
      "probability_configuration = 1.0*(factorial(spread_factor-n+1)*factorial(n-1))/(m*factorial(spread_factor))\n",
      "print(probability_configuration)"
     ],
     "language": "python",
     "metadata": {},
     "outputs": [
      {
       "output_type": "stream",
       "stream": "stdout",
       "text": [
        "0.1\n"
       ]
      }
     ],
     "prompt_number": 39
    },
    {
     "cell_type": "markdown",
     "metadata": {},
     "source": [
      "If we are not in this case, we need to introduce various quantities. Let's note $W_i$, the r.v. equal to $1$ if the configuration is selected, $0$ otherwise and $X_j$ the r.v. equal to 1 if the disk number $j$, 0 otherwise. an elementary property of the random variable $X_i$ is : \n",
      "\n",
      "$$\\mathbb{P}\\left(X_j = 1\\right) = \\frac{1}{m}.$$\n",
      "\n",
      "Now we are interested in $\\mathbb{P}\\left(W_i = 1\\right)$, in other words, in the probability that the configuration $C_i$ is selected to contain the n chunks. As we said earlier, $C_i$ is a set of disks but in fact we are interested in indexes of disks in $C_i$ that's why we define $I_i$, the set of indexes of disks in $C_i$. The probability of $W_i$ equal to 1 reads,\n",
      "\n",
      "$$\\mathbb{P}\\left(W_i = 1\\right) = \\sum_{j \\in I_i}  \\mathbb{P}\\left(X_j = 1\\right) \\mathbb{1}_{s > minS_j} \\mathbb{P}\\left(\\textrm{\"The n-1 remaining disks are selected in the second step.\"}\\right).$$\n",
      "\n",
      "In the previous equation, we have introduced the function $\\mathbb{1}_{s > minS_j}$ equal to $1$ if $s > minS_j$, $0$ otherwise. the variable $minS_j$ is the minimal value of the spread factor such that, if the disk $d_j$ is selected first, the $n - 1$ remaining disk can be selected in the second step. The quantity $minS_j$ is defined as : \n",
      "\n",
      "$$ minS_j = \\max_{k \\in I_i\\backslash\\{j\\}} \\{\\mathrm{d}\\left(j{,}k\\right)\\},$$\n",
      "\n",
      "with\n",
      "\n",
      "$$ \n",
      "\\mathrm{d}\\left(j{,}k\\right) = \n",
      "\\left \\{ \n",
      "\\begin{array}{c,c}\n",
      "    k-j, & \\textrm{if} \\quad j \\leq k, \\\\\n",
      "    \\mathrm{d}\\left(j{,}m\\right) + k & \\textrm{otherwise}.\n",
      "\\end{array}\n",
      "\\right.\n",
      "$$\n",
      "\n",
      "So we finaly obtain,\n",
      "\n",
      "$$\\mathbb{P}\\left(W_i = 1\\right) = \\frac{1}{m} \\frac{(s - n + 1)\\mathrm{!}(n - 1)\\mathrm{!}}{s\\mathrm{!}}\\sum_{j \\in I_i} \\mathbb{1}_{s > minS_j}.$$\n",
      "\n",
      "The following functions allows us to calculate $\\sum_{j \\in I_i} \\mathbb{1}_{s > minS_j}$.\n"
     ]
    },
    {
     "cell_type": "code",
     "collapsed": false,
     "input": [
      "def distance(j, k, disk_count):\n",
      "    \"\"\"Compute the distance between i and j as explain above.\n",
      "    \n",
      "    args:\n",
      "        j (int): the index of the first disk selected to sotre the first chunk.\n",
      "        k (int): the index of an other disk that the disk j in the configuration.\n",
      "        disk_count (in): the number of disk in the server.\n",
      "        \n",
      "    Returns:\n",
      "        The distance between j and k as an integer.\n",
      "    \"\"\"\n",
      "    \n",
      "    if j <= k:\n",
      "        return k - j\n",
      "    else:\n",
      "        return distance(j, disk_count, disk_count) + k\n",
      "    \n",
      "def list_distances(configuration, disk_count, j_index ):\n",
      "    \"\"\"Compute distances between j and the other elements in the configuration.\n",
      "    \n",
      "    args:\n",
      "        configuration (list): list of index between {1, ... , chunk_count}.\n",
      "        disk_count (int): number of disk in the server.\n",
      "        j_index  (int): the index of the first disk selected.\n",
      "        \n",
      "    Returns:\n",
      "        List of distances as a list of integers.\n",
      "    \"\"\"\n",
      "    \n",
      "    for other_index in list(set(configuration)-set([j_index])):\n",
      "        yield distance(j_index, other_index, disk_count)\n",
      "            \n",
      "def how_many_way_for_configuration(configuration, disk_count, spread_factor):\n",
      "    \"\"\"Compute how many different way we have to do configuration.\n",
      "    \n",
      "    args:\n",
      "        configuration (list): list of index between {1, ... , chunk_count}.\n",
      "        disk_count (int): number of disk in the server.\n",
      "        spread_factor (int): the spread_factor.\n",
      "        \n",
      "    Returns:\n",
      "        Number of way we have to create the configuration as an integer.\n",
      "    \"\"\"\n",
      "    \n",
      "    way_count = 0\n",
      "    \n",
      "    for index in configuration:\n",
      "        minS_j = max([element for element in list_distances(configuration, disk_count, index )])\n",
      "        if spread_factor >= minS_j:\n",
      "            way_count += 1\n",
      "            \n",
      "    return way_count"
     ],
     "language": "python",
     "metadata": {},
     "outputs": [],
     "prompt_number": 163
    },
    {
     "cell_type": "markdown",
     "metadata": {},
     "source": [
      "To test our function *how_many_way_for_configuration*, we can take the previous example with the configuration [1, 2], a spread factor equal to 3 and a number of disk equal to for. The result must be $2$."
     ]
    },
    {
     "cell_type": "code",
     "collapsed": false,
     "input": [
      "configuration = [1, 2]\n",
      "print(how_many_way_for_configuration(configuration, 4, 3))"
     ],
     "language": "python",
     "metadata": {},
     "outputs": [
      {
       "output_type": "stream",
       "stream": "stdout",
       "text": [
        "2\n"
       ]
      }
     ],
     "prompt_number": 161
    },
    {
     "cell_type": "markdown",
     "metadata": {},
     "source": [
      "We can although test the case where $m \\geq 2(s+1) - n$, in other words when there is no repetitions. The result should be 1 for any configuration. Let's make the test with \n",
      "\n",
      "* m = 10 ; \n",
      "* s = 6 ;\n",
      "* n = 4."
     ]
    },
    {
     "cell_type": "code",
     "collapsed": false,
     "input": [
      "configuration = [1, 4, 9, 10]\n",
      "print(how_many_way_for_configuration(configuration, 10, 6))"
     ],
     "language": "python",
     "metadata": {},
     "outputs": [
      {
       "output_type": "stream",
       "stream": "stdout",
       "text": [
        "1\n"
       ]
      }
     ],
     "prompt_number": 169
    },
    {
     "cell_type": "markdown",
     "metadata": {},
     "source": [
      "### Sum up"
     ]
    },
    {
     "cell_type": "code",
     "collapsed": false,
     "input": [
      "from math import factorial\n",
      "\n",
      "def probability_file_loss(disk_count, chunk_count, spread_factor, d, disk_reliability):\n",
      "    \"\"\"Compute the probability of file loss.\n",
      "    \n",
      "    Args:\n",
      "        disk_count (int): number of disks in the system.\n",
      "        chunk_count (int): number of chunks the file is spread into.\n",
      "        spread_factor (int): number of disks to be used after selected disk.\n",
      "        disk_reliability (double): list of chunk_count real in ]0;1[.\n",
      "        \n",
      "    Returns:\n",
      "        The probability that a file is lost as a real. \n",
      "    \"\"\"\n",
      "    probability_file_loss = 0.0\n",
      "    \n",
      "    # First we calculate the probability that a configuration is selected.\n",
      "    probability_configuration = 1.0*(factorial(spread_factor-chunk_count+1)*factorial(chunk_count-1))/(disk_count*factorial(spread_factor))\n",
      "    \n",
      "    # Then, we generate the list of all feasible configurations as a function of \n",
      "    # the number of disks, disk_count, the number of chunks, chunk_count and the spread factor.\n",
      "    configurations = list(map(lambda t: map(lambda e: e + 1, t),\n",
      "         feasible_configurations(disk_count, chunk_count, spread_factor)))\n",
      "  \n",
      "    # Finally, for each feasible configuration where chunks are stored, we calculate the probabi-\n",
      "    # lity the file is lost.\n",
      "    \n",
      "    # first we consider there is no redondancy\n",
      "    if disk_count >= 2*(spread_factor + 1) - chunk_count:\n",
      "        for config in configurations:\n",
      "            probability_file_loss = probability_file_loss + probability_configuration*probability_at_least_d_fail(config, d, chunk_count, disk_reliability)   \n",
      "    # This condition cover the case with redondancies\n",
      "    else:\n",
      "        for config in configurations:\n",
      "            probability_file_loss = probability_file_loss + how_many_way_for_configuration(config, disk_count, spread_factor)*probability_configuration*probability_at_least_d_fail(config, d, chunk_count, disk_reliability)\n",
      "     \n",
      "    return probability_file_loss"
     ],
     "language": "python",
     "metadata": {},
     "outputs": [],
     "prompt_number": 185
    },
    {
     "cell_type": "code",
     "collapsed": false,
     "input": [
      "from random import *\n",
      "eps = 0.00001\n",
      "pList = [uniform(0.9,1-eps) for i in range(m)]\n",
      "print(probability_file_loss(m, n, spread_factor, d, pList))\n"
     ],
     "language": "python",
     "metadata": {},
     "outputs": [
      {
       "output_type": "stream",
       "stream": "stdout",
       "text": [
        "0.00223292725615\n"
       ]
      }
     ],
     "prompt_number": 186
    },
    {
     "cell_type": "markdown",
     "metadata": {},
     "source": [
      "## Approximation of the probability of losing a file"
     ]
    },
    {
     "cell_type": "code",
     "collapsed": false,
     "input": [
      "def file_loss_delta(delta, mean_reliability, experience_count, disk_count, chunk_count, spread_factor, d):\n",
      "    \"\"\"To do.\n",
      "    \n",
      "    Args:\n",
      "        delta (double): \n",
      "        mean_reliability:\n",
      "        experience_count (int):\n",
      "        disk_count (int): number of disks in the system.\n",
      "        chunk_count (int): number of chunks the file is spread into.\n",
      "        spread_factor (int): number of disks to be used after selected disk.\n",
      "        d (int): \n",
      "        \n",
      "    Returns:\n",
      "        To do. \n",
      "    \"\"\"\n",
      "    \n",
      "    for experience in range(experience_count):\n",
      "        # First we generate the list of disk reliability between mean_reliability-0.5*delta and mean_reliability-0.5*delta.\n",
      "        reliability_list = [uniform(mean_reliability-0.5*delta,mean_reliability+0.5*delta) for i in range(disk_count)]\n",
      "    \n",
      "        # Then we calculate the probability of file loss for the reliability list \n",
      "        yield probability_file_loss(disk_count, chunk_count, spread_factor, d, reliability_list)"
     ],
     "language": "python",
     "metadata": {},
     "outputs": [],
     "prompt_number": 13
    },
    {
     "cell_type": "code",
     "collapsed": false,
     "input": [
      "from pandas import *\n",
      "from matplotlib import *\n",
      "from pylab import *\n",
      "\n",
      "# Parameters\n",
      "m = 100 # number of disks\n",
      "n = 12 # number of chunks\n",
      "d = 4 # number of chunks until the file is lost\n",
      "spread_factor = 11 # spread factor\n",
      "experience_count = 1000\n",
      "delta = 0.0001\n",
      "mean_reliability = 0.999\n",
      "\n",
      "# Probability of losing the file for the mean reliability\n",
      "probability_at_least_d_fail_equal_reliability(d, n, mean_reliability)\n",
      "\n",
      "# Probability of losing a file for reliabilities in [mean_reliability-0.5*delta ; mean_reliability+0.5*delta]\n",
      "probability_list = file_loss_delta(delta, mean_reliability, experience_count, m, n, spread_factor, d)\n",
      " \n",
      "# Convert the generator probability_list into a list\n",
      "my_list = [item for item in probability_list]\n",
      "\n",
      "probability_list_DataFrame = DataFrame(my_list)\n",
      "\n",
      "%pylab inline\n",
      "probability_list_DataFrame.hist()"
     ],
     "language": "python",
     "metadata": {},
     "outputs": [
      {
       "output_type": "stream",
       "stream": "stdout",
       "text": [
        "Populating the interactive namespace from numpy and matplotlib\n"
       ]
      },
      {
       "output_type": "stream",
       "stream": "stderr",
       "text": [
        "WARNING: pylab import has clobbered these variables: ['power', 'linalg', 'draw_if_interactive', 'random', 'fft', 'info']\n",
        "`%matplotlib` prevents importing * from pylab and numpy\n"
       ]
      },
      {
       "metadata": {},
       "output_type": "pyout",
       "prompt_number": 40,
       "text": [
        "array([[<matplotlib.axes._subplots.AxesSubplot object at 0x7fa2cf9b9b10>]], dtype=object)"
       ]
      },
      {
       "metadata": {},
       "output_type": "display_data",
       "png": "[encoded data removed]",
       "text": [
        "<matplotlib.figure.Figure at 0x7fa2cfeded50>"
       ]
      }
     ],
     "prompt_number": 40
    },
    {
     "cell_type": "code",
     "collapsed": false,
     "input": [
      "print(probability_at_least_d_fail_equal_reliability(d, n, mean_reliability))"
     ],
     "language": "python",
     "metadata": {},
     "outputs": [
      {
       "output_type": "stream",
       "stream": "stdout",
       "text": [
        "4.91841224177e-10\n"
       ]
      }
     ],
     "prompt_number": 41
    },
    {
     "cell_type": "code",
     "collapsed": false,
     "input": [
      "from pandas import *\n",
      "from matplotlib import *\n",
      "from pylab import *\n",
      "\n",
      "# Parameters\n",
      "m = 1000 # number of disks\n",
      "n = 12 # number of chunks\n",
      "d = 3 # number of chinks until the file is lost\n",
      "spread_factor = 11 # spread factor\n",
      "\n",
      "experience_count = 1000\n",
      "delta = 0.001\n",
      "mean_reliability = 0.999\n",
      "\n",
      "# Probability of losing the file for the mean reliability\n",
      "print(probability_at_least_d_fail_equal_reliability(d, n, mean_reliability))\n",
      "\n",
      "# Probability of losing a file for reliabilities in [mean_reliability-0.5*delta ; mean_reliability+0.5*delta]\n",
      "probability_list = file_loss_delta(delta, mean_reliability, experience_count, m, n, spread_factor, d)\n",
      " \n",
      "# Convert the generator probability_list into a list\n",
      "my_list = [item for item in probability_list]\n",
      "\n",
      "probability_list_DataFrame = DataFrame(my_list)\n",
      "\n",
      "%pylab inline\n",
      "probability_list_DataFrame.hist()"
     ],
     "language": "python",
     "metadata": {},
     "outputs": [
      {
       "output_type": "stream",
       "stream": "stdout",
       "text": [
        "2.18519742772e-07\n",
        "Populating the interactive namespace from numpy and matplotlib"
       ]
      },
      {
       "output_type": "stream",
       "stream": "stdout",
       "text": [
        "\n"
       ]
      },
      {
       "output_type": "stream",
       "stream": "stderr",
       "text": [
        "WARNING: pylab import has clobbered these variables: ['power', 'linalg', 'draw_if_interactive', 'random', 'fft', 'info']\n",
        "`%matplotlib` prevents importing * from pylab and numpy\n"
       ]
      },
      {
       "metadata": {},
       "output_type": "pyout",
       "prompt_number": 42,
       "text": [
        "array([[<matplotlib.axes._subplots.AxesSubplot object at 0x7fa2d499cc90>]], dtype=object)"
       ]
      },
      {
       "metadata": {},
       "output_type": "display_data",
       "png": "[encoded data removed]",
       "text": [
        "<matplotlib.figure.Figure at 0x7fa2d69657d0>"
       ]
      }
     ],
     "prompt_number": 42
    },
    {
     "cell_type": "code",
     "collapsed": false,
     "input": [
      "from pandas import *\n",
      "from matplotlib import *\n",
      "from pylab import *\n",
      "import time\n",
      "\n",
      "# Parameters\n",
      "m = 20 # number of disks\n",
      "n = 12 # number of chunks\n",
      "d = 3 # number of chinks until the file is lost\n",
      "spread_factor = 11 # spread factor\n",
      "\n",
      "experience_count = 1000\n",
      "delta = 0.001\n",
      "mean_reliability = 0.999\n",
      "\n",
      "# Probability of losing a file for reliabilities in [mean_reliability-0.5*delta ; mean_reliability+0.5*delta]\n",
      "start_time = time.clock()\n",
      "probability_list = file_loss_delta(delta, mean_reliability, experience_count, m, n, spread_factor, d)\n",
      "my_list = [item for item in probability_list]\n",
      "print(time.clock()-start_time)\n",
      "\n",
      "# Convert the generator probability_list into a list\n",
      "\n",
      "probability_list_DataFrame = DataFrame(my_list)\n",
      "\n",
      "%pylab inline\n",
      "probability_list_DataFrame.hist()"
     ],
     "language": "python",
     "metadata": {},
     "outputs": [
      {
       "output_type": "stream",
       "stream": "stdout",
       "text": [
        "476.584088\n",
        "Populating the interactive namespace from numpy and matplotlib\n"
       ]
      },
      {
       "output_type": "stream",
       "stream": "stderr",
       "text": [
        "WARNING: pylab import has clobbered these variables: ['power', 'linalg', 'draw_if_interactive', 'random', 'fft', 'info']\n",
        "`%matplotlib` prevents importing * from pylab and numpy\n"
       ]
      },
      {
       "metadata": {},
       "output_type": "pyout",
       "prompt_number": 199,
       "text": [
        "array([[<matplotlib.axes._subplots.AxesSubplot object at 0x7feca9b7d350>]], dtype=object)"
       ]
      },
      {
       "metadata": {},
       "output_type": "display_data",
       "png": "[encoded data removed]",
       "text": [
        "<matplotlib.figure.Figure at 0x7feca9b8d5d0>"
       ]
      }
     ],
     "prompt_number": 199
    },
    {
     "cell_type": "markdown",
     "metadata": {},
     "source": [
      "## Parallel version"
     ]
    },
    {
     "cell_type": "code",
     "collapsed": false,
     "input": [
      "import numba\n",
      "from numba import jit, complex128"
     ],
     "language": "python",
     "metadata": {},
     "outputs": [],
     "prompt_number": 64
    },
    {
     "cell_type": "code",
     "collapsed": false,
     "input": [
      "@jit(locals=dict(c=complex128, z=complex128))\n",
      "def file_loss_delta(delta, mean_reliability, experience_count, disk_count, chunk_count, spread_factor, d):\n",
      "    \"\"\"To do.\n",
      "    \n",
      "    Args:\n",
      "        delta (double): \n",
      "        mean_reliability:\n",
      "        experience_count (int):\n",
      "        disk_count (int): number of disks in the system.\n",
      "        chunk_count (int): number of chunks the file is spread into.\n",
      "        spread_factor (int): number of disks to be used after selected disk.\n",
      "        d (int): \n",
      "        \n",
      "    Returns:\n",
      "        To do. \n",
      "    \"\"\"\n",
      "    \n",
      "    for experience in range(experience_count):\n",
      "        # First we generate the list of disk reliability between mean_reliability-0.5*delta and mean_reliability-0.5*delta.\n",
      "        reliability_list = [uniform(mean_reliability-0.5*delta,mean_reliability+0.5*delta) for i in range(disk_count)]\n",
      "    \n",
      "        # Then we calculate the probability of file loss for the reliability list \n",
      "        yield probability_file_loss(disk_count, chunk_count, spread_factor, d, reliability_list)"
     ],
     "language": "python",
     "metadata": {},
     "outputs": [],
     "prompt_number": 65
    },
    {
     "cell_type": "code",
     "collapsed": false,
     "input": [],
     "language": "python",
     "metadata": {},
     "outputs": [],
     "prompt_number": 67
    },
    {
     "cell_type": "code",
     "collapsed": false,
     "input": [],
     "language": "python",
     "metadata": {},
     "outputs": []
    }
   ],
   "metadata": {}
  }
 ]
}