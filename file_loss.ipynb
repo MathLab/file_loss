{
 "metadata": {
  "name": "",
  "signature": "sha256:de89c93af45f7e9b8aee9912d12564303b3b0b95a57a572a127154da3785bfcd"
 },
 "nbformat": 3,
 "nbformat_minor": 0,
 "worksheets": [
  {
   "cells": [
    {
     "cell_type": "markdown",
     "metadata": {},
     "source": [
      "# File loss in a server\n",
      "\n",
      "## Parameters\n",
      "\n",
      "* $m$ the number of disks in the server ; \n",
      "* $n$ the number of chunks ; \n",
      "* $s$ the spread factor ; \n",
      "* $d$ the number of chunks until the file is irrecoverable."
     ]
    },
    {
     "cell_type": "code",
     "collapsed": false,
     "input": [
      "# The parameters\n",
      "m = 10 # number of disks\n",
      "n = 5 # number of chunks\n",
      "d = 3 # number of chinks until the file is lost\n",
      "s = 4 # spread factor"
     ],
     "language": "python",
     "metadata": {},
     "outputs": [],
     "prompt_number": 12
    },
    {
     "cell_type": "markdown",
     "metadata": {},
     "source": [
      "## Placement policy\n",
      "### Description\n",
      "### Feasible configurations"
     ]
    },
    {
     "cell_type": "code",
     "collapsed": false,
     "input": [
      "from itertools import (cycle, islice)\n",
      "\n",
      "def window(seq, n):\n",
      "    it = iter(seq)\n",
      "    result = tuple(islice(it, n))\n",
      "    if len(result) == n:\n",
      "        yield result\n",
      "    for elem in it:\n",
      "        result = result[1:] + (elem,)\n",
      "        yield result"
     ],
     "language": "python",
     "metadata": {},
     "outputs": [],
     "prompt_number": 13
    },
    {
     "cell_type": "code",
     "collapsed": false,
     "input": [
      "from itertools import (combinations, chain)\n",
      "\n",
      "def feasible_configurations(disk_count, chunk_count, spread_factor):\n",
      "    \"\"\"Compute feasible configurations.\n",
      "    \n",
      "    Args:\n",
      "        disk_count (int): number of disks in the system.\n",
      "        chunk_count (int): number of chunks the file is spread into.\n",
      "        spread_factor (int): number of disks to be used after selected disk.\n",
      "        \n",
      "    Returns:\n",
      "        Set of feasible configurations represented as a tuple of integers. \n",
      "    \"\"\"\n",
      "    remaining_chunks = chunk_count - 1\n",
      "    selected_disks = spread_factor + 1\n",
      "    \n",
      "    disk_ring = cycle(range(disk_count))\n",
      "    \n",
      "    for i, w in enumerate(window(disk_ring, selected_disks)):\n",
      "        main_disk, consecutive_disks = w[0], islice(w, 1, None)\n",
      "        for c in combinations(consecutive_disks, remaining_chunks):\n",
      "            yield (main_disk,) + c\n",
      "        if i >= disk_count - 1:\n",
      "            break"
     ],
     "language": "python",
     "metadata": {},
     "outputs": [],
     "prompt_number": 14
    },
    {
     "cell_type": "code",
     "collapsed": false,
     "input": [
      "list(map(lambda t: map(lambda e: e + 1, t),\n",
      "         feasible_configurations(m, n, s)))\n"
     ],
     "language": "python",
     "metadata": {},
     "outputs": [
      {
       "metadata": {},
       "output_type": "pyout",
       "prompt_number": 15,
       "text": [
        "[[1, 2, 3, 4, 5],\n",
        " [2, 3, 4, 5, 6],\n",
        " [3, 4, 5, 6, 7],\n",
        " [4, 5, 6, 7, 8],\n",
        " [5, 6, 7, 8, 9],\n",
        " [6, 7, 8, 9, 10],\n",
        " [7, 8, 9, 10, 1],\n",
        " [8, 9, 10, 1, 2],\n",
        " [9, 10, 1, 2, 3],\n",
        " [10, 1, 2, 3, 4]]"
       ]
      }
     ],
     "prompt_number": 15
    },
    {
     "cell_type": "markdown",
     "metadata": {},
     "source": [
      "## How to calculate the probability of loosing at least $d$ chunks?"
     ]
    },
    {
     "cell_type": "markdown",
     "metadata": {},
     "source": [
      "### Total probability formula "
     ]
    },
    {
     "cell_type": "markdown",
     "metadata": {},
     "source": [
      "### Probability of loosing at least $d$ chunks (or that at least $d$ disks fail) for a special configuration"
     ]
    },
    {
     "cell_type": "code",
     "collapsed": false,
     "input": [
      "def disk_reliability_index(index):\n",
      "    return index-1\n",
      "\n",
      "def probability_at_least_d_fail(configuration, d, chunk_count, disk_reliability):\n",
      "    \"\"\"Compute the probability of observing at least d disks failure for a special configuration.\n",
      "    \n",
      "    Args:\n",
      "        configuration (int) : disk indexes in {1,...,m} where chunks are stored.\n",
      "        d (int) : number of loss from which a file is lost.\n",
      "        chunk_count (int): number of chunks the file is spread into.\n",
      "        disk_reliability (double): list of chunk_count real in ]0;1[.\n",
      "        \n",
      "    Returns:\n",
      "        The probability of observing at least d disks failure for a special configuration as a real. \n",
      "    \"\"\"\n",
      "    \n",
      "    probability = 0.0\n",
      "    \n",
      "    for k in [d+i for i in range(chunk_count-d+1)]:\n",
      "        # Computation of combinations of size k from elements in configuration.\n",
      "        k_combinations = combinations(configuration,k)\n",
      "        for combination in k_combinations:\n",
      "            product = 1.0\n",
      "            # Disks with indexes in combination failed\n",
      "            for l in combination:\n",
      "                product = product*(1.0-disk_reliability[disk_reliability_index(l)])  \n",
      "            # Disks with indexes in combination work\n",
      "            for l in set(configuration).difference(set(combination)):\n",
      "                product = product*disk_reliability[disk_reliability_index(l)]\n",
      "                \n",
      "            probability = probability + product\n",
      "            \n",
      "    return probability"
     ],
     "language": "python",
     "metadata": {},
     "outputs": [],
     "prompt_number": 44
    },
    {
     "cell_type": "code",
     "collapsed": true,
     "input": [
      "from numpy import *\n",
      "from scipy.sparse import *\n",
      "\n",
      "def create_matrix(probability, d):\n",
      "    \"\"\"Construct matrix used to calculate the probability of losing ate least d blocks.\n",
      "    \n",
      "    Args:\n",
      "        probability (double) : a probability in ]0,1[.\n",
      "        d (int) : number of loss from which a file is lost.\n",
      "        \n",
      "    Returns:\n",
      "        A (d+1)x(d+1) matrix with non-zero elements only on the diagonal and on the upper diagonal, as a sparse array.\n",
      "    \"\"\"\n",
      "    yield csc_matrix((1.0 - probability)*eye(d+1,d+1,0,dtype=float) + probability*eye(d+1,d+1,1,dtype=float))\n",
      "    \n",
      "    \n",
      "def construct_matrix(configuration, reliability_list, d):\n",
      "    \"\"\"Construct matrix used to calculate the probability of losing ate least d blocks.\n",
      "    \n",
      "    Args:\n",
      "        configuration (int) : disk indexes in {1,...,m} where chunks are stored.\n",
      "        d (int) : number of loss from which a file is lost.\n",
      "        reliability_list (double): list of chunk_count real in ]0;1[.\n",
      "        \n",
      "    Returns:\n",
      "        List of matrix of the size of configuration. Each matrix is a (d+1)x(d+1) matrix.\n",
      "    \"\"\"\n",
      "    \n",
      "    for index in configuration:\n",
      "        yield create_matrix(reliability_list[disk_reliability_index(index)], d)\n",
      "        "
     ],
     "language": "python",
     "metadata": {},
     "outputs": [],
     "prompt_number": 45
    },
    {
     "cell_type": "code",
     "collapsed": false,
     "input": [
      "# the same function using a matrix formulation"
     ],
     "language": "python",
     "metadata": {},
     "outputs": [],
     "prompt_number": 7
    },
    {
     "cell_type": "markdown",
     "metadata": {},
     "source": [
      "#### Case where all $p_i$ are equal, $p_i \\equiv p$"
     ]
    },
    {
     "cell_type": "code",
     "collapsed": false,
     "input": [
      "from math import factorial\n",
      "\n",
      "def probability_at_least_d_fail_equal_reliability(d,chunk_count ,reliability):\n",
      "    \"\"\"Compute the probability of observing at least d disks failure for a special configuration if all reliabilities are equal.\n",
      "    \n",
      "    Args:\n",
      "        d (int) : number of loss from which a file is lost.\n",
      "        chunk_count (int): number of chunks the file is spread into.\n",
      "        reliability (double): disks reliability.\n",
      "        \n",
      "    Returns:\n",
      "        The probability of observing at least d disks failure for a special configuration as a real. \n",
      "    \"\"\"\n",
      "    probability = 0.0\n",
      "    \n",
      "    unreliability = 1.0-reliability\n",
      "    \n",
      "    for k in [d+i for i in range(chunk_count-d+1)]:\n",
      "        qk = pow(unreliability,k)\n",
      "        pnk = pow(reliability,chunk_count-k)\n",
      "        prefactor = factorial(chunk_count)/(factorial(chunk_count-k)*factorial(k))\n",
      "        probability = probability + prefactor*qk*pnk\n",
      "        \n",
      "    return probability"
     ],
     "language": "python",
     "metadata": {},
     "outputs": [],
     "prompt_number": 18
    },
    {
     "cell_type": "code",
     "collapsed": false,
     "input": [],
     "language": "python",
     "metadata": {},
     "outputs": [],
     "prompt_number": 8
    },
    {
     "cell_type": "markdown",
     "metadata": {},
     "source": [
      "### Probability of choosing a special configuration"
     ]
    },
    {
     "cell_type": "code",
     "collapsed": false,
     "input": [
      "from math import factorial\n",
      "\n",
      "probability_configuration = 1.0*(factorial(s-n+1)*factorial(n-1))/(m*factorial(s))"
     ],
     "language": "python",
     "metadata": {},
     "outputs": [],
     "prompt_number": 19
    },
    {
     "cell_type": "markdown",
     "metadata": {},
     "source": [
      "### Sum up"
     ]
    },
    {
     "cell_type": "code",
     "collapsed": false,
     "input": [
      "from math import factorial\n",
      "\n",
      "def probability_file_loss(disk_count, chunk_count, spread_factor, d, disk_reliability):\n",
      "    \"\"\"Compute the probability of file loss.\n",
      "    \n",
      "    Args:\n",
      "        disk_count (int): number of disks in the system.\n",
      "        chunk_count (int): number of chunks the file is spread into.\n",
      "        spread_factor (int): number of disks to be used after selected disk.\n",
      "        disk_reliability (double): list of chunk_count real in ]0;1[.\n",
      "        \n",
      "    Returns:\n",
      "        The probability that a file is lost as a real. \n",
      "    \"\"\"\n",
      "    probability_file_loss = 0.0\n",
      "    \n",
      "    # First we calculate the probability that a configuration is selected.\n",
      "    probability_configuration = 1.0*(factorial(spread_factor-chunk_count+1)*factorial(chunk_count-1))/(disk_count*factorial(spread_factor))\n",
      "    \n",
      "    # Then, we generate the list of all feasible configurations as a function of \n",
      "    # the number of disks, disk_count, the number of chunks, chunk_count and the spread factor.\n",
      "    configurations = list(map(lambda t: map(lambda e: e + 1, t),\n",
      "         feasible_configurations(disk_count, chunk_count, spread_factor)))\n",
      "  \n",
      "    # Finally, for each feasible configuration where chunks are stored, we calculate the probabi-\n",
      "    # lity the file is lost.\n",
      "    for config in configurations:\n",
      "        probability_file_loss = probability_file_loss + probability_configuration*probability_at_least_d_fail(config, d, chunk_count, disk_reliability)\n",
      "        \n",
      "    return probability_file_loss"
     ],
     "language": "python",
     "metadata": {},
     "outputs": [],
     "prompt_number": 20
    },
    {
     "cell_type": "code",
     "collapsed": false,
     "input": [
      "from random import *\n",
      "eps = 0.00001\n",
      "pList = [uniform(0.9,1-eps) for i in range(m)]\n",
      "print(probability_file_loss(m,n,s,d,pList))"
     ],
     "language": "python",
     "metadata": {},
     "outputs": [
      {
       "output_type": "stream",
       "stream": "stdout",
       "text": [
        "0.000467223155081\n"
       ]
      }
     ],
     "prompt_number": 22
    },
    {
     "cell_type": "code",
     "collapsed": false,
     "input": [
      "l = construct_matrix([3,4,1], pList, d)\n",
      "for i in l:\n",
      "    for j in i:\n",
      "        print(j)\n",
      "    print(\"\")"
     ],
     "language": "python",
     "metadata": {},
     "outputs": [
      {
       "output_type": "stream",
       "stream": "stdout",
       "text": [
        "  (0, 0)\t0.0245987224942\n",
        "  (0, 1)\t0.975401277506\n",
        "  (1, 1)\t0.0245987224942\n",
        "  (1, 2)\t0.975401277506\n",
        "  (2, 2)\t0.0245987224942\n",
        "  (2, 3)\t0.975401277506\n",
        "  (3, 3)\t0.0245987224942\n",
        "\n",
        "  (0, 0)\t0.0290479870459\n",
        "  (0, 1)\t0.970952012954\n",
        "  (1, 1)\t0.0290479870459\n",
        "  (1, 2)\t0.970952012954\n",
        "  (2, 2)\t0.0290479870459\n",
        "  (2, 3)\t0.970952012954\n",
        "  (3, 3)\t0.0290479870459\n",
        "\n",
        "  (0, 0)\t0.0408129941062\n",
        "  (0, 1)\t0.959187005894\n",
        "  (1, 1)\t0.0408129941062\n",
        "  (1, 2)\t0.959187005894\n",
        "  (2, 2)\t0.0408129941062\n",
        "  (2, 3)\t0.959187005894\n",
        "  (3, 3)\t0.0408129941062\n",
        "\n"
       ]
      }
     ],
     "prompt_number": 47
    },
    {
     "cell_type": "code",
     "collapsed": false,
     "input": [],
     "language": "python",
     "metadata": {},
     "outputs": []
    }
   ],
   "metadata": {}
  }
 ]
}