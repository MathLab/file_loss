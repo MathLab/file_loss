{
 "metadata": {
  "name": ""
 },
 "nbformat": 3,
 "nbformat_minor": 0,
 "worksheets": [
  {
   "cells": [
    {
     "cell_type": "markdown",
     "metadata": {},
     "source": [
      "# File loss in a server\n",
      "\n",
      "## Parameters\n",
      "\n",
      "* $m$ the number of disks in the server ; \n",
      "* $n$ the number of chunks ; \n",
      "* $s$ the spread factor ; \n",
      "* $d$ the number of chunks until the file is irrecoverable."
     ]
    },
    {
     "cell_type": "code",
     "collapsed": false,
     "input": [
      "# The parameters\n",
      "m = 20 # number of disks\n",
      "n = 4 # number of chunks\n",
      "d = 3 # number of chinks until the file is lost\n",
      "s = 5 # spread factor"
     ],
     "language": "python",
     "metadata": {},
     "outputs": [],
     "prompt_number": 1
    },
    {
     "cell_type": "markdown",
     "metadata": {},
     "source": [
      "## Placement policy\n",
      "### Description\n",
      "### Feasible configurations"
     ]
    },
    {
     "cell_type": "code",
     "collapsed": false,
     "input": [
      "from itertools import (cycle, islice)\n",
      "\n",
      "def window(seq, n):\n",
      "    it = iter(seq)\n",
      "    result = tuple(islice(it, n))\n",
      "    if len(result) == n:\n",
      "        yield result\n",
      "    for elem in it:\n",
      "        result = result[1:] + (elem,)\n",
      "        yield result\n",
      "        \n",
      "ring = cycle(range(5))\n",
      "\n",
      "for threshold, w in enumerate(window(ring, 2)):\n",
      "    print(\"Iteration count: {i}\".format(i=threshold))\n",
      "    if threshold < 10:\n",
      "        print(\"Window: {w}\".format(w=w))\n",
      "    else:\n",
      "        break"
     ],
     "language": "python",
     "metadata": {},
     "outputs": [
      {
       "output_type": "stream",
       "stream": "stdout",
       "text": [
        "Iteration count: 0\n",
        "Window: (0, 1)\n",
        "Iteration count: 1\n",
        "Window: (1, 2)\n",
        "Iteration count: 2\n",
        "Window: (2, 3)\n",
        "Iteration count: 3\n",
        "Window: (3, 4)\n",
        "Iteration count: 4\n",
        "Window: (4, 0)\n",
        "Iteration count: 5\n",
        "Window: (0, 1)\n",
        "Iteration count: 6\n",
        "Window: (1, 2)\n",
        "Iteration count: 7\n",
        "Window: (2, 3)\n",
        "Iteration count: 8\n",
        "Window: (3, 4)\n",
        "Iteration count: 9\n",
        "Window: (4, 0)\n",
        "Iteration count: 10\n"
       ]
      }
     ],
     "prompt_number": 18
    },
    {
     "cell_type": "code",
     "collapsed": false,
     "input": [
      "from itertools import (combinations, chain)\n",
      "\n",
      "def feasible_configurations(disk_count, chunk_count, spread_factor):\n",
      "    \"\"\"Compute feasible configurations.\n",
      "    \n",
      "    Args:\n",
      "        disk_count (int): number of disks in the system.\n",
      "        chunk_count (int): number of chunks the file is spread into.\n",
      "        spread_factor (int): number of disks to be used after selected disk.\n",
      "        \n",
      "    Returns:\n",
      "        Set of feasible configurations represented as a tuple of integers. \n",
      "    \"\"\"\n",
      "    remaining_chunks = chunk_count - 1\n",
      "    selected_disks = spread_factor + 1\n",
      "    \n",
      "    disk_ring = cycle(range(disk_count))\n",
      "    \n",
      "    for i, w in enumerate(window(disk_ring, selected_disks)):\n",
      "        main_disk, consecutive_disks = w[0], islice(w, 1, None)\n",
      "        for c in combinations(consecutive_disks, remaining_chunks):\n",
      "            yield (main_disk,) + c\n",
      "        if i >= disk_count - 1:\n",
      "            break"
     ],
     "language": "python",
     "metadata": {},
     "outputs": [],
     "prompt_number": 89
    },
    {
     "cell_type": "code",
     "collapsed": false,
     "input": [
      "list(map(lambda t: map(lambda e: e + 1, t),\n",
      "         feasible_configurations(6, 2, 3)))\n"
     ],
     "language": "python",
     "metadata": {},
     "outputs": [
      {
       "metadata": {},
       "output_type": "pyout",
       "prompt_number": 90,
       "text": [
        "[[1, 2],\n",
        " [1, 3],\n",
        " [1, 4],\n",
        " [2, 3],\n",
        " [2, 4],\n",
        " [2, 5],\n",
        " [3, 4],\n",
        " [3, 5],\n",
        " [3, 6],\n",
        " [4, 5],\n",
        " [4, 6],\n",
        " [4, 1],\n",
        " [5, 6],\n",
        " [5, 1],\n",
        " [5, 2],\n",
        " [6, 1],\n",
        " [6, 2],\n",
        " [6, 3]]"
       ]
      }
     ],
     "prompt_number": 90
    },
    {
     "cell_type": "markdown",
     "metadata": {},
     "source": [
      "## How to calculate the probability of loosing at least $d$ chunks?"
     ]
    },
    {
     "cell_type": "markdown",
     "metadata": {},
     "source": [
      "### Total probability formula "
     ]
    },
    {
     "cell_type": "markdown",
     "metadata": {},
     "source": [
      "### Probability of loosing at least $d$ chunks (or that at least $d$ disks fail) for a special configuration"
     ]
    },
    {
     "cell_type": "code",
     "collapsed": false,
     "input": [
      "# function to calculate the probability of loosing at least d chunks\n",
      "def getPAtLeastdFail(Config,d,n,pList):\n",
      "    p = 0.0; # initialising the probability of losing at least d chunks\n",
      "    for k in [d+i for i in range(n-d+1)]:\n",
      "        setk = combinations(Config,k); # k elements combinations form Config\n",
      "        for setkIt in setk:\n",
      "            prod = 1.0;\n",
      "            print(setkIt)\n",
      "            for l in setkIt: # elements that failed\n",
      "                print(l)\n",
      "                prod = prod*(1.0-pList[l-1]); # here we use l-1 because in python we start at 0\n",
      "            for l in set(Config).difference(set(list(setkIt))): # working elements\n",
      "                prod = prod*pList[l-1];\n",
      "            p = p + prod;\n",
      "    return p"
     ],
     "language": "python",
     "metadata": {},
     "outputs": [],
     "prompt_number": 5
    },
    {
     "cell_type": "code",
     "collapsed": false,
     "input": [
      "from random import *\n",
      "eps = 0.00001;\n",
      "pList = [uniform(0.9,1-eps) for i in range(n)]; # pList[i] contains the reliability of the disk number ()\n",
      "qList = [1-pList[i] for i in range(n)]; # qlist[i] is the unreliability of the disk number i\n",
      "myConfig = [1,2,3,4];\n",
      "# test with n = 4 and d = 3\n",
      "# \u00e0 la main\n",
      "pMain = qList[0]*qList[1]*qList[2]*qList[3];\n",
      "pMain = pMain+qList[0]*qList[1]*qList[2]*pList[3];\n",
      "pMain = pMain+qList[0]*qList[1]*pList[2]*qList[3];\n",
      "pMain = pMain+qList[0]*pList[1]*qList[2]*qList[3];\n",
      "pMain = pMain+pList[0]*qList[1]*qList[2]*qList[3];\n",
      "print(pMain)\n",
      "print(\"\")\n",
      "# with the function\n",
      "pFunc = getPAtLeastdFail(myConfig,d,n,pList)\n",
      "print(pFunc)"
     ],
     "language": "python",
     "metadata": {},
     "outputs": [
      {
       "output_type": "stream",
       "stream": "stdout",
       "text": [
        "0.000269276509497\n",
        "\n",
        "(1, 2, 3)\n",
        "1\n",
        "2\n",
        "3\n",
        "(1, 2, 4)\n",
        "1\n",
        "2\n",
        "4\n",
        "(1, 3, 4)\n",
        "1\n",
        "3\n",
        "4\n",
        "(2, 3, 4)\n",
        "2\n",
        "3\n",
        "4\n",
        "(1, 2, 3, 4)\n",
        "1\n",
        "2\n",
        "3\n",
        "4\n",
        "0.000269276509497\n"
       ]
      }
     ],
     "prompt_number": 6
    },
    {
     "cell_type": "code",
     "collapsed": false,
     "input": [
      "# the same function using a matrix formulation"
     ],
     "language": "python",
     "metadata": {},
     "outputs": [],
     "prompt_number": 7
    },
    {
     "cell_type": "markdown",
     "metadata": {},
     "source": [
      "#### Case where all $p_i$ are equal, $p_i \\equiv p$"
     ]
    },
    {
     "cell_type": "code",
     "collapsed": false,
     "input": [
      "# function to calculate the probability of loosing at least $d$ blocks when all reliabilities are equal\n",
      "from math import factorial\n",
      "def getPAtLeastdFailBis(d,n,p):\n",
      "    pr = 0.0; # initialising the probability of losing at least d chunks\n",
      "    q = 1.0-p;\n",
      "    for k in [d+i for i in range(n-d+1)]:\n",
      "        qk = pow(q,k);\n",
      "        pnk = pow(p,n-k);\n",
      "        prefact = factorial(n)/(factorial(n-k)*factorial(k));\n",
      "        pr = pr + prefact*qk*pnk;\n",
      "    return pr"
     ],
     "language": "python",
     "metadata": {},
     "outputs": [],
     "prompt_number": 8
    },
    {
     "cell_type": "code",
     "collapsed": false,
     "input": [
      "\n",
      "\n"
     ],
     "language": "python",
     "metadata": {},
     "outputs": [],
     "prompt_number": 8
    },
    {
     "cell_type": "markdown",
     "metadata": {},
     "source": [
      "### Probability of choosing a special configuration"
     ]
    },
    {
     "cell_type": "code",
     "collapsed": false,
     "input": [
      "pConfig = 1.0*(factorial(s-n+1)*factorial(n-1))/(m*factorial(s));"
     ],
     "language": "python",
     "metadata": {},
     "outputs": [],
     "prompt_number": 9
    },
    {
     "cell_type": "markdown",
     "metadata": {},
     "source": [
      "### Sum up"
     ]
    },
    {
     "cell_type": "code",
     "collapsed": false,
     "input": [
      "def getProbaFileLost(m,n,s,d,pList):\n",
      "    p = 0.0;\n",
      "    pConfig = 1.0*(factorial(s-n+1)*factorial(n-1))/(m*factorial(s));\n",
      "    feasibleConfig = getFeasibleConfig(m,n,s);\n",
      "    for a in feasibleConfig:\n",
      "        print(a)\n",
      "    for config in feasibleConfig:\n",
      "        print(list(config))\n",
      "        p = p + pConfig*getPAtLeastdFail(list(config),d,n,pList);\n",
      "    return p"
     ],
     "language": "python",
     "metadata": {},
     "outputs": [],
     "prompt_number": 10
    },
    {
     "cell_type": "code",
     "collapsed": false,
     "input": [
      "pConfig = 1.0*(factorial(s-n+1)*factorial(n-1))/(m*factorial(s));\n",
      "eps = 0.00001;\n",
      "pList = [uniform(0.9,1-eps) for i in range(m)]; # pList[i] contains the reliability of the disk number ()\n",
      "print(getProbaFileLost(m,n,s,d,pList))\n",
      "print(\"\")\n",
      "# \u00e0 la mano\n",
      "pMan = (1-pList[0])*pList[1] + pList[0]*(1-pList[1]) + (1-pList[0])*(1-pList[1]);\n",
      "pMan = pMan + (1-pList[1])*pList[2] + pList[1]*(1-pList[2]) + (1-pList[1])*(1-pList[2]);\n",
      "pMan = pMan + (1-pList[2])*pList[3] + pList[2]*(1-pList[3]) + (1-pList[2])*(1-pList[3]);\n",
      "pMan = pMan + (1-pList[3])*pList[4] + pList[3]*(1-pList[4]) + (1-pList[3])*(1-pList[4]);\n",
      "pMan = pMan + (1-pList[0])*pList[4] + pList[0]*(1-pList[4]) + (1-pList[0])*(1-pList[4]);\n",
      "pMan = pMan*pConfig;\n",
      "print(pMan)\n",
      "print(pConfig)"
     ],
     "language": "python",
     "metadata": {},
     "outputs": [
      {
       "ename": "NameError",
       "evalue": "global name 'getFeasibleConfig' is not defined",
       "output_type": "pyerr",
       "traceback": [
        "\u001b[0;31m---------------------------------------------------------------------------\u001b[0m\n\u001b[0;31mNameError\u001b[0m                                 Traceback (most recent call last)",
        "\u001b[0;32m<ipython-input-11-464cb051de89>\u001b[0m in \u001b[0;36m<module>\u001b[0;34m()\u001b[0m\n\u001b[1;32m      2\u001b[0m \u001b[0meps\u001b[0m \u001b[0;34m=\u001b[0m \u001b[0;36m0.00001\u001b[0m\u001b[0;34m;\u001b[0m\u001b[0;34m\u001b[0m\u001b[0m\n\u001b[1;32m      3\u001b[0m \u001b[0mpList\u001b[0m \u001b[0;34m=\u001b[0m \u001b[0;34m[\u001b[0m\u001b[0muniform\u001b[0m\u001b[0;34m(\u001b[0m\u001b[0;36m0.9\u001b[0m\u001b[0;34m,\u001b[0m\u001b[0;36m1\u001b[0m\u001b[0;34m-\u001b[0m\u001b[0meps\u001b[0m\u001b[0;34m)\u001b[0m \u001b[0;32mfor\u001b[0m \u001b[0mi\u001b[0m \u001b[0;32min\u001b[0m \u001b[0mrange\u001b[0m\u001b[0;34m(\u001b[0m\u001b[0mm\u001b[0m\u001b[0;34m)\u001b[0m\u001b[0;34m]\u001b[0m\u001b[0;34m;\u001b[0m \u001b[0;31m# pList[i] contains the reliability of the disk number ()\u001b[0m\u001b[0;34m\u001b[0m\u001b[0m\n\u001b[0;32m----> 4\u001b[0;31m \u001b[0;32mprint\u001b[0m\u001b[0;34m(\u001b[0m\u001b[0mgetProbaFileLost\u001b[0m\u001b[0;34m(\u001b[0m\u001b[0mm\u001b[0m\u001b[0;34m,\u001b[0m\u001b[0mn\u001b[0m\u001b[0;34m,\u001b[0m\u001b[0ms\u001b[0m\u001b[0;34m,\u001b[0m\u001b[0md\u001b[0m\u001b[0;34m,\u001b[0m\u001b[0mpList\u001b[0m\u001b[0;34m)\u001b[0m\u001b[0;34m)\u001b[0m\u001b[0;34m\u001b[0m\u001b[0m\n\u001b[0m\u001b[1;32m      5\u001b[0m \u001b[0;32mprint\u001b[0m\u001b[0;34m(\u001b[0m\u001b[0;34m\"\"\u001b[0m\u001b[0;34m)\u001b[0m\u001b[0;34m\u001b[0m\u001b[0m\n\u001b[1;32m      6\u001b[0m \u001b[0;31m# \u00e0 la mano\u001b[0m\u001b[0;34m\u001b[0m\u001b[0;34m\u001b[0m\u001b[0m\n",
        "\u001b[0;32m<ipython-input-10-5f75768c538a>\u001b[0m in \u001b[0;36mgetProbaFileLost\u001b[0;34m(m, n, s, d, pList)\u001b[0m\n\u001b[1;32m      2\u001b[0m     \u001b[0mp\u001b[0m \u001b[0;34m=\u001b[0m \u001b[0;36m0.0\u001b[0m\u001b[0;34m;\u001b[0m\u001b[0;34m\u001b[0m\u001b[0m\n\u001b[1;32m      3\u001b[0m     \u001b[0mpConfig\u001b[0m \u001b[0;34m=\u001b[0m \u001b[0;36m1.0\u001b[0m\u001b[0;34m*\u001b[0m\u001b[0;34m(\u001b[0m\u001b[0mfactorial\u001b[0m\u001b[0;34m(\u001b[0m\u001b[0ms\u001b[0m\u001b[0;34m-\u001b[0m\u001b[0mn\u001b[0m\u001b[0;34m+\u001b[0m\u001b[0;36m1\u001b[0m\u001b[0;34m)\u001b[0m\u001b[0;34m*\u001b[0m\u001b[0mfactorial\u001b[0m\u001b[0;34m(\u001b[0m\u001b[0mn\u001b[0m\u001b[0;34m-\u001b[0m\u001b[0;36m1\u001b[0m\u001b[0;34m)\u001b[0m\u001b[0;34m)\u001b[0m\u001b[0;34m/\u001b[0m\u001b[0;34m(\u001b[0m\u001b[0mm\u001b[0m\u001b[0;34m*\u001b[0m\u001b[0mfactorial\u001b[0m\u001b[0;34m(\u001b[0m\u001b[0ms\u001b[0m\u001b[0;34m)\u001b[0m\u001b[0;34m)\u001b[0m\u001b[0;34m;\u001b[0m\u001b[0;34m\u001b[0m\u001b[0m\n\u001b[0;32m----> 4\u001b[0;31m     \u001b[0mfeasibleConfig\u001b[0m \u001b[0;34m=\u001b[0m \u001b[0mgetFeasibleConfig\u001b[0m\u001b[0;34m(\u001b[0m\u001b[0mm\u001b[0m\u001b[0;34m,\u001b[0m\u001b[0mn\u001b[0m\u001b[0;34m,\u001b[0m\u001b[0ms\u001b[0m\u001b[0;34m)\u001b[0m\u001b[0;34m;\u001b[0m\u001b[0;34m\u001b[0m\u001b[0m\n\u001b[0m\u001b[1;32m      5\u001b[0m     \u001b[0;32mfor\u001b[0m \u001b[0ma\u001b[0m \u001b[0;32min\u001b[0m \u001b[0mfeasibleConfig\u001b[0m\u001b[0;34m:\u001b[0m\u001b[0;34m\u001b[0m\u001b[0m\n\u001b[1;32m      6\u001b[0m         \u001b[0;32mprint\u001b[0m\u001b[0;34m(\u001b[0m\u001b[0ma\u001b[0m\u001b[0;34m)\u001b[0m\u001b[0;34m\u001b[0m\u001b[0m\n",
        "\u001b[0;31mNameError\u001b[0m: global name 'getFeasibleConfig' is not defined"
       ]
      }
     ],
     "prompt_number": 11
    },
    {
     "cell_type": "code",
     "collapsed": false,
     "input": [
      "1/5.0"
     ],
     "language": "python",
     "metadata": {},
     "outputs": []
    },
    {
     "cell_type": "code",
     "collapsed": false,
     "input": [],
     "language": "python",
     "metadata": {},
     "outputs": []
    }
   ],
   "metadata": {}
  }
 ]
}