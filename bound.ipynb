{
 "metadata": {
  "name": "",
  "signature": "sha256:f28d952fb8e5f04f33754e1f3067c0b2d425dbee0b360e27fb422a45091e39c1"
 },
 "nbformat": 3,
 "nbformat_minor": 0,
 "worksheets": [
  {
   "cells": [
    {
     "cell_type": "code",
     "collapsed": false,
     "input": [
      "import file_loss as fl\n",
      "from numpy.random import (uniform)\n",
      "from numpy import (mean)\n",
      "\n",
      "def max_configuration(disks, unreliabilities, mean_unreliability, chunk_count):\n",
      "    \"\"\"\n",
      "    \"\"\"\n",
      "    \n",
      "    diff = {disk: abs(unreliabilities[disk] - mean_unreliability) for disk in disks}\n",
      "\n",
      "    return sorted(diff, key=diff.get, reverse=True)[:chunk_count]\n",
      "\n",
      "import numpy as np\n",
      "\n",
      "def O(matrix, power):\n",
      "    \"\"\"\n",
      "    \"\"\"\n",
      "    O_matrix = (np.eye(len(matrix), k=0, dtype=float) - \n",
      "               np.eye(len(matrix), k=1, dtype=float))\n",
      "    \n",
      "    O_matrices = [O_matrix for i in range(power)]\n",
      "    \n",
      "    operator = reduce(np.dot, O_matrices)\n",
      "    \n",
      "    return np.dot(matrix,operator)\n",
      "\n",
      "def H_matrix(size, eta):\n",
      "    \"\"\"\n",
      "    \"\"\"\n",
      "    return (eta * np.eye(size, k=0, dtype=float) +\n",
      "            np.eye(size, k=1, dtype=float))\n",
      "\n",
      "def alpha(disks, etas, position):\n",
      "    \"\"\"\n",
      "    \"\"\"\n",
      " \n",
      "    H_matrices = [H_matrix(len(disks), etas[disk])\n",
      "                  for disk in disks]\n",
      "\n",
      "    return reduce(np.dot, H_matrices)[0, position]\n",
      "    \n",
      "def transfer_matrix(p, q, size):\n",
      "    \"\"\"\n",
      "    \"\"\"\n",
      "\n",
      "    return (q * np.eye(size, k=0, dtype=float) +\n",
      "            p * np.eye(size, k=1, dtype=float))\n",
      "\n",
      "def sum_first_row(disks, threshold, p, q, power):\n",
      "    \"\"\"\n",
      "    \"\"\"\n",
      "    failure_threshold = len(disks) - threshold + 1\n",
      "    \n",
      "    if len(disks) - power != 0:\n",
      "        tf_matrix = transfer_matrix(p, q, failure_threshold)\n",
      "        matrice = reduce(np.dot, [tf_matrix for i in range(len(disks) - power)])\n",
      "    else:\n",
      "        matrice = np.eye(failure_threshold, k=0, dtype=float)\n",
      "    \n",
      "    return np.sum(O(matrice, power), axis=1)[0]\n",
      "\n",
      "def term(disks, etas, threshold, p, q):\n",
      "    \"\"\"\n",
      "    \"\"\"\n",
      "    \n",
      "    power = [i+1 for i in range(len(disks))]\n",
      "    \n",
      "    position = [k  for k in reversed(range(len(disks)))]\n",
      "    \n",
      "    return [alpha(disks, etas, position[index]) * sum_first_row(disks, threshold, p, q, power[index])\n",
      "            for index in range(len(disks))]"
     ],
     "language": "python",
     "metadata": {},
     "outputs": [],
     "prompt_number": 26
    },
    {
     "cell_type": "code",
     "collapsed": false,
     "input": [
      "disk_count = 3000\n",
      "disks = range(disk_count)\n",
      "\n",
      "chunk_count = 12\n",
      "\n",
      "threshold = 3\n",
      "\n",
      "unreliabilities = dict(zip(disks, uniform(0, 10**-3, disk_count)))\n",
      "\n",
      "mean_unreliability = mean([unreliabilities[disk] for disk in disks])\n",
      "\n",
      "configuration = {disk: unreliabilities[disk] \n",
      "                 for disk in max_configuration(disks, unreliabilities, mean_unreliability, chunk_count)}\n",
      "\n",
      "etas = {disk: unreliabilities[disk] - mean_unreliability \n",
      "        for disk in max_configuration(disks, unreliabilities, mean_unreliability, chunk_count)}\n",
      "\n",
      "print(abs(sum(term(configuration, etas, threshold, 1. - mean_unreliability, mean_unreliability))) + \n",
      "      fl.probability_at_least_d_fail_equal_reliability(threshold, chunk_count, 1. - mean_unreliability))\n",
      "\n",
      "print(fl.probability_at_least_d_fail_equal_reliability(threshold, chunk_count, 1. - mean_unreliability) - \n",
      "      abs(sum(term(configuration, etas, threshold, 1. - mean_unreliability, mean_unreliability))))"
     ],
     "language": "python",
     "metadata": {},
     "outputs": [
      {
       "output_type": "stream",
       "stream": "stdout",
       "text": [
        "5.6597315177e-08\n",
        "1.79134547783e-16\n"
       ]
      }
     ],
     "prompt_number": 46
    },
    {
     "cell_type": "code",
     "collapsed": false,
     "input": [
      "unreliability = 10**-3\n",
      "reliability = 1.0 - unreliability\n",
      "\n",
      "delta_list = linspace(10**-6, 10**-3, 30)\n",
      "\n",
      "threshold = 6\n",
      "chunk_count = 15\n",
      "theta1 = 300./1000.\n",
      "theta2 = 400./1000.\n",
      "theta3 = 300./1000.\n",
      "theta22 = 500./1000.\n",
      "theta11 = 500./1000.\n",
      "plus = [fl.probability_at_least_d_fail_equal_reliability(threshold, chunk_count, reliability + 0.5 * delta)\n",
      "        for delta in delta_list]\n",
      "\n",
      "moy = [fl.probability_at_least_d_fail_equal_reliability(threshold, chunk_count, reliability)\n",
      "        for delta in delta_list]\n",
      "\n",
      "moins = [fl.probability_at_least_d_fail_equal_reliability(threshold, chunk_count, reliability - 0.5 * delta)\n",
      "         for delta in delta_list]\n",
      "\n",
      "plot(delta_list, moins)\n",
      "plot(delta_list, moy, '+')\n",
      "plot(delta_list, [theta22 * plus[i] + theta11 * moins[i] for i in range(len(delta_list))], '*')\n",
      "plot(delta_list, [theta2 * plus[i] + theta1 * moins[i] + theta3 * moy[i] for i in range(len(delta_list))], 'o')\n",
      "plot(delta_list, plus)"
     ],
     "language": "python",
     "metadata": {},
     "outputs": [
      {
       "metadata": {},
       "output_type": "pyout",
       "prompt_number": 89,
       "text": [
        "[<matplotlib.lines.Line2D at 0x7fd933abf8d0>]"
       ]
      },
      {
       "metadata": {},
       "output_type": "display_data",
       "png": "[encoded data removed]",
       "text": [
        "<matplotlib.figure.Figure at 0x7fd933ba7290>"
       ]
      }
     ],
     "prompt_number": 89
    },
    {
     "cell_type": "code",
     "collapsed": false,
     "input": [
      "unreliability = 10**-3\n",
      "reliability = 1.0 - unreliability\n",
      "\n",
      "chunk_count_list = range(7,21)\n",
      "\n",
      "threshold = 6\n",
      "\n",
      "rel = [fl.probability_at_least_d_fail_equal_reliability(threshold, chunk_count, reliability)\n",
      "        for chunk_count in chunk_count_list]\n",
      "\n",
      "plot(chunk_count_list, rel)"
     ],
     "language": "python",
     "metadata": {},
     "outputs": [
      {
       "metadata": {},
       "output_type": "pyout",
       "prompt_number": 63,
       "text": [
        "[<matplotlib.lines.Line2D at 0x7fd93cd74210>]"
       ]
      },
      {
       "metadata": {},
       "output_type": "display_data",
       "png": "[encoded data removed]",
       "text": [
        "<matplotlib.figure.Figure at 0x7fd93cdc7d50>"
       ]
      }
     ],
     "prompt_number": 63
    },
    {
     "cell_type": "code",
     "collapsed": false,
     "input": [
      "unreliability = 10**-3\n",
      "reliability = 1.0 - unreliability\n",
      "\n",
      "chunk_count = 15\n",
      "\n",
      "threshold_list = range(3,chunk_count)\n",
      "\n",
      "rel = [fl.probability_at_least_d_fail_equal_reliability(threshold, chunk_count, reliability)\n",
      "        for threshold in threshold_list]\n",
      "\n",
      "plot(threshold_list, rel)"
     ],
     "language": "python",
     "metadata": {},
     "outputs": [
      {
       "metadata": {},
       "output_type": "pyout",
       "prompt_number": 69,
       "text": [
        "[<matplotlib.lines.Line2D at 0x7fd93c925710>]"
       ]
      },
      {
       "metadata": {},
       "output_type": "display_data",
       "png": "[encoded data removed]",
       "text": [
        "<matplotlib.figure.Figure at 0x7fd93c982390>"
       ]
      }
     ],
     "prompt_number": 69
    },
    {
     "cell_type": "code",
     "collapsed": false,
     "input": [],
     "language": "python",
     "metadata": {},
     "outputs": []
    }
   ],
   "metadata": {}
  }
 ]
}