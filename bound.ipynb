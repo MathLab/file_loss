{
 "metadata": {
  "name": "",
  "signature": "sha256:cbfbd3bce3a13cee530f1e43743a05e909910c6eeb41c6bf1ee708d6b0f4d1bf"
 },
 "nbformat": 3,
 "nbformat_minor": 0,
 "worksheets": [
  {
   "cells": [
    {
     "cell_type": "code",
     "collapsed": false,
     "input": [
      "import file_loss as fl\n",
      "from numpy.random import (uniform)\n",
      "from numpy import (mean)\n",
      "import numpy as np\n",
      "from math import factorial\n",
      "\n",
      "def max_configuration(disks, unreliabilities, mean_unreliability, chunk_count):\n",
      "    \"\"\"\n",
      "      Return the configuration such that the sum of unreliabilities is maximal\n",
      "    \"\"\"\n",
      "    \n",
      "    diff = {disk: abs(unreliabilities[disk] - mean_unreliability) for disk in disks}\n",
      "\n",
      "    return sorted(diff, key=diff.get, reverse=True)[:chunk_count]\n",
      "\n",
      "def O(matrix, power):\n",
      "    \"\"\"\n",
      "      Returns the matrix representation of opeateur O as O^{power}\n",
      "    \"\"\"\n",
      "    O_matrix = (np.eye(len(matrix), k=0, dtype=float) - \n",
      "               np.eye(len(matrix), k=1, dtype=float))\n",
      "    \n",
      "    O_matrices = [O_matrix for i in range(power)]\n",
      "    \n",
      "    operator = reduce(np.dot, O_matrices)\n",
      "    \n",
      "    return np.dot(matrix,operator)\n",
      "\n",
      "def H_matrix(size, eta):\n",
      "    \"\"\"\n",
      "    \"\"\"\n",
      "    return (eta * np.eye(size, k=0, dtype=float) +\n",
      "            np.eye(size, k=1, dtype=float))\n",
      "\n",
      "def alpha(disks, etas, position):\n",
      "    \"\"\"\n",
      "      Returns the coefficient alpha_{position}\n",
      "    \"\"\"\n",
      " \n",
      "    H_matrices = [H_matrix(len(disks), etas[disk])\n",
      "                  for disk in disks]\n",
      "\n",
      "    return reduce(np.dot, H_matrices)[0, position]\n",
      "    \n",
      "def transfer_matrix(p, q, size):\n",
      "    \"\"\"\n",
      "    Returns the transfer matrix with q on the diagonal and p on the sup diagonal\n",
      "    \"\"\"\n",
      "\n",
      "    return (q * np.eye(size, k=0, dtype=float) +\n",
      "            p * np.eye(size, k=1, dtype=float))\n",
      "\n",
      "def sum_first_row(disks, threshold, p, q, power):\n",
      "    \"\"\"\n",
      "      Returns the sum of the first row of the product matrice*O^{power}\n",
      "    \"\"\"\n",
      "    failure_threshold = len(disks) - threshold + 1\n",
      "    \n",
      "    if len(disks) - power != 0:\n",
      "        tf_matrix = transfer_matrix(p, q, failure_threshold)\n",
      "        matrice = reduce(np.dot, [tf_matrix for i in range(len(disks) - power)])\n",
      "    else:\n",
      "        matrice = np.eye(failure_threshold, k=0, dtype=float)\n",
      "    \n",
      "    return np.sum(O(matrice, power), axis=1)[0]\n",
      "\n",
      "def term(disks, etas, threshold, p, q):\n",
      "    \"\"\"\n",
      "      Returns the list of terms alpha_{k} * \\overline{Lambda}^{n - k}*O^k\n",
      "    \"\"\"\n",
      "    \n",
      "    power = [i+1 for i in range(len(disks))]\n",
      "    \n",
      "    position = [k  for k in reversed(range(len(disks)))]\n",
      "    \n",
      "    return [alpha(disks, etas, position[index]) * sum_first_row(disks, threshold, p, q, power[index])\n",
      "            for index in range(len(disks))]"
     ],
     "language": "python",
     "metadata": {},
     "outputs": [],
     "prompt_number": 1
    },
    {
     "cell_type": "code",
     "collapsed": false,
     "input": [
      "def bound(disks, etas, threshold, p, q, delta):\n",
      "    \"\"\"\n",
      "    \"\"\"\n",
      "    \n",
      "    power = [i+1 for i in range(len(disks))]\n",
      "    \n",
      "    position = [k  for k in reversed(range(len(disks)))]\n",
      "    \n",
      "    prefact = [factorial(len(disks)) / (factorial(len(disks) - k + 1) * factorial(k + 1))\n",
      "               for k in range(len(disks))]\n",
      "    \n",
      "    return [0.25 * delta**2 * abs(sum_first_row(disks, threshold, p, q, power[index]))\n",
      "            for index in range(len(disks))]"
     ],
     "language": "python",
     "metadata": {},
     "outputs": [],
     "prompt_number": 17
    },
    {
     "cell_type": "code",
     "collapsed": false,
     "input": [
      "disk_count = 3000\n",
      "disks = range(disk_count)\n",
      "\n",
      "chunk_count = 15\n",
      "\n",
      "threshold = 4\n",
      "\n",
      "unreliabilities = uniform(0, 10**-3, disk_count)\n",
      "\n",
      "mean_unreliability = mean(unreliabilities)\n",
      "\n",
      "mean_reliability = 1. - mean_unreliability\n",
      "\n",
      "min_q = min(unreliabilities)\n",
      "max_p = 1. - min_q\n",
      "\n",
      "max_q = max(unreliabilities)\n",
      "min_p = 1. - max_q\n",
      "\n",
      "print(fl.probability_at_least_d_fail_equal_reliability(threshold, chunk_count, max_p))\n",
      "print(fl.probability_at_least_d_fail_equal_reliability(threshold, chunk_count, mean_reliability))\n",
      "print(fl.probability_at_least_d_fail_equal_reliability(threshold, chunk_count, min_p))"
     ],
     "language": "python",
     "metadata": {},
     "outputs": [
      {
       "output_type": "stream",
       "stream": "stdout",
       "text": [
        "3.74267299553e-23\n",
        "8.82662218416e-11\n",
        "1.34993508629e-09\n"
       ]
      }
     ],
     "prompt_number": 24
    },
    {
     "cell_type": "code",
     "collapsed": false,
     "input": [
      "chunk_count = 20\n",
      "threshold = 4\n",
      "\n",
      "delta_list = linspace(10**-6, 10**-3, 100)\n",
      "\n",
      "mean_p = 0.999\n",
      "\n",
      "lower = [fl.probability_at_least_d_fail_equal_reliability(threshold, chunk_count, mean_p - 0.5 * delta)\n",
      "         for delta in delta_list]\n",
      "\n",
      "mean_rel = [fl.probability_at_least_d_fail_equal_reliability(threshold, chunk_count, mean_p)\n",
      "         for delta in delta_list]\n",
      "\n",
      "upper = [fl.probability_at_least_d_fail_equal_reliability(threshold, chunk_count, mean_p + 0.5 * delta)\n",
      "         for delta in delta_list]\n",
      "\n",
      "plot(delta_list, lower, '+')\n",
      "plot(delta_list, mean_rel, 'o')\n",
      "plot(delta_list, upper, '*')"
     ],
     "language": "python",
     "metadata": {},
     "outputs": [
      {
       "metadata": {},
       "output_type": "pyout",
       "prompt_number": 41,
       "text": [
        "[<matplotlib.lines.Line2D at 0x7fc15251afd0>]"
       ]
      },
      {
       "metadata": {},
       "output_type": "display_data",
       "png": "[encoded data removed]",
       "text": [
        "<matplotlib.figure.Figure at 0x7fc1525fae50>"
       ]
      }
     ],
     "prompt_number": 41
    },
    {
     "cell_type": "code",
     "collapsed": false,
     "input": [
      "plot(delta_list, [abs(upper[i] - lower[i]) for i in range(len(delta_list))], '+')"
     ],
     "language": "python",
     "metadata": {},
     "outputs": [
      {
       "metadata": {},
       "output_type": "pyout",
       "prompt_number": 42,
       "text": [
        "[<matplotlib.lines.Line2D at 0x7fc1524cb410>]"
       ]
      },
      {
       "metadata": {},
       "output_type": "display_data",
       "png": "[encoded data removed]",
       "text": [
        "<matplotlib.figure.Figure at 0x7fc15279b1d0>"
       ]
      }
     ],
     "prompt_number": 42
    },
    {
     "cell_type": "code",
     "collapsed": false,
     "input": [
      "from scipy import stats\n",
      "log_err = [log(abs(upper[i] - lower[i])) for i in range(len(delta_list))]\n",
      "delta_log = [log(delta) for delta in delta_list]\n",
      "plot(delta_log, log_err, '+')\n",
      "\n",
      "slope, intercept, r_value, p_value, std_err = stats.linregress(delta_log, log_err)\n",
      "print(slope) # slope of the regression line\n",
      "print(\"\")\n",
      "print(intercept) # intercept of the regression line\n",
      "print(\"\")\n",
      "print(r_value) # correlation coefficient\n",
      "print(\"\")\n",
      "print(p_value) # two-sided p-value for a hypothesis test whose null hypothesis is that the slope is zero\n",
      "print(\"\")\n",
      "print(std_err) # Standard error of the estimate"
     ],
     "language": "python",
     "metadata": {},
     "outputs": [
      {
       "output_type": "stream",
       "stream": "stdout",
       "text": [
        "1.04479878212\n",
        "\n",
        "-10.4350452703\n",
        "\n",
        "0.999165167542\n",
        "\n",
        "6.39038030255e-138\n",
        "\n",
        "0.00431525371819\n"
       ]
      },
      {
       "metadata": {},
       "output_type": "display_data",
       "png": "[encoded data removed]",
       "text": [
        "<matplotlib.figure.Figure at 0x7fc15265ca50>"
       ]
      }
     ],
     "prompt_number": 43
    },
    {
     "cell_type": "code",
     "collapsed": false,
     "input": [],
     "language": "python",
     "metadata": {},
     "outputs": []
    }
   ],
   "metadata": {}
  }
 ]
}